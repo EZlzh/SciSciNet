{
 "cells": [
  {
   "cell_type": "code",
   "execution_count": 1,
   "metadata": {},
   "outputs": [],
   "source": [
    "import pandas as pd\n",
    "date_str = '2021-12-06'"
   ]
  },
  {
   "cell_type": "code",
   "execution_count": 2,
   "metadata": {},
   "outputs": [
    {
     "name": "stdout",
     "output_type": "stream",
     "text": [
      "CPU times: user 11min 13s, sys: 1min 49s, total: 13min 3s\n",
      "Wall time: 13min 3s\n"
     ]
    },
    {
     "data": {
      "text/html": [
       "<div>\n",
       "<style scoped>\n",
       "    .dataframe tbody tr th:only-of-type {\n",
       "        vertical-align: middle;\n",
       "    }\n",
       "\n",
       "    .dataframe tbody tr th {\n",
       "        vertical-align: top;\n",
       "    }\n",
       "\n",
       "    .dataframe thead th {\n",
       "        text-align: right;\n",
       "    }\n",
       "</style>\n",
       "<table border=\"1\" class=\"dataframe\">\n",
       "  <thead>\n",
       "    <tr style=\"text-align: right;\">\n",
       "      <th></th>\n",
       "      <th>0</th>\n",
       "      <th>2</th>\n",
       "      <th>3</th>\n",
       "      <th>4</th>\n",
       "      <th>6</th>\n",
       "      <th>7</th>\n",
       "      <th>8</th>\n",
       "      <th>10</th>\n",
       "      <th>JID</th>\n",
       "      <th>CSID</th>\n",
       "      <th>...</th>\n",
       "      <th>15</th>\n",
       "      <th>16</th>\n",
       "      <th>17</th>\n",
       "      <th>21</th>\n",
       "      <th>22</th>\n",
       "      <th>24</th>\n",
       "      <th>JNAME</th>\n",
       "      <th>CSNAME</th>\n",
       "      <th>CINAME</th>\n",
       "      <th>1</th>\n",
       "    </tr>\n",
       "  </thead>\n",
       "  <tbody>\n",
       "    <tr>\n",
       "      <th>0</th>\n",
       "      <td>2789336</td>\n",
       "      <td>NaN</td>\n",
       "      <td>Journal</td>\n",
       "      <td>inheritance and polymorphism in datalog an exp...</td>\n",
       "      <td>EJC</td>\n",
       "      <td>2008.0</td>\n",
       "      <td>2008-01-01</td>\n",
       "      <td>NaN</td>\n",
       "      <td>2.048520e+08</td>\n",
       "      <td>NaN</td>\n",
       "      <td>...</td>\n",
       "      <td>NaN</td>\n",
       "      <td>354.0</td>\n",
       "      <td>358.0</td>\n",
       "      <td>European Journal of Combinatorics</td>\n",
       "      <td>2789336.0</td>\n",
       "      <td>NaN</td>\n",
       "      <td>european journal of combinatorics</td>\n",
       "      <td>NaN</td>\n",
       "      <td>NaN</td>\n",
       "      <td>Paolo Atzeni, Giorgio Gianforme</td>\n",
       "    </tr>\n",
       "    <tr>\n",
       "      <th>1</th>\n",
       "      <td>9552966</td>\n",
       "      <td>NaN</td>\n",
       "      <td>Journal</td>\n",
       "      <td>the effect of milk on plasmatic and tissue lev...</td>\n",
       "      <td>NaN</td>\n",
       "      <td>2005.0</td>\n",
       "      <td>2005-05-01</td>\n",
       "      <td>NaN</td>\n",
       "      <td>2.737569e+09</td>\n",
       "      <td>NaN</td>\n",
       "      <td>...</td>\n",
       "      <td>2.0</td>\n",
       "      <td>113.0</td>\n",
       "      <td>118.0</td>\n",
       "      <td>Revista de Ciências Farmacêuticas Básica e Apl...</td>\n",
       "      <td>9552966.0</td>\n",
       "      <td>NaN</td>\n",
       "      <td>revista de ciencias farmaceuticas basica e apl...</td>\n",
       "      <td>NaN</td>\n",
       "      <td>NaN</td>\n",
       "      <td>F. S. Del Fiol, M. I. Toledo, F. C. Groppo</td>\n",
       "    </tr>\n",
       "    <tr>\n",
       "      <th>2</th>\n",
       "      <td>9694411</td>\n",
       "      <td>NaN</td>\n",
       "      <td>Conference</td>\n",
       "      <td>can functional programming be liberated from t...</td>\n",
       "      <td>IFIP Congress (1)</td>\n",
       "      <td>1994.0</td>\n",
       "      <td>1994-01-01</td>\n",
       "      <td>NaN</td>\n",
       "      <td>NaN</td>\n",
       "      <td>2.755927e+09</td>\n",
       "      <td>...</td>\n",
       "      <td>NaN</td>\n",
       "      <td>330.0</td>\n",
       "      <td>335.0</td>\n",
       "      <td>ifip congress</td>\n",
       "      <td>9694411.0</td>\n",
       "      <td>NaN</td>\n",
       "      <td>NaN</td>\n",
       "      <td>ifip congress</td>\n",
       "      <td>NaN</td>\n",
       "      <td>Wolfram Kahl</td>\n",
       "    </tr>\n",
       "    <tr>\n",
       "      <th>3</th>\n",
       "      <td>14355006</td>\n",
       "      <td>NaN</td>\n",
       "      <td>Repository</td>\n",
       "      <td>realizing the asian century a strategic framework</td>\n",
       "      <td>NaN</td>\n",
       "      <td>2011.0</td>\n",
       "      <td>2011-01-01</td>\n",
       "      <td>Emerging Markets Forum</td>\n",
       "      <td>3.121261e+09</td>\n",
       "      <td>NaN</td>\n",
       "      <td>...</td>\n",
       "      <td>NaN</td>\n",
       "      <td>63.0</td>\n",
       "      <td>70.0</td>\n",
       "      <td>Research Papers in Economics</td>\n",
       "      <td>14355006.0</td>\n",
       "      <td>NaN</td>\n",
       "      <td>research papers in economics</td>\n",
       "      <td>NaN</td>\n",
       "      <td>NaN</td>\n",
       "      <td>Harinder Kohli, Ashok Sharma, Anil Sood</td>\n",
       "    </tr>\n",
       "    <tr>\n",
       "      <th>4</th>\n",
       "      <td>14558443</td>\n",
       "      <td>10.1007/978-3-662-45174-8_28</td>\n",
       "      <td>Conference</td>\n",
       "      <td>the adaptive priority queue with elimination a...</td>\n",
       "      <td>DISC</td>\n",
       "      <td>2014.0</td>\n",
       "      <td>2014-10-12</td>\n",
       "      <td>Springer, Berlin, Heidelberg</td>\n",
       "      <td>NaN</td>\n",
       "      <td>1.131603e+09</td>\n",
       "      <td>...</td>\n",
       "      <td>NaN</td>\n",
       "      <td>406.0</td>\n",
       "      <td>420.0</td>\n",
       "      <td>international symposium on distributed computing</td>\n",
       "      <td>14558443.0</td>\n",
       "      <td>NaN</td>\n",
       "      <td>NaN</td>\n",
       "      <td>international symposium on distributed computing</td>\n",
       "      <td>disc 2014</td>\n",
       "      <td>Irina Calciu, Hammurabi Mendes, Maurice Herlihy</td>\n",
       "    </tr>\n",
       "    <tr>\n",
       "      <th>...</th>\n",
       "      <td>...</td>\n",
       "      <td>...</td>\n",
       "      <td>...</td>\n",
       "      <td>...</td>\n",
       "      <td>...</td>\n",
       "      <td>...</td>\n",
       "      <td>...</td>\n",
       "      <td>...</td>\n",
       "      <td>...</td>\n",
       "      <td>...</td>\n",
       "      <td>...</td>\n",
       "      <td>...</td>\n",
       "      <td>...</td>\n",
       "      <td>...</td>\n",
       "      <td>...</td>\n",
       "      <td>...</td>\n",
       "      <td>...</td>\n",
       "      <td>...</td>\n",
       "      <td>...</td>\n",
       "      <td>...</td>\n",
       "      <td>...</td>\n",
       "    </tr>\n",
       "    <tr>\n",
       "      <th>134129183</th>\n",
       "      <td>3215499129</td>\n",
       "      <td>10.1109/ICRERA52334.2021.9598593</td>\n",
       "      <td>NaN</td>\n",
       "      <td>design of a load frequency control based on a ...</td>\n",
       "      <td>NaN</td>\n",
       "      <td>2021.0</td>\n",
       "      <td>2021-09-26</td>\n",
       "      <td>IEEE</td>\n",
       "      <td>NaN</td>\n",
       "      <td>NaN</td>\n",
       "      <td>...</td>\n",
       "      <td>NaN</td>\n",
       "      <td>NaN</td>\n",
       "      <td>NaN</td>\n",
       "      <td>2021 10th International Conference on Renewabl...</td>\n",
       "      <td>NaN</td>\n",
       "      <td>NaN</td>\n",
       "      <td>NaN</td>\n",
       "      <td>NaN</td>\n",
       "      <td>NaN</td>\n",
       "      <td>Mohammed Kh. AL-Nussairi, Sadeq D. Al-Majidi, ...</td>\n",
       "    </tr>\n",
       "    <tr>\n",
       "      <th>134129184</th>\n",
       "      <td>3215845741</td>\n",
       "      <td>10.3389/FCVM.2021.766676</td>\n",
       "      <td>Journal</td>\n",
       "      <td>vagal neuromodulation in chronic heart failure...</td>\n",
       "      <td>NaN</td>\n",
       "      <td>2021.0</td>\n",
       "      <td>2021-11-24</td>\n",
       "      <td>Frontiers Media SA</td>\n",
       "      <td>2.595414e+09</td>\n",
       "      <td>NaN</td>\n",
       "      <td>...</td>\n",
       "      <td>NaN</td>\n",
       "      <td>NaN</td>\n",
       "      <td>NaN</td>\n",
       "      <td>Frontiers in Cardiovascular Medicine</td>\n",
       "      <td>NaN</td>\n",
       "      <td>NaN</td>\n",
       "      <td>frontiers in cardiovascular medicine</td>\n",
       "      <td>NaN</td>\n",
       "      <td>NaN</td>\n",
       "      <td>Lucas Bonacossa Sant'Anna, Sérgio Lívio Meneze...</td>\n",
       "    </tr>\n",
       "    <tr>\n",
       "      <th>134129185</th>\n",
       "      <td>3216186450</td>\n",
       "      <td>10.1016/J.IDNOW.2021.11.004</td>\n",
       "      <td>NaN</td>\n",
       "      <td>finger osteitis due to yokenella regensburgei ...</td>\n",
       "      <td>NaN</td>\n",
       "      <td>2021.0</td>\n",
       "      <td>2021-11-24</td>\n",
       "      <td>NaN</td>\n",
       "      <td>NaN</td>\n",
       "      <td>NaN</td>\n",
       "      <td>...</td>\n",
       "      <td>NaN</td>\n",
       "      <td>NaN</td>\n",
       "      <td>NaN</td>\n",
       "      <td>Infectious diseases now</td>\n",
       "      <td>NaN</td>\n",
       "      <td>NaN</td>\n",
       "      <td>NaN</td>\n",
       "      <td>NaN</td>\n",
       "      <td>NaN</td>\n",
       "      <td>E Denes, J Alain, I Lenoir</td>\n",
       "    </tr>\n",
       "    <tr>\n",
       "      <th>134129186</th>\n",
       "      <td>3216762448</td>\n",
       "      <td>10.1016/J.ISTRUC.2021.10.095</td>\n",
       "      <td>Journal</td>\n",
       "      <td>causal implementation of rate independent line...</td>\n",
       "      <td>NaN</td>\n",
       "      <td>2022.0</td>\n",
       "      <td>2022-01-01</td>\n",
       "      <td>Elsevier</td>\n",
       "      <td>2.898443e+09</td>\n",
       "      <td>NaN</td>\n",
       "      <td>...</td>\n",
       "      <td>NaN</td>\n",
       "      <td>274</td>\n",
       "      <td>288</td>\n",
       "      <td>Structures</td>\n",
       "      <td>NaN</td>\n",
       "      <td>NaN</td>\n",
       "      <td>structures</td>\n",
       "      <td>NaN</td>\n",
       "      <td>NaN</td>\n",
       "      <td>Wei Liu, Kohju Ikago</td>\n",
       "    </tr>\n",
       "    <tr>\n",
       "      <th>134129187</th>\n",
       "      <td>3217727977</td>\n",
       "      <td>10.1109/MLISE54096.2021.00043</td>\n",
       "      <td>Conference</td>\n",
       "      <td>network security intelligence information extr...</td>\n",
       "      <td>NaN</td>\n",
       "      <td>2021.0</td>\n",
       "      <td>2021-07-09</td>\n",
       "      <td>IEEE</td>\n",
       "      <td>NaN</td>\n",
       "      <td>1.180663e+09</td>\n",
       "      <td>...</td>\n",
       "      <td>NaN</td>\n",
       "      <td>203</td>\n",
       "      <td>209</td>\n",
       "      <td>international conference on machine learning</td>\n",
       "      <td>NaN</td>\n",
       "      <td>NaN</td>\n",
       "      <td>NaN</td>\n",
       "      <td>international conference on machine learning</td>\n",
       "      <td>icml 2021</td>\n",
       "      <td>Hang Yang, Haosen Wang, Huang Peng, Deqi Cao, ...</td>\n",
       "    </tr>\n",
       "  </tbody>\n",
       "</table>\n",
       "<p>134129188 rows × 22 columns</p>\n",
       "</div>"
      ],
      "text/plain": [
       "                    0                                 2           3  \\\n",
       "0             2789336                               NaN     Journal   \n",
       "1             9552966                               NaN     Journal   \n",
       "2             9694411                               NaN  Conference   \n",
       "3            14355006                               NaN  Repository   \n",
       "4            14558443      10.1007/978-3-662-45174-8_28  Conference   \n",
       "...               ...                               ...         ...   \n",
       "134129183  3215499129  10.1109/ICRERA52334.2021.9598593         NaN   \n",
       "134129184  3215845741          10.3389/FCVM.2021.766676     Journal   \n",
       "134129185  3216186450       10.1016/J.IDNOW.2021.11.004         NaN   \n",
       "134129186  3216762448      10.1016/J.ISTRUC.2021.10.095     Journal   \n",
       "134129187  3217727977     10.1109/MLISE54096.2021.00043  Conference   \n",
       "\n",
       "                                                           4  \\\n",
       "0          inheritance and polymorphism in datalog an exp...   \n",
       "1          the effect of milk on plasmatic and tissue lev...   \n",
       "2          can functional programming be liberated from t...   \n",
       "3          realizing the asian century a strategic framework   \n",
       "4          the adaptive priority queue with elimination a...   \n",
       "...                                                      ...   \n",
       "134129183  design of a load frequency control based on a ...   \n",
       "134129184  vagal neuromodulation in chronic heart failure...   \n",
       "134129185  finger osteitis due to yokenella regensburgei ...   \n",
       "134129186  causal implementation of rate independent line...   \n",
       "134129187  network security intelligence information extr...   \n",
       "\n",
       "                           6       7           8  \\\n",
       "0                        EJC  2008.0  2008-01-01   \n",
       "1                        NaN  2005.0  2005-05-01   \n",
       "2          IFIP Congress (1)  1994.0  1994-01-01   \n",
       "3                        NaN  2011.0  2011-01-01   \n",
       "4                       DISC  2014.0  2014-10-12   \n",
       "...                      ...     ...         ...   \n",
       "134129183                NaN  2021.0  2021-09-26   \n",
       "134129184                NaN  2021.0  2021-11-24   \n",
       "134129185                NaN  2021.0  2021-11-24   \n",
       "134129186                NaN  2022.0  2022-01-01   \n",
       "134129187                NaN  2021.0  2021-07-09   \n",
       "\n",
       "                                     10           JID          CSID  ...   15  \\\n",
       "0                                   NaN  2.048520e+08           NaN  ...  NaN   \n",
       "1                                   NaN  2.737569e+09           NaN  ...  2.0   \n",
       "2                                   NaN           NaN  2.755927e+09  ...  NaN   \n",
       "3                Emerging Markets Forum  3.121261e+09           NaN  ...  NaN   \n",
       "4          Springer, Berlin, Heidelberg           NaN  1.131603e+09  ...  NaN   \n",
       "...                                 ...           ...           ...  ...  ...   \n",
       "134129183                          IEEE           NaN           NaN  ...  NaN   \n",
       "134129184            Frontiers Media SA  2.595414e+09           NaN  ...  NaN   \n",
       "134129185                           NaN           NaN           NaN  ...  NaN   \n",
       "134129186                      Elsevier  2.898443e+09           NaN  ...  NaN   \n",
       "134129187                          IEEE           NaN  1.180663e+09  ...  NaN   \n",
       "\n",
       "              16     17                                                 21  \\\n",
       "0          354.0  358.0                  European Journal of Combinatorics   \n",
       "1          113.0  118.0  Revista de Ciências Farmacêuticas Básica e Apl...   \n",
       "2          330.0  335.0                                      ifip congress   \n",
       "3           63.0   70.0                       Research Papers in Economics   \n",
       "4          406.0  420.0   international symposium on distributed computing   \n",
       "...          ...    ...                                                ...   \n",
       "134129183    NaN    NaN  2021 10th International Conference on Renewabl...   \n",
       "134129184    NaN    NaN               Frontiers in Cardiovascular Medicine   \n",
       "134129185    NaN    NaN                            Infectious diseases now   \n",
       "134129186    274    288                                         Structures   \n",
       "134129187    203    209       international conference on machine learning   \n",
       "\n",
       "                   22  24                                              JNAME  \\\n",
       "0           2789336.0 NaN                  european journal of combinatorics   \n",
       "1           9552966.0 NaN  revista de ciencias farmaceuticas basica e apl...   \n",
       "2           9694411.0 NaN                                                NaN   \n",
       "3          14355006.0 NaN                       research papers in economics   \n",
       "4          14558443.0 NaN                                                NaN   \n",
       "...               ...  ..                                                ...   \n",
       "134129183         NaN NaN                                                NaN   \n",
       "134129184         NaN NaN               frontiers in cardiovascular medicine   \n",
       "134129185         NaN NaN                                                NaN   \n",
       "134129186         NaN NaN                                         structures   \n",
       "134129187         NaN NaN                                                NaN   \n",
       "\n",
       "                                                     CSNAME     CINAME  \\\n",
       "0                                                       NaN        NaN   \n",
       "1                                                       NaN        NaN   \n",
       "2                                             ifip congress        NaN   \n",
       "3                                                       NaN        NaN   \n",
       "4          international symposium on distributed computing  disc 2014   \n",
       "...                                                     ...        ...   \n",
       "134129183                                               NaN        NaN   \n",
       "134129184                                               NaN        NaN   \n",
       "134129185                                               NaN        NaN   \n",
       "134129186                                               NaN        NaN   \n",
       "134129187      international conference on machine learning  icml 2021   \n",
       "\n",
       "                                                           1  \n",
       "0                            Paolo Atzeni, Giorgio Gianforme  \n",
       "1                 F. S. Del Fiol, M. I. Toledo, F. C. Groppo  \n",
       "2                                               Wolfram Kahl  \n",
       "3                    Harinder Kohli, Ashok Sharma, Anil Sood  \n",
       "4            Irina Calciu, Hammurabi Mendes, Maurice Herlihy  \n",
       "...                                                      ...  \n",
       "134129183  Mohammed Kh. AL-Nussairi, Sadeq D. Al-Majidi, ...  \n",
       "134129184  Lucas Bonacossa Sant'Anna, Sérgio Lívio Meneze...  \n",
       "134129185                         E Denes, J Alain, I Lenoir  \n",
       "134129186                               Wei Liu, Kohju Ikago  \n",
       "134129187  Hang Yang, Haosen Wang, Huang Peng, Deqi Cao, ...  \n",
       "\n",
       "[134129188 rows x 22 columns]"
      ]
     },
     "execution_count": 2,
     "metadata": {},
     "output_type": "execute_result"
    }
   ],
   "source": [
    "%%time\n",
    "df_MAG_Raw_PAJCP = pd.read_csv(\"../Final-Data/Data-Tables-MAG_\" + date_str + \"/df_MAG_PAJCP_Sel.csv\", sep='\\t')\n",
    "df_MAG_Raw_PAJCP"
   ]
  },
  {
   "cell_type": "code",
   "execution_count": 3,
   "metadata": {},
   "outputs": [
    {
     "data": {
      "text/plain": [
       "0            inheritance and polymorphism in datalog an exp...\n",
       "1            the effect of milk on plasmatic and tissue lev...\n",
       "2            can functional programming be liberated from t...\n",
       "3            realizing the asian century a strategic framework\n",
       "4            the adaptive priority queue with elimination a...\n",
       "                                   ...                        \n",
       "134129183    design of a load frequency control based on a ...\n",
       "134129184    vagal neuromodulation in chronic heart failure...\n",
       "134129185    finger osteitis due to yokenella regensburgei ...\n",
       "134129186    causal implementation of rate independent line...\n",
       "134129187    network security intelligence information extr...\n",
       "Name: 4, Length: 134129188, dtype: object"
      ]
     },
     "execution_count": 3,
     "metadata": {},
     "output_type": "execute_result"
    }
   ],
   "source": [
    "df_MAG_Raw_PAJCP['4']"
   ]
  },
  {
   "cell_type": "code",
   "execution_count": 24,
   "metadata": {},
   "outputs": [
    {
     "data": {
      "text/plain": [
       "0             NaN\n",
       "1            26.0\n",
       "2             NaN\n",
       "3             NaN\n",
       "4             NaN\n",
       "             ... \n",
       "134129183     NaN\n",
       "134129184     8.0\n",
       "134129185     NaN\n",
       "134129186    35.0\n",
       "134129187     NaN\n",
       "Name: 14, Length: 134129188, dtype: float64"
      ]
     },
     "execution_count": 24,
     "metadata": {},
     "output_type": "execute_result"
    }
   ],
   "source": [
    "df_MAG_Raw_PAJCP['14']"
   ]
  },
  {
   "cell_type": "code",
   "execution_count": 25,
   "metadata": {},
   "outputs": [
    {
     "data": {
      "text/plain": [
       "0            NaN\n",
       "1            2.0\n",
       "2            NaN\n",
       "3            NaN\n",
       "4            NaN\n",
       "            ... \n",
       "134129183    NaN\n",
       "134129184    NaN\n",
       "134129185    NaN\n",
       "134129186    NaN\n",
       "134129187    NaN\n",
       "Name: 15, Length: 134129188, dtype: float64"
      ]
     },
     "execution_count": 25,
     "metadata": {},
     "output_type": "execute_result"
    }
   ],
   "source": [
    "df_MAG_Raw_PAJCP['15']"
   ]
  },
  {
   "cell_type": "code",
   "execution_count": 5,
   "metadata": {},
   "outputs": [
    {
     "name": "stdout",
     "output_type": "stream",
     "text": [
      "134129188\n",
      "CPU times: user 53 s, sys: 34.4 s, total: 1min 27s\n",
      "Wall time: 1min 26s\n"
     ]
    },
    {
     "data": {
      "text/plain": [
       "array([['Paolo Atzeni, Giorgio Gianforme', 2008.0,\n",
       "        'inheritance and polymorphism in datalog an experience in model management',\n",
       "        'european journal of combinatorics', nan, nan, nan, nan, '354.0',\n",
       "        '358.0'],\n",
       "       ['F. S. Del Fiol, M. I. Toledo, F. C. Groppo', 2005.0,\n",
       "        'the effect of milk on plasmatic and tissue levels of macrolides in vivo study in rats',\n",
       "        'revista de ciencias farmaceuticas basica e aplicada', nan, nan,\n",
       "        26.0, 2.0, '113.0', '118.0'],\n",
       "       ['Wolfram Kahl', 1994.0,\n",
       "        'can functional programming be liberated from the applicative style',\n",
       "        nan, 'ifip congress', nan, nan, nan, '330.0', '335.0'],\n",
       "       ['Harinder Kohli, Ashok Sharma, Anil Sood', 2011.0,\n",
       "        'realizing the asian century a strategic framework',\n",
       "        'research papers in economics', nan, nan, nan, nan, '63.0',\n",
       "        '70.0'],\n",
       "       ['Irina Calciu, Hammurabi Mendes, Maurice Herlihy', 2014.0,\n",
       "        'the adaptive priority queue with elimination and combining',\n",
       "        nan, 'international symposium on distributed computing',\n",
       "        'disc 2014', nan, nan, '406.0', '420.0']], dtype=object)"
      ]
     },
     "execution_count": 5,
     "metadata": {},
     "output_type": "execute_result"
    }
   ],
   "source": [
    "# %%time\n",
    "# MAG_Raw_values = df_MAG_Raw_PAJCP[['1','7','4','JNAME','CSNAME','CINAME','14','15','16','17']].values\n",
    "# print(len(MAG_Raw_values))\n",
    "# MAG_Raw_values[:5]"
   ]
  },
  {
   "cell_type": "code",
   "execution_count": 34,
   "metadata": {},
   "outputs": [
    {
     "data": {
      "text/html": [
       "<div>\n",
       "<style scoped>\n",
       "    .dataframe tbody tr th:only-of-type {\n",
       "        vertical-align: middle;\n",
       "    }\n",
       "\n",
       "    .dataframe tbody tr th {\n",
       "        vertical-align: top;\n",
       "    }\n",
       "\n",
       "    .dataframe thead th {\n",
       "        text-align: right;\n",
       "    }\n",
       "</style>\n",
       "<table border=\"1\" class=\"dataframe\">\n",
       "  <thead>\n",
       "    <tr style=\"text-align: right;\">\n",
       "      <th></th>\n",
       "      <th>0</th>\n",
       "      <th>2</th>\n",
       "      <th>3</th>\n",
       "      <th>4</th>\n",
       "      <th>6</th>\n",
       "      <th>7</th>\n",
       "      <th>8</th>\n",
       "      <th>10</th>\n",
       "      <th>JID</th>\n",
       "      <th>CSID</th>\n",
       "      <th>...</th>\n",
       "      <th>15</th>\n",
       "      <th>16</th>\n",
       "      <th>17</th>\n",
       "      <th>21</th>\n",
       "      <th>22</th>\n",
       "      <th>24</th>\n",
       "      <th>JNAME</th>\n",
       "      <th>CSNAME</th>\n",
       "      <th>CINAME</th>\n",
       "      <th>1</th>\n",
       "    </tr>\n",
       "  </thead>\n",
       "  <tbody>\n",
       "    <tr>\n",
       "      <th>9980</th>\n",
       "      <td>3159852463</td>\n",
       "      <td>NaN</td>\n",
       "      <td>Journal</td>\n",
       "      <td>comparative analysis of the law on search and ...</td>\n",
       "      <td>NaN</td>\n",
       "      <td>2018.0</td>\n",
       "      <td>2018-03-01</td>\n",
       "      <td>JETIR(www.jetir.org)</td>\n",
       "      <td>2.764944e+09</td>\n",
       "      <td>NaN</td>\n",
       "      <td>...</td>\n",
       "      <td>3.0</td>\n",
       "      <td>323-326</td>\n",
       "      <td>323-326</td>\n",
       "      <td>Journal of emerging technologies and innovativ...</td>\n",
       "      <td>3.159852e+09</td>\n",
       "      <td>NaN</td>\n",
       "      <td>journal of emerging technologies and innovativ...</td>\n",
       "      <td>NaN</td>\n",
       "      <td>NaN</td>\n",
       "      <td>Sidhartha Sekhar Dash</td>\n",
       "    </tr>\n",
       "  </tbody>\n",
       "</table>\n",
       "<p>1 rows × 22 columns</p>\n",
       "</div>"
      ],
      "text/plain": [
       "               0    2        3  \\\n",
       "9980  3159852463  NaN  Journal   \n",
       "\n",
       "                                                      4    6       7  \\\n",
       "9980  comparative analysis of the law on search and ...  NaN  2018.0   \n",
       "\n",
       "               8                    10           JID  CSID  ...   15       16  \\\n",
       "9980  2018-03-01  JETIR(www.jetir.org)  2.764944e+09   NaN  ...  3.0  323-326   \n",
       "\n",
       "           17                                                 21  \\\n",
       "9980  323-326  Journal of emerging technologies and innovativ...   \n",
       "\n",
       "                22  24                                              JNAME  \\\n",
       "9980  3.159852e+09 NaN  journal of emerging technologies and innovativ...   \n",
       "\n",
       "      CSNAME CINAME                      1  \n",
       "9980     NaN    NaN  Sidhartha Sekhar Dash  \n",
       "\n",
       "[1 rows x 22 columns]"
      ]
     },
     "execution_count": 34,
     "metadata": {},
     "output_type": "execute_result"
    }
   ],
   "source": [
    "# df_MAG_Raw_PAJCP.loc[df_MAG_Raw_PAJCP['4'] == 'comparative analysis of the law on search and seizure in india and the usa', :]"
   ]
  },
  {
   "cell_type": "code",
   "execution_count": 36,
   "metadata": {},
   "outputs": [
    {
     "name": "stdout",
     "output_type": "stream",
     "text": [
      "sidhartha sekhar dash 2018 comparative analysis of the law on search and seizure in india and the usa journal of emerging technologies and innovative research 5 3 323-326 323-326\n",
      "ritthoff o, klinkenberg r 2003 evolutionary feature space transformation using type restricted generators lecture notes in computer science 2724 1606 1607\n",
      "ozan sayman, eduardo pereyra, cem sarica 2021 comprehensive fall velocity study on continuous flow plungers spe production & operations 36 3 604 623\n",
      "daniel egana-ugrinovic, rouven essig, daniel gift, marilena loverde 2021 the cosmological evolution of self interacting dark matter journal of cosmology and astroparticle physics 2021 5 13\n",
      "yudong luo, chao chen, motohiko kusakabe, toshitaka kajino, toshitaka kajino 2021 impacts of hawking radiation from primordial black holes in critical collapse model on the light element abundances journal of cosmology and astroparticle physics 2021 5 42\n"
     ]
    }
   ],
   "source": [
    "# # Test\n",
    "# from tqdm import tqdm\n",
    "# cnt = 0\n",
    "# for row in MAG_Raw_values[9980:]:\n",
    "# #    DealWith(row)\n",
    "#     cnt += 1\n",
    "#     if cnt > 5:\n",
    "#         break\n",
    "#     print(DealWith(row))"
   ]
  },
  {
   "cell_type": "code",
   "execution_count": 33,
   "metadata": {},
   "outputs": [],
   "source": [
    "def DealWith(row):\n",
    "    res = []\n",
    "    for i,each_r in enumerate(row):\n",
    "        if str(each_r).lower() != 'none' and str(each_r).lower() != 'nan' and each_r != '' and each_r != ' ':\n",
    "            if i == 0:\n",
    "                res.append(each_r.lower())\n",
    "            elif i == 1 or i == 6 or i== 7:\n",
    "                res.append(str(int(each_r)))\n",
    "            elif i == 8 or i == 9:\n",
    "                try: \n",
    "                    res.append(str(int(float(each_r))))\n",
    "                except ValueError:\n",
    "                    res.append(str(each_r))\n",
    "            else:\n",
    "                res.append(str(each_r))\n",
    "    return ' '.join(res)"
   ]
  },
  {
   "cell_type": "code",
   "execution_count": 37,
   "metadata": {},
   "outputs": [],
   "source": [
    "from elasticsearch import Elasticsearch, helpers\n",
    "es = Elasticsearch()"
   ]
  },
  {
   "cell_type": "code",
   "execution_count": 52,
   "metadata": {},
   "outputs": [],
   "source": [
    "try:\n",
    "    es.indices.delete('mag_index_jan28_2022')\n",
    "except:\n",
    "    pass"
   ]
  },
  {
   "cell_type": "code",
   "execution_count": 39,
   "metadata": {},
   "outputs": [
    {
     "data": {
      "text/plain": [
       "134129188"
      ]
     },
     "execution_count": 39,
     "metadata": {},
     "output_type": "execute_result"
    }
   ],
   "source": [
    "len(MAG_Raw_values)"
   ]
  },
  {
   "cell_type": "code",
   "execution_count": 54,
   "metadata": {},
   "outputs": [
    {
     "name": "stdout",
     "output_type": "stream",
     "text": [
      "134129188\n",
      "CPU times: user 55.7 s, sys: 31.2 s, total: 1min 26s\n",
      "Wall time: 1min 26s\n"
     ]
    },
    {
     "data": {
      "text/plain": [
       "array([['Paolo Atzeni, Giorgio Gianforme', 2008.0,\n",
       "        'inheritance and polymorphism in datalog an experience in model management',\n",
       "        'european journal of combinatorics', nan, nan, nan, nan, '354.0',\n",
       "        '358.0', 2789336],\n",
       "       ['F. S. Del Fiol, M. I. Toledo, F. C. Groppo', 2005.0,\n",
       "        'the effect of milk on plasmatic and tissue levels of macrolides in vivo study in rats',\n",
       "        'revista de ciencias farmaceuticas basica e aplicada', nan, nan,\n",
       "        26.0, 2.0, '113.0', '118.0', 9552966],\n",
       "       ['Wolfram Kahl', 1994.0,\n",
       "        'can functional programming be liberated from the applicative style',\n",
       "        nan, 'ifip congress', nan, nan, nan, '330.0', '335.0', 9694411],\n",
       "       ['Harinder Kohli, Ashok Sharma, Anil Sood', 2011.0,\n",
       "        'realizing the asian century a strategic framework',\n",
       "        'research papers in economics', nan, nan, nan, nan, '63.0',\n",
       "        '70.0', 14355006],\n",
       "       ['Irina Calciu, Hammurabi Mendes, Maurice Herlihy', 2014.0,\n",
       "        'the adaptive priority queue with elimination and combining',\n",
       "        nan, 'international symposium on distributed computing',\n",
       "        'disc 2014', nan, nan, '406.0', '420.0', 14558443]], dtype=object)"
      ]
     },
     "execution_count": 54,
     "metadata": {},
     "output_type": "execute_result"
    }
   ],
   "source": [
    "%%time\n",
    "MAG_Raw_values_wID = df_MAG_Raw_PAJCP[['1','7','4','JNAME','CSNAME','CINAME','14','15','16','17','0']].values\n",
    "print(len(MAG_Raw_values_wID))\n",
    "MAG_Raw_values_wID[:5]"
   ]
  },
  {
   "cell_type": "code",
   "execution_count": 55,
   "metadata": {},
   "outputs": [
    {
     "name": "stdout",
     "output_type": "stream",
     "text": [
      "sidhartha sekhar dash 2018 comparative analysis of the law on search and seizure in india and the usa journal of emerging technologies and innovative research 5 3 323-326 323-326\n",
      "3159852463\n",
      "ritthoff o, klinkenberg r 2003 evolutionary feature space transformation using type restricted generators lecture notes in computer science 2724 1606 1607\n",
      "3160087772\n",
      "ozan sayman, eduardo pereyra, cem sarica 2021 comprehensive fall velocity study on continuous flow plungers spe production & operations 36 3 604 623\n",
      "3160122719\n",
      "daniel egana-ugrinovic, rouven essig, daniel gift, marilena loverde 2021 the cosmological evolution of self interacting dark matter journal of cosmology and astroparticle physics 2021 5 13\n",
      "3160150700\n",
      "yudong luo, chao chen, motohiko kusakabe, toshitaka kajino, toshitaka kajino 2021 impacts of hawking radiation from primordial black holes in critical collapse model on the light element abundances journal of cosmology and astroparticle physics 2021 5 42\n",
      "3160451185\n"
     ]
    }
   ],
   "source": [
    "# Test\n",
    "from tqdm import tqdm\n",
    "cnt = 0\n",
    "for row in MAG_Raw_values_wID[9980:]:\n",
    "#    DealWith(row)\n",
    "    cnt += 1\n",
    "    if cnt > 5:\n",
    "        break\n",
    "    print(DealWith(row[:-1]))\n",
    "    print(row[-1])"
   ]
  },
  {
   "cell_type": "code",
   "execution_count": 56,
   "metadata": {},
   "outputs": [
    {
     "name": "stdout",
     "output_type": "stream",
     "text": [
      "134129188\n"
     ]
    }
   ],
   "source": [
    "print(len(MAG_Raw_values_wID))"
   ]
  },
  {
   "cell_type": "code",
   "execution_count": 57,
   "metadata": {},
   "outputs": [
    {
     "data": {
      "text/plain": [
       "{'mag_index_2021_1101_test2_esv7_15': {'aliases': {}},\n",
       " 'crossref_index_2021_1029_test0_esv7_15': {'aliases': {}},\n",
       " 'mag_index_2021_1022_test0_es7_15': {'aliases': {}},\n",
       " 'mag_index_2021_1030_test0_esv7_15': {'aliases': {}},\n",
       " 'crossref_index_2021_1108_test1_esv7_15': {'aliases': {}},\n",
       " 'mag_index_2021_1030_test1_esv7_15': {'aliases': {}}}"
      ]
     },
     "execution_count": 57,
     "metadata": {},
     "output_type": "execute_result"
    }
   ],
   "source": [
    "es.indices.get_alias(\"*\")"
   ]
  },
  {
   "cell_type": "code",
   "execution_count": 58,
   "metadata": {},
   "outputs": [
    {
     "name": "stderr",
     "output_type": "stream",
     "text": [
      " 30%|██▉       | 39625014/134129188 [1:29:44<2:20:38, 11199.77it/s]IOPub message rate exceeded.\n",
      "The notebook server will temporarily stop sending output\n",
      "to the client in order to avoid crashing it.\n",
      "To change this limit, set the config variable\n",
      "`--NotebookApp.iopub_msg_rate_limit`.\n",
      "\n",
      "Current values:\n",
      "NotebookApp.iopub_msg_rate_limit=1000.0 (msgs/sec)\n",
      "NotebookApp.rate_limit_window=3.0 (secs)\n",
      "\n",
      " 56%|█████▋    | 75749149/134129188 [2:50:19<33:18, 29205.59it/s]  IOPub message rate exceeded.\n",
      "The notebook server will temporarily stop sending output\n",
      "to the client in order to avoid crashing it.\n",
      "To change this limit, set the config variable\n",
      "`--NotebookApp.iopub_msg_rate_limit`.\n",
      "\n",
      "Current values:\n",
      "NotebookApp.iopub_msg_rate_limit=1000.0 (msgs/sec)\n",
      "NotebookApp.rate_limit_window=3.0 (secs)\n",
      "\n",
      " 69%|██████▊   | 92119671/134129188 [3:26:39<1:19:10, 8843.91it/s] IOPub message rate exceeded.\n",
      "The notebook server will temporarily stop sending output\n",
      "to the client in order to avoid crashing it.\n",
      "To change this limit, set the config variable\n",
      "`--NotebookApp.iopub_msg_rate_limit`.\n",
      "\n",
      "Current values:\n",
      "NotebookApp.iopub_msg_rate_limit=1000.0 (msgs/sec)\n",
      "NotebookApp.rate_limit_window=3.0 (secs)\n",
      "\n",
      " 97%|█████████▋| 129851721/134129188 [4:50:41<22:54, 3111.68it/s]  IOPub message rate exceeded.\n",
      "The notebook server will temporarily stop sending output\n",
      "to the client in order to avoid crashing it.\n",
      "To change this limit, set the config variable\n",
      "`--NotebookApp.iopub_msg_rate_limit`.\n",
      "\n",
      "Current values:\n",
      "NotebookApp.iopub_msg_rate_limit=1000.0 (msgs/sec)\n",
      "NotebookApp.rate_limit_window=3.0 (secs)\n",
      "\n"
     ]
    }
   ],
   "source": [
    "actions = []\n",
    "\n",
    "for row in tqdm(MAG_Raw_values_wID):\n",
    "\n",
    "    actions.append({\n",
    "        '_index': 'mag_index_jan28_2022', \n",
    "        '_type': 'paper',\n",
    "        'mag': row[-1],\n",
    "        'info': DealWith(row[:-1])\n",
    "    })\n",
    "    if len(actions) >= 50000:\n",
    "        #deque(helpers.parallel_bulk(es, actions, request_timeout = 60, thread_count=10), maxlen=0)\n",
    "        helpers.bulk(es, actions, request_timeout = 60)\n",
    "        actions = []\n",
    "helpers.bulk(es, actions, request_timeout = 60)\n",
    "#deque(helpers.parallel_bulk(es, actions, request_timeout = 60, thread_count=10), maxlen=0)"
   ]
  },
  {
   "cell_type": "code",
   "execution_count": 60,
   "metadata": {},
   "outputs": [
    {
     "data": {
      "text/plain": [
       "29188"
      ]
     },
     "execution_count": 60,
     "metadata": {},
     "output_type": "execute_result"
    }
   ],
   "source": [
    "len(actions)"
   ]
  },
  {
   "cell_type": "code",
   "execution_count": 61,
   "metadata": {},
   "outputs": [
    {
     "data": {
      "text/plain": [
       "{'mag_index_jan28_2022': {'aliases': {}},\n",
       " 'crossref_index_2021_1029_test0_esv7_15': {'aliases': {}},\n",
       " 'mag_index_2021_1022_test0_es7_15': {'aliases': {}},\n",
       " 'mag_index_2021_1030_test0_esv7_15': {'aliases': {}},\n",
       " 'mag_index_2021_1101_test2_esv7_15': {'aliases': {}},\n",
       " 'crossref_index_2021_1108_test1_esv7_15': {'aliases': {}},\n",
       " 'mag_index_2021_1030_test1_esv7_15': {'aliases': {}}}"
      ]
     },
     "execution_count": 61,
     "metadata": {},
     "output_type": "execute_result"
    }
   ],
   "source": [
    "es.indices.get_alias(\"*\")"
   ]
  },
  {
   "cell_type": "code",
   "execution_count": 63,
   "metadata": {},
   "outputs": [
    {
     "data": {
      "text/plain": [
       "[{'epoch': '1643400681', 'timestamp': '20:11:21', 'count': '134129188'}]"
      ]
     },
     "execution_count": 63,
     "metadata": {},
     "output_type": "execute_result"
    }
   ],
   "source": [
    "es.cat.count('mag_index_jan28_2022', params={\"format\": \"json\"})"
   ]
  },
  {
   "cell_type": "code",
   "execution_count": null,
   "metadata": {},
   "outputs": [],
   "source": [
    "# Order: Author, Year, Title, Journal, ConfSeries, ConfInstance, Volumn, Issue, FirstPage, LastPage."
   ]
  }
 ],
 "metadata": {
  "kernelspec": {
   "display_name": "newcv",
   "language": "python",
   "name": "newcv"
  },
  "language_info": {
   "codemirror_mode": {
    "name": "ipython",
    "version": 3
   },
   "file_extension": ".py",
   "mimetype": "text/x-python",
   "name": "python",
   "nbconvert_exporter": "python",
   "pygments_lexer": "ipython3",
   "version": "3.9.6"
  }
 },
 "nbformat": 4,
 "nbformat_minor": 4
}
