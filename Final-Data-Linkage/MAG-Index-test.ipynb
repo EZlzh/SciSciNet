{
 "cells": [
  {
   "cell_type": "code",
   "execution_count": 4,
   "metadata": {},
   "outputs": [],
   "source": [
    "from elasticsearch import Elasticsearch, helpers\n",
    "es = Elasticsearch()"
   ]
  },
  {
   "cell_type": "code",
   "execution_count": 5,
   "metadata": {},
   "outputs": [
    {
     "data": {
      "text/plain": [
       "{'mag_index_2021_1022_test0_es7_15': {'aliases': {}},\n",
       " 'crossref_index_2021_1029_test0_esv7_15': {'aliases': {}},\n",
       " 'mag_index_jan28_2022': {'aliases': {}},\n",
       " 'mag_index_2021_1030_test1_esv7_15': {'aliases': {}},\n",
       " 'crossref_index_2021_1108_test1_esv7_15': {'aliases': {}},\n",
       " 'mag_index_2021_1030_test0_esv7_15': {'aliases': {}},\n",
       " 'mag_index_2021_1101_test2_esv7_15': {'aliases': {}}}"
      ]
     },
     "execution_count": 5,
     "metadata": {},
     "output_type": "execute_result"
    }
   ],
   "source": [
    "es.indices.get_alias(\"*\")"
   ]
  },
  {
   "cell_type": "code",
   "execution_count": 6,
   "metadata": {},
   "outputs": [
    {
     "data": {
      "text/plain": [
       "[{'epoch': '1643401130', 'timestamp': '20:18:50', 'count': '134129188'}]"
      ]
     },
     "execution_count": 6,
     "metadata": {},
     "output_type": "execute_result"
    }
   ],
   "source": [
    "es.cat.count('mag_index_jan28_2022', params={\"format\": \"json\"})"
   ]
  },
  {
   "cell_type": "code",
   "execution_count": null,
   "metadata": {},
   "outputs": [],
   "source": []
  }
 ],
 "metadata": {
  "kernelspec": {
   "display_name": "newcv",
   "language": "python",
   "name": "newcv"
  },
  "language_info": {
   "codemirror_mode": {
    "name": "ipython",
    "version": 3
   },
   "file_extension": ".py",
   "mimetype": "text/x-python",
   "name": "python",
   "nbconvert_exporter": "python",
   "pygments_lexer": "ipython3",
   "version": "3.9.6"
  }
 },
 "nbformat": 4,
 "nbformat_minor": 4
}
