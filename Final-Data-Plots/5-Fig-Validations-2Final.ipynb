{
 "cells": [
  {
   "cell_type": "code",
   "execution_count": 1,
   "id": "62e3da60",
   "metadata": {},
   "outputs": [],
   "source": [
    "import pandas as pd"
   ]
  },
  {
   "cell_type": "code",
   "execution_count": 2,
   "id": "fc1d386c",
   "metadata": {},
   "outputs": [
    {
     "name": "stdout",
     "output_type": "stream",
     "text": [
      "CPU times: user 18.3 s, sys: 2.96 s, total: 21.3 s\n",
      "Wall time: 21.4 s\n"
     ]
    },
    {
     "data": {
      "text/html": [
       "<div>\n",
       "<style scoped>\n",
       "    .dataframe tbody tr th:only-of-type {\n",
       "        vertical-align: middle;\n",
       "    }\n",
       "\n",
       "    .dataframe tbody tr th {\n",
       "        vertical-align: top;\n",
       "    }\n",
       "\n",
       "    .dataframe thead th {\n",
       "        text-align: right;\n",
       "    }\n",
       "</style>\n",
       "<table border=\"1\" class=\"dataframe\">\n",
       "  <thead>\n",
       "    <tr style=\"text-align: right;\">\n",
       "      <th></th>\n",
       "      <th>id</th>\n",
       "      <th>grant_id</th>\n",
       "      <th>grid_id</th>\n",
       "    </tr>\n",
       "  </thead>\n",
       "  <tbody>\n",
       "    <tr>\n",
       "      <th>0</th>\n",
       "      <td>pub.1084770278</td>\n",
       "      <td>grant.6156394</td>\n",
       "      <td>grid.54432.34</td>\n",
       "    </tr>\n",
       "    <tr>\n",
       "      <th>1</th>\n",
       "      <td>pub.1104233902</td>\n",
       "      <td>grant.2591738</td>\n",
       "      <td>grid.280664.e</td>\n",
       "    </tr>\n",
       "    <tr>\n",
       "      <th>2</th>\n",
       "      <td>pub.1017353741</td>\n",
       "      <td>grant.2998543</td>\n",
       "      <td>grid.457785.c</td>\n",
       "    </tr>\n",
       "    <tr>\n",
       "      <th>3</th>\n",
       "      <td>pub.1017353741</td>\n",
       "      <td>grant.3079228</td>\n",
       "      <td>grid.457785.c</td>\n",
       "    </tr>\n",
       "    <tr>\n",
       "      <th>4</th>\n",
       "      <td>pub.1027038639</td>\n",
       "      <td>grant.2671081</td>\n",
       "      <td>grid.429651.d</td>\n",
       "    </tr>\n",
       "    <tr>\n",
       "      <th>...</th>\n",
       "      <td>...</td>\n",
       "      <td>...</td>\n",
       "      <td>...</td>\n",
       "    </tr>\n",
       "    <tr>\n",
       "      <th>29206011</th>\n",
       "      <td>pub.1086125904</td>\n",
       "      <td>NaN</td>\n",
       "      <td>grid.453006.4</td>\n",
       "    </tr>\n",
       "    <tr>\n",
       "      <th>29206012</th>\n",
       "      <td>pub.1086125904</td>\n",
       "      <td>NaN</td>\n",
       "      <td>grid.183804.6</td>\n",
       "    </tr>\n",
       "    <tr>\n",
       "      <th>29206013</th>\n",
       "      <td>pub.1131595517</td>\n",
       "      <td>NaN</td>\n",
       "      <td>grid.417730.6</td>\n",
       "    </tr>\n",
       "    <tr>\n",
       "      <th>29206014</th>\n",
       "      <td>pub.1131595517</td>\n",
       "      <td>NaN</td>\n",
       "      <td>grid.421816.8</td>\n",
       "    </tr>\n",
       "    <tr>\n",
       "      <th>29206015</th>\n",
       "      <td>pub.1121805727</td>\n",
       "      <td>grant.6621281</td>\n",
       "      <td>grid.426413.6</td>\n",
       "    </tr>\n",
       "  </tbody>\n",
       "</table>\n",
       "<p>29206016 rows × 3 columns</p>\n",
       "</div>"
      ],
      "text/plain": [
       "                      id       grant_id        grid_id\n",
       "0         pub.1084770278  grant.6156394  grid.54432.34\n",
       "1         pub.1104233902  grant.2591738  grid.280664.e\n",
       "2         pub.1017353741  grant.2998543  grid.457785.c\n",
       "3         pub.1017353741  grant.3079228  grid.457785.c\n",
       "4         pub.1027038639  grant.2671081  grid.429651.d\n",
       "...                  ...            ...            ...\n",
       "29206011  pub.1086125904            NaN  grid.453006.4\n",
       "29206012  pub.1086125904            NaN  grid.183804.6\n",
       "29206013  pub.1131595517            NaN  grid.417730.6\n",
       "29206014  pub.1131595517            NaN  grid.421816.8\n",
       "29206015  pub.1121805727  grant.6621281  grid.426413.6\n",
       "\n",
       "[29206016 rows x 3 columns]"
      ]
     },
     "execution_count": 2,
     "metadata": {},
     "output_type": "execute_result"
    }
   ],
   "source": [
    "%%time\n",
    "Dim_Funds = pd.read_csv('../../dimensions/data_dump/20210301/csv/PaperFunds.csv')\n",
    "Dim_Funds"
   ]
  },
  {
   "cell_type": "code",
   "execution_count": 3,
   "id": "19368cf6",
   "metadata": {},
   "outputs": [
    {
     "name": "stdout",
     "output_type": "stream",
     "text": [
      "38 38\n"
     ]
    },
    {
     "data": {
      "text/plain": [
       "True"
      ]
     },
     "execution_count": 3,
     "metadata": {},
     "output_type": "execute_result"
    }
   ],
   "source": [
    "NIH_List = [\n",
    "'grid.453072.7', 'grid.410422.1', 'grid.453876.b', 'grid.454854.c', 'grid.453035.4',\n",
    "'grid.48336.3a', 'grid.429651.d', 'grid.280655.c', 'grid.280030.9', 'grid.279885.9', \n",
    "'grid.280128.1', 'grid.420085.b', 'grid.419681.3', 'grid.420086.8', 'grid.280347.a', \n",
    "'grid.420089.7', 'grid.419633.a', 'grid.419635.c', 'grid.280664.e', 'grid.280785.0', \n",
    "'grid.416868.5', 'grid.416870.c', 'grid.280738.6', 'grid.419475.a', 'grid.214431.1', \n",
    "'grid.420090.f', 'grid.281076.a', 'grid.410305.3', 'grid.477601.3', 'grid.453518.e', \n",
    "'grid.453893.0', 'grid.436341.7', 'grid.484471.a', 'grid.472713.4', 'grid.453125.4', \n",
    "'grid.280285.5', 'grid.453840.e', 'grid.94365.3d'\n",
    "]\n",
    "NIH_set = set(NIH_List)\n",
    "print(len(NIH_List), len(NIH_set))\n",
    "'grid.416868.5' in NIH_set"
   ]
  },
  {
   "cell_type": "code",
   "execution_count": 4,
   "id": "bebe1660",
   "metadata": {},
   "outputs": [
    {
     "name": "stdout",
     "output_type": "stream",
     "text": [
      "24 24\n"
     ]
    },
    {
     "data": {
      "text/plain": [
       "(False, True)"
      ]
     },
     "execution_count": 4,
     "metadata": {},
     "output_type": "execute_result"
    }
   ],
   "source": [
    "NSF_List = [\n",
    "    'grid.248698.9', 'grid.469777.c', 'grid.457768.f', 'grid.457785.c', 'grid.457799.1', \n",
    "    'grid.457810.f', 'grid.457836.b', 'grid.457875.c', 'grid.457916.8', 'grid.468022.a', \n",
    "    'grid.457966.f', 'grid.457948.3', 'grid.457946.d', 'grid.457896.1', 'grid.503039.c', \n",
    "    'grid.422442.6', 'grid.457758.c', 'grid.457907.8', 'grid.473792.c', 'grid.467629.8', \n",
    "    'grid.457898.f', 'grid.457972.a', 'grid.438085.2', 'grid.431093.c']\n",
    "NSF_set = set(NSF_List)\n",
    "print(len(NSF_List),len(NSF_set))\n",
    "'grid.416868.5' in NSF_set, 'grid.457810.f' in NSF_set"
   ]
  },
  {
   "cell_type": "code",
   "execution_count": 5,
   "id": "09b39788",
   "metadata": {},
   "outputs": [
    {
     "name": "stdout",
     "output_type": "stream",
     "text": [
      "CPU times: user 1.77 s, sys: 86.9 ms, total: 1.86 s\n",
      "Wall time: 1.85 s\n"
     ]
    },
    {
     "data": {
      "text/plain": [
       "6947549"
      ]
     },
     "execution_count": 5,
     "metadata": {},
     "output_type": "execute_result"
    }
   ],
   "source": [
    "%%time\n",
    "Dim_Funds_NIH = Dim_Funds.loc[Dim_Funds['grid_id'].isin(NIH_set), :]\n",
    "len(Dim_Funds_NIH)"
   ]
  },
  {
   "cell_type": "code",
   "execution_count": 6,
   "id": "dc7664b2",
   "metadata": {},
   "outputs": [
    {
     "name": "stdout",
     "output_type": "stream",
     "text": [
      "CPU times: user 2.8 s, sys: 59.9 ms, total: 2.86 s\n",
      "Wall time: 2.83 s\n"
     ]
    },
    {
     "data": {
      "text/plain": [
       "1117844"
      ]
     },
     "execution_count": 6,
     "metadata": {},
     "output_type": "execute_result"
    }
   ],
   "source": [
    "%%time\n",
    "Dim_Funds_NSF = Dim_Funds.loc[Dim_Funds['grid_id'].isin(NSF_set), :]\n",
    "len(Dim_Funds_NSF)"
   ]
  },
  {
   "cell_type": "code",
   "execution_count": 7,
   "id": "520b0054",
   "metadata": {},
   "outputs": [
    {
     "name": "stdout",
     "output_type": "stream",
     "text": [
      "CPU times: user 1.92 s, sys: 189 ms, total: 2.11 s\n",
      "Wall time: 2.16 s\n"
     ]
    },
    {
     "data": {
      "text/html": [
       "<div>\n",
       "<style scoped>\n",
       "    .dataframe tbody tr th:only-of-type {\n",
       "        vertical-align: middle;\n",
       "    }\n",
       "\n",
       "    .dataframe tbody tr th {\n",
       "        vertical-align: top;\n",
       "    }\n",
       "\n",
       "    .dataframe thead th {\n",
       "        text-align: right;\n",
       "    }\n",
       "</style>\n",
       "<table border=\"1\" class=\"dataframe\">\n",
       "  <thead>\n",
       "    <tr style=\"text-align: right;\">\n",
       "      <th></th>\n",
       "      <th>PaperID</th>\n",
       "      <th>NIH_Project_Number</th>\n",
       "    </tr>\n",
       "  </thead>\n",
       "  <tbody>\n",
       "    <tr>\n",
       "      <th>0</th>\n",
       "      <td>3066</td>\n",
       "      <td>R29HL057675</td>\n",
       "    </tr>\n",
       "    <tr>\n",
       "      <th>1</th>\n",
       "      <td>3066</td>\n",
       "      <td>R01HL057675</td>\n",
       "    </tr>\n",
       "    <tr>\n",
       "      <th>2</th>\n",
       "      <td>3066</td>\n",
       "      <td>R01HL054973</td>\n",
       "    </tr>\n",
       "    <tr>\n",
       "      <th>3</th>\n",
       "      <td>15845</td>\n",
       "      <td>P01HD030367</td>\n",
       "    </tr>\n",
       "    <tr>\n",
       "      <th>4</th>\n",
       "      <td>15845</td>\n",
       "      <td>M01RR000056</td>\n",
       "    </tr>\n",
       "    <tr>\n",
       "      <th>...</th>\n",
       "      <td>...</td>\n",
       "      <td>...</td>\n",
       "    </tr>\n",
       "    <tr>\n",
       "      <th>6013182</th>\n",
       "      <td>246319838</td>\n",
       "      <td>R01NS038713</td>\n",
       "    </tr>\n",
       "    <tr>\n",
       "      <th>6013183</th>\n",
       "      <td>2082844918</td>\n",
       "      <td>R01MH061138</td>\n",
       "    </tr>\n",
       "    <tr>\n",
       "      <th>6013184</th>\n",
       "      <td>2082844918</td>\n",
       "      <td>R01NS038894</td>\n",
       "    </tr>\n",
       "    <tr>\n",
       "      <th>6013185</th>\n",
       "      <td>2069345940</td>\n",
       "      <td>P01AR038923</td>\n",
       "    </tr>\n",
       "    <tr>\n",
       "      <th>6013186</th>\n",
       "      <td>2069345940</td>\n",
       "      <td>K08AR002141</td>\n",
       "    </tr>\n",
       "  </tbody>\n",
       "</table>\n",
       "<p>6013187 rows × 2 columns</p>\n",
       "</div>"
      ],
      "text/plain": [
       "            PaperID NIH_Project_Number\n",
       "0              3066        R29HL057675\n",
       "1              3066        R01HL057675\n",
       "2              3066        R01HL054973\n",
       "3             15845        P01HD030367\n",
       "4             15845        M01RR000056\n",
       "...             ...                ...\n",
       "6013182   246319838        R01NS038713\n",
       "6013183  2082844918        R01MH061138\n",
       "6013184  2082844918        R01NS038894\n",
       "6013185  2069345940        P01AR038923\n",
       "6013186  2069345940        K08AR002141\n",
       "\n",
       "[6013187 rows x 2 columns]"
      ]
     },
     "execution_count": 7,
     "metadata": {},
     "output_type": "execute_result"
    }
   ],
   "source": [
    "%%time\n",
    "SciNet_Link_Paper_NIH = pd.read_csv('../Final-SciNet-Tables/SciNet_Link_NIH.tsv', sep='\\t')\n",
    "SciNet_Link_Paper_NIH"
   ]
  },
  {
   "cell_type": "code",
   "execution_count": 8,
   "id": "01857220",
   "metadata": {},
   "outputs": [
    {
     "name": "stdout",
     "output_type": "stream",
     "text": [
      "CPU times: user 513 ms, sys: 55.8 ms, total: 568 ms\n",
      "Wall time: 604 ms\n"
     ]
    },
    {
     "data": {
      "text/html": [
       "<div>\n",
       "<style scoped>\n",
       "    .dataframe tbody tr th:only-of-type {\n",
       "        vertical-align: middle;\n",
       "    }\n",
       "\n",
       "    .dataframe tbody tr th {\n",
       "        vertical-align: top;\n",
       "    }\n",
       "\n",
       "    .dataframe thead th {\n",
       "        text-align: right;\n",
       "    }\n",
       "</style>\n",
       "<table border=\"1\" class=\"dataframe\">\n",
       "  <thead>\n",
       "    <tr style=\"text-align: right;\">\n",
       "      <th></th>\n",
       "      <th>NSF_Award_Number</th>\n",
       "      <th>PaperID</th>\n",
       "      <th>Type</th>\n",
       "      <th>Diff_ZScore</th>\n",
       "    </tr>\n",
       "  </thead>\n",
       "  <tbody>\n",
       "    <tr>\n",
       "      <th>0</th>\n",
       "      <td>NSF-1907207</td>\n",
       "      <td>3101155693</td>\n",
       "      <td>First</td>\n",
       "      <td>NaN</td>\n",
       "    </tr>\n",
       "    <tr>\n",
       "      <th>1</th>\n",
       "      <td>NSF-1900929</td>\n",
       "      <td>2966372995</td>\n",
       "      <td>First</td>\n",
       "      <td>NaN</td>\n",
       "    </tr>\n",
       "    <tr>\n",
       "      <th>2</th>\n",
       "      <td>NSF-1900929</td>\n",
       "      <td>2973880421</td>\n",
       "      <td>First</td>\n",
       "      <td>NaN</td>\n",
       "    </tr>\n",
       "    <tr>\n",
       "      <th>3</th>\n",
       "      <td>NSF-1900929</td>\n",
       "      <td>3042450767</td>\n",
       "      <td>First</td>\n",
       "      <td>NaN</td>\n",
       "    </tr>\n",
       "    <tr>\n",
       "      <th>4</th>\n",
       "      <td>NSF-1900929</td>\n",
       "      <td>2987739614</td>\n",
       "      <td>First</td>\n",
       "      <td>NaN</td>\n",
       "    </tr>\n",
       "    <tr>\n",
       "      <th>...</th>\n",
       "      <td>...</td>\n",
       "      <td>...</td>\n",
       "      <td>...</td>\n",
       "      <td>...</td>\n",
       "    </tr>\n",
       "    <tr>\n",
       "      <th>1309513</th>\n",
       "      <td>NSF-0717364</td>\n",
       "      <td>2898185062</td>\n",
       "      <td>Second</td>\n",
       "      <td>0.0</td>\n",
       "    </tr>\n",
       "    <tr>\n",
       "      <th>1309514</th>\n",
       "      <td>NSF-1536171</td>\n",
       "      <td>2989602227</td>\n",
       "      <td>Second</td>\n",
       "      <td>0.0</td>\n",
       "    </tr>\n",
       "    <tr>\n",
       "      <th>1309515</th>\n",
       "      <td>NSF-0955773</td>\n",
       "      <td>1963680108</td>\n",
       "      <td>Second</td>\n",
       "      <td>0.0</td>\n",
       "    </tr>\n",
       "    <tr>\n",
       "      <th>1309516</th>\n",
       "      <td>NSF-1433817</td>\n",
       "      <td>2079788057</td>\n",
       "      <td>Second</td>\n",
       "      <td>0.0</td>\n",
       "    </tr>\n",
       "    <tr>\n",
       "      <th>1309517</th>\n",
       "      <td>NSF-1607199</td>\n",
       "      <td>2592760969</td>\n",
       "      <td>Second</td>\n",
       "      <td>0.0</td>\n",
       "    </tr>\n",
       "  </tbody>\n",
       "</table>\n",
       "<p>1309518 rows × 4 columns</p>\n",
       "</div>"
      ],
      "text/plain": [
       "        NSF_Award_Number     PaperID    Type  Diff_ZScore\n",
       "0            NSF-1907207  3101155693   First          NaN\n",
       "1            NSF-1900929  2966372995   First          NaN\n",
       "2            NSF-1900929  2973880421   First          NaN\n",
       "3            NSF-1900929  3042450767   First          NaN\n",
       "4            NSF-1900929  2987739614   First          NaN\n",
       "...                  ...         ...     ...          ...\n",
       "1309513      NSF-0717364  2898185062  Second          0.0\n",
       "1309514      NSF-1536171  2989602227  Second          0.0\n",
       "1309515      NSF-0955773  1963680108  Second          0.0\n",
       "1309516      NSF-1433817  2079788057  Second          0.0\n",
       "1309517      NSF-1607199  2592760969  Second          0.0\n",
       "\n",
       "[1309518 rows x 4 columns]"
      ]
     },
     "execution_count": 8,
     "metadata": {},
     "output_type": "execute_result"
    }
   ],
   "source": [
    "%%time\n",
    "SciNet_Link_Paper_NSF = pd.read_csv('../Final-SciNet-Tables/SciNet_Link_NSF.tsv', sep='\\t')\n",
    "SciNet_Link_Paper_NSF"
   ]
  },
  {
   "cell_type": "code",
   "execution_count": 9,
   "id": "a5c3dbc6",
   "metadata": {},
   "outputs": [],
   "source": [
    "Dim_Funds_NIH_Ori = Dim_Funds_NIH.copy()\n",
    "Dim_Funds_NSF_Ori = Dim_Funds_NSF.copy()"
   ]
  },
  {
   "cell_type": "code",
   "execution_count": 10,
   "id": "90bb9448",
   "metadata": {},
   "outputs": [
    {
     "data": {
      "text/plain": [
       "6459997"
      ]
     },
     "execution_count": 10,
     "metadata": {},
     "output_type": "execute_result"
    }
   ],
   "source": [
    "Dim_Funds_NIH = Dim_Funds_NIH_Ori.loc[pd.notnull(Dim_Funds_NIH_Ori['grant_id']), :]\n",
    "len(Dim_Funds_NIH)"
   ]
  },
  {
   "cell_type": "code",
   "execution_count": 11,
   "id": "8aa7518d",
   "metadata": {},
   "outputs": [
    {
     "data": {
      "text/plain": [
       "1116104"
      ]
     },
     "execution_count": 11,
     "metadata": {},
     "output_type": "execute_result"
    }
   ],
   "source": [
    "Dim_Funds_NSF = Dim_Funds_NSF_Ori.loc[pd.notnull(Dim_Funds_NSF_Ori['grant_id']), :]\n",
    "len(Dim_Funds_NSF)"
   ]
  },
  {
   "cell_type": "code",
   "execution_count": 12,
   "id": "0c66175b",
   "metadata": {},
   "outputs": [
    {
     "name": "stdout",
     "output_type": "stream",
     "text": [
      "CPU times: user 5.17 s, sys: 705 ms, total: 5.87 s\n",
      "Wall time: 5.89 s\n"
     ]
    },
    {
     "data": {
      "text/plain": [
       "(6459997, 1116104)"
      ]
     },
     "execution_count": 12,
     "metadata": {},
     "output_type": "execute_result"
    }
   ],
   "source": [
    "%%time\n",
    "len(Dim_Funds_NIH.drop_duplicates(subset=['id','grant_id'])), len(Dim_Funds_NSF.drop_duplicates(subset=['id','grant_id']))"
   ]
  },
  {
   "cell_type": "markdown",
   "id": "de0d4d19",
   "metadata": {},
   "source": [
    "# Analyse NIH Total"
   ]
  },
  {
   "cell_type": "code",
   "execution_count": 13,
   "id": "bdc06864",
   "metadata": {},
   "outputs": [
    {
     "name": "stdout",
     "output_type": "stream",
     "text": [
      "335028\n",
      "CPU times: user 2.28 s, sys: 178 ms, total: 2.46 s\n",
      "Wall time: 2.46 s\n"
     ]
    },
    {
     "data": {
      "text/html": [
       "<div>\n",
       "<style scoped>\n",
       "    .dataframe tbody tr th:only-of-type {\n",
       "        vertical-align: middle;\n",
       "    }\n",
       "\n",
       "    .dataframe tbody tr th {\n",
       "        vertical-align: top;\n",
       "    }\n",
       "\n",
       "    .dataframe thead th {\n",
       "        text-align: right;\n",
       "    }\n",
       "</style>\n",
       "<table border=\"1\" class=\"dataframe\">\n",
       "  <thead>\n",
       "    <tr style=\"text-align: right;\">\n",
       "      <th></th>\n",
       "      <th>grant_id</th>\n",
       "      <th>count</th>\n",
       "    </tr>\n",
       "  </thead>\n",
       "  <tbody>\n",
       "    <tr>\n",
       "      <th>0</th>\n",
       "      <td>grant.2343412</td>\n",
       "      <td>1</td>\n",
       "    </tr>\n",
       "    <tr>\n",
       "      <th>1</th>\n",
       "      <td>grant.2343434</td>\n",
       "      <td>3</td>\n",
       "    </tr>\n",
       "    <tr>\n",
       "      <th>2</th>\n",
       "      <td>grant.2343458</td>\n",
       "      <td>2</td>\n",
       "    </tr>\n",
       "    <tr>\n",
       "      <th>3</th>\n",
       "      <td>grant.2343466</td>\n",
       "      <td>1</td>\n",
       "    </tr>\n",
       "    <tr>\n",
       "      <th>4</th>\n",
       "      <td>grant.2343479</td>\n",
       "      <td>1</td>\n",
       "    </tr>\n",
       "  </tbody>\n",
       "</table>\n",
       "</div>"
      ],
      "text/plain": [
       "        grant_id  count\n",
       "0  grant.2343412      1\n",
       "1  grant.2343434      3\n",
       "2  grant.2343458      2\n",
       "3  grant.2343466      1\n",
       "4  grant.2343479      1"
      ]
     },
     "execution_count": 13,
     "metadata": {},
     "output_type": "execute_result"
    }
   ],
   "source": [
    "%%time\n",
    "Dim_Funds_NIH_cnt = Dim_Funds_NIH.groupby(['grant_id'])['id'].agg(['count']).reset_index()\n",
    "print(len(Dim_Funds_NIH_cnt))\n",
    "Dim_Funds_NIH_cnt.head(5)"
   ]
  },
  {
   "cell_type": "code",
   "execution_count": 14,
   "id": "18164cf6",
   "metadata": {},
   "outputs": [],
   "source": [
    "Dim_Funds_NIH_cnt.rename(columns={'count':'paper_count'}, inplace=True)"
   ]
  },
  {
   "cell_type": "code",
   "execution_count": 15,
   "id": "b1117223",
   "metadata": {},
   "outputs": [
    {
     "data": {
      "text/html": [
       "<div>\n",
       "<style scoped>\n",
       "    .dataframe tbody tr th:only-of-type {\n",
       "        vertical-align: middle;\n",
       "    }\n",
       "\n",
       "    .dataframe tbody tr th {\n",
       "        vertical-align: top;\n",
       "    }\n",
       "\n",
       "    .dataframe thead th {\n",
       "        text-align: right;\n",
       "    }\n",
       "</style>\n",
       "<table border=\"1\" class=\"dataframe\">\n",
       "  <thead>\n",
       "    <tr style=\"text-align: right;\">\n",
       "      <th></th>\n",
       "      <th>paper_count</th>\n",
       "      <th>count</th>\n",
       "    </tr>\n",
       "  </thead>\n",
       "  <tbody>\n",
       "    <tr>\n",
       "      <th>0</th>\n",
       "      <td>1</td>\n",
       "      <td>45552</td>\n",
       "    </tr>\n",
       "    <tr>\n",
       "      <th>1</th>\n",
       "      <td>2</td>\n",
       "      <td>34432</td>\n",
       "    </tr>\n",
       "    <tr>\n",
       "      <th>2</th>\n",
       "      <td>3</td>\n",
       "      <td>27451</td>\n",
       "    </tr>\n",
       "    <tr>\n",
       "      <th>3</th>\n",
       "      <td>4</td>\n",
       "      <td>22235</td>\n",
       "    </tr>\n",
       "    <tr>\n",
       "      <th>4</th>\n",
       "      <td>5</td>\n",
       "      <td>18363</td>\n",
       "    </tr>\n",
       "  </tbody>\n",
       "</table>\n",
       "</div>"
      ],
      "text/plain": [
       "   paper_count  count\n",
       "0            1  45552\n",
       "1            2  34432\n",
       "2            3  27451\n",
       "3            4  22235\n",
       "4            5  18363"
      ]
     },
     "execution_count": 15,
     "metadata": {},
     "output_type": "execute_result"
    }
   ],
   "source": [
    "Dim_Funds_NIH_cnt2 = Dim_Funds_NIH_cnt.groupby(['paper_count'])['grant_id'].agg(['count']).reset_index()\n",
    "Dim_Funds_NIH_cnt2.head(5)"
   ]
  },
  {
   "cell_type": "code",
   "execution_count": 16,
   "id": "28e0c52f",
   "metadata": {},
   "outputs": [],
   "source": [
    "Dim_Funds_NIH_cnt2_Sel = Dim_Funds_NIH_cnt2.head(20)"
   ]
  },
  {
   "cell_type": "code",
   "execution_count": 17,
   "id": "c475758d",
   "metadata": {},
   "outputs": [
    {
     "name": "stdout",
     "output_type": "stream",
     "text": [
      "CPU times: user 2.01 ms, sys: 1e+03 µs, total: 3.01 ms\n",
      "Wall time: 2.88 ms\n"
     ]
    }
   ],
   "source": [
    "%%time\n",
    "Dim_Funds_NIH_cnt2_Sel = Dim_Funds_NIH_cnt2_Sel.copy()\n",
    "Dim_Funds_NIH_cnt2_Sel['pct'] = Dim_Funds_NIH_cnt2_Sel['count'] / Dim_Funds_NIH_cnt2_Sel['count'].sum()"
   ]
  },
  {
   "cell_type": "code",
   "execution_count": 18,
   "id": "af92fde8",
   "metadata": {},
   "outputs": [
    {
     "name": "stdout",
     "output_type": "stream",
     "text": [
      "CPU times: user 1.67 s, sys: 140 ms, total: 1.81 s\n",
      "Wall time: 1.8 s\n"
     ]
    },
    {
     "data": {
      "text/html": [
       "<div>\n",
       "<style scoped>\n",
       "    .dataframe tbody tr th:only-of-type {\n",
       "        vertical-align: middle;\n",
       "    }\n",
       "\n",
       "    .dataframe tbody tr th {\n",
       "        vertical-align: top;\n",
       "    }\n",
       "\n",
       "    .dataframe thead th {\n",
       "        text-align: right;\n",
       "    }\n",
       "</style>\n",
       "<table border=\"1\" class=\"dataframe\">\n",
       "  <thead>\n",
       "    <tr style=\"text-align: right;\">\n",
       "      <th></th>\n",
       "      <th>NIH_Project_Number</th>\n",
       "      <th>count</th>\n",
       "    </tr>\n",
       "  </thead>\n",
       "  <tbody>\n",
       "    <tr>\n",
       "      <th>0</th>\n",
       "      <td>A02AH000423</td>\n",
       "      <td>1</td>\n",
       "    </tr>\n",
       "    <tr>\n",
       "      <th>1</th>\n",
       "      <td>A03AH000601</td>\n",
       "      <td>2</td>\n",
       "    </tr>\n",
       "    <tr>\n",
       "      <th>2</th>\n",
       "      <td>A03AH000978</td>\n",
       "      <td>1</td>\n",
       "    </tr>\n",
       "    <tr>\n",
       "      <th>3</th>\n",
       "      <td>A03AH001082</td>\n",
       "      <td>2</td>\n",
       "    </tr>\n",
       "    <tr>\n",
       "      <th>4</th>\n",
       "      <td>A03AH001165</td>\n",
       "      <td>2</td>\n",
       "    </tr>\n",
       "  </tbody>\n",
       "</table>\n",
       "</div>"
      ],
      "text/plain": [
       "  NIH_Project_Number  count\n",
       "0        A02AH000423      1\n",
       "1        A03AH000601      2\n",
       "2        A03AH000978      1\n",
       "3        A03AH001082      2\n",
       "4        A03AH001165      2"
      ]
     },
     "execution_count": 18,
     "metadata": {},
     "output_type": "execute_result"
    }
   ],
   "source": [
    "%%time\n",
    "SciNet_Link_Paper_NIH_cnt = SciNet_Link_Paper_NIH.groupby(\n",
    "    ['NIH_Project_Number'])['PaperID'].agg(['count']).reset_index()\n",
    "SciNet_Link_Paper_NIH_cnt.head(5)"
   ]
  },
  {
   "cell_type": "code",
   "execution_count": 19,
   "id": "dc609e91",
   "metadata": {},
   "outputs": [],
   "source": [
    "SciNet_Link_Paper_NIH_cnt.rename(columns={'count':'paper_count'}, inplace=True)"
   ]
  },
  {
   "cell_type": "code",
   "execution_count": 20,
   "id": "d0be8a81",
   "metadata": {},
   "outputs": [
    {
     "name": "stdout",
     "output_type": "stream",
     "text": [
      "CPU times: user 66.4 ms, sys: 929 µs, total: 67.3 ms\n",
      "Wall time: 66 ms\n"
     ]
    },
    {
     "data": {
      "text/html": [
       "<div>\n",
       "<style scoped>\n",
       "    .dataframe tbody tr th:only-of-type {\n",
       "        vertical-align: middle;\n",
       "    }\n",
       "\n",
       "    .dataframe tbody tr th {\n",
       "        vertical-align: top;\n",
       "    }\n",
       "\n",
       "    .dataframe thead th {\n",
       "        text-align: right;\n",
       "    }\n",
       "</style>\n",
       "<table border=\"1\" class=\"dataframe\">\n",
       "  <thead>\n",
       "    <tr style=\"text-align: right;\">\n",
       "      <th></th>\n",
       "      <th>paper_count</th>\n",
       "      <th>count</th>\n",
       "    </tr>\n",
       "  </thead>\n",
       "  <tbody>\n",
       "    <tr>\n",
       "      <th>0</th>\n",
       "      <td>1</td>\n",
       "      <td>70353</td>\n",
       "    </tr>\n",
       "    <tr>\n",
       "      <th>1</th>\n",
       "      <td>2</td>\n",
       "      <td>44107</td>\n",
       "    </tr>\n",
       "    <tr>\n",
       "      <th>2</th>\n",
       "      <td>3</td>\n",
       "      <td>33223</td>\n",
       "    </tr>\n",
       "    <tr>\n",
       "      <th>3</th>\n",
       "      <td>4</td>\n",
       "      <td>25993</td>\n",
       "    </tr>\n",
       "    <tr>\n",
       "      <th>4</th>\n",
       "      <td>5</td>\n",
       "      <td>20905</td>\n",
       "    </tr>\n",
       "  </tbody>\n",
       "</table>\n",
       "</div>"
      ],
      "text/plain": [
       "   paper_count  count\n",
       "0            1  70353\n",
       "1            2  44107\n",
       "2            3  33223\n",
       "3            4  25993\n",
       "4            5  20905"
      ]
     },
     "execution_count": 20,
     "metadata": {},
     "output_type": "execute_result"
    }
   ],
   "source": [
    "%%time\n",
    "SciNet_Link_Paper_NIH_cnt2 = SciNet_Link_Paper_NIH_cnt.groupby(\n",
    "    ['paper_count'])['NIH_Project_Number'].agg(['count']).reset_index()\n",
    "SciNet_Link_Paper_NIH_cnt2.head(5)"
   ]
  },
  {
   "cell_type": "code",
   "execution_count": 21,
   "id": "fe04ee8f",
   "metadata": {},
   "outputs": [],
   "source": [
    "SciNet_Link_Paper_NIH_cnt2_Sel = SciNet_Link_Paper_NIH_cnt2.head(20)"
   ]
  },
  {
   "cell_type": "code",
   "execution_count": 22,
   "id": "88cb0a30",
   "metadata": {},
   "outputs": [],
   "source": [
    "SciNet_Link_Paper_NIH_cnt2_Sel = SciNet_Link_Paper_NIH_cnt2_Sel.copy()\n",
    "SciNet_Link_Paper_NIH_cnt2_Sel['pct'] = SciNet_Link_Paper_NIH_cnt2_Sel['count'] \\\n",
    "/ SciNet_Link_Paper_NIH_cnt2_Sel['count'].sum()"
   ]
  },
  {
   "cell_type": "code",
   "execution_count": 23,
   "id": "e8e485e2",
   "metadata": {},
   "outputs": [
    {
     "data": {
      "image/png": "[encoded data removed]",
      "text/plain": [
       "<Figure size 432x288 with 1 Axes>"
      ]
     },
     "metadata": {
      "needs_background": "light"
     },
     "output_type": "display_data"
    }
   ],
   "source": [
    "%matplotlib inline\n",
    "import matplotlib.pyplot as plt\n",
    "f = plt.figure()\n",
    "\n",
    "col1 = '#4E2A84'\n",
    "col2 = '#F7602A'\n",
    "\n",
    "import matplotlib as mpl\n",
    "mpl.rcParams['axes.prop_cycle'] = mpl.cycler(color=['#4e79a7','#e15759'])\n",
    "ax = f.add_subplot()\n",
    "plt.bar(SciNet_Link_Paper_NIH_cnt2_Sel.paper_count,\n",
    "        SciNet_Link_Paper_NIH_cnt2_Sel.pct,\n",
    "        width=1,\n",
    "        edgecolor= col2,\n",
    "#          color='#4e79a7',\n",
    "         label = 'SciNet',alpha=0.8, \n",
    "         fill= False\n",
    "        )\n",
    "plt.bar(Dim_Funds_NIH_cnt2_Sel.paper_count,\n",
    "        Dim_Funds_NIH_cnt2_Sel.pct,\n",
    "        width=1,\n",
    "         edgecolor= col1,\n",
    "#         color='#e15759',\n",
    "         label = 'Dimensions',alpha=0.8, \n",
    "         fill= False\n",
    "        )\n",
    "plt.xlabel('# of papers',size=20)\n",
    "plt.ylabel('NIH Probability',size=20)\n",
    "plt.xticks(fontsize=15)\n",
    "ax.set_xticks([0,5,10,15,20])\n",
    "# plt.yticks(,fontsize=15)\n",
    "plt.ylim(0,0.8)\n",
    "# plt.xlim(-0.5,20.5)\n",
    "# leg = ax.legend(fontsize=15,frameon=False, loc=1)\n",
    "plt.legend(fontsize=15,frameon=False, loc=1)\n",
    "# for color,text in zip(color,leg.get_texts()):\n",
    "#     text.set_color(color)\n",
    "# ax.legend(fontsize=15,frameon=False)\n",
    "plt.tight_layout()"
   ]
  },
  {
   "cell_type": "markdown",
   "id": "f1999066",
   "metadata": {},
   "source": [
    "# Analyse NSF Total"
   ]
  },
  {
   "cell_type": "code",
   "execution_count": 24,
   "id": "752fefd4",
   "metadata": {},
   "outputs": [
    {
     "name": "stdout",
     "output_type": "stream",
     "text": [
      "168713\n",
      "CPU times: user 721 ms, sys: 65.7 ms, total: 786 ms\n",
      "Wall time: 785 ms\n"
     ]
    },
    {
     "data": {
      "text/html": [
       "<div>\n",
       "<style scoped>\n",
       "    .dataframe tbody tr th:only-of-type {\n",
       "        vertical-align: middle;\n",
       "    }\n",
       "\n",
       "    .dataframe tbody tr th {\n",
       "        vertical-align: top;\n",
       "    }\n",
       "\n",
       "    .dataframe thead th {\n",
       "        text-align: right;\n",
       "    }\n",
       "</style>\n",
       "<table border=\"1\" class=\"dataframe\">\n",
       "  <thead>\n",
       "    <tr style=\"text-align: right;\">\n",
       "      <th></th>\n",
       "      <th>grant_id</th>\n",
       "      <th>count</th>\n",
       "    </tr>\n",
       "  </thead>\n",
       "  <tbody>\n",
       "    <tr>\n",
       "      <th>0</th>\n",
       "      <td>grant.2990010</td>\n",
       "      <td>3</td>\n",
       "    </tr>\n",
       "    <tr>\n",
       "      <th>1</th>\n",
       "      <td>grant.2990011</td>\n",
       "      <td>1</td>\n",
       "    </tr>\n",
       "    <tr>\n",
       "      <th>2</th>\n",
       "      <td>grant.2990012</td>\n",
       "      <td>3</td>\n",
       "    </tr>\n",
       "    <tr>\n",
       "      <th>3</th>\n",
       "      <td>grant.2990016</td>\n",
       "      <td>4</td>\n",
       "    </tr>\n",
       "    <tr>\n",
       "      <th>4</th>\n",
       "      <td>grant.2990024</td>\n",
       "      <td>15</td>\n",
       "    </tr>\n",
       "  </tbody>\n",
       "</table>\n",
       "</div>"
      ],
      "text/plain": [
       "        grant_id  count\n",
       "0  grant.2990010      3\n",
       "1  grant.2990011      1\n",
       "2  grant.2990012      3\n",
       "3  grant.2990016      4\n",
       "4  grant.2990024     15"
      ]
     },
     "execution_count": 24,
     "metadata": {},
     "output_type": "execute_result"
    }
   ],
   "source": [
    "%%time\n",
    "Dim_Funds_NSF_cnt = Dim_Funds_NSF.groupby(['grant_id'])['id'].agg(['count']).reset_index()\n",
    "print(len(Dim_Funds_NSF_cnt))\n",
    "Dim_Funds_NSF_cnt.head(5)"
   ]
  },
  {
   "cell_type": "code",
   "execution_count": 25,
   "id": "79ac8b47",
   "metadata": {},
   "outputs": [],
   "source": [
    "Dim_Funds_NSF_cnt.rename(columns={'count':'paper_count'}, inplace=True)"
   ]
  },
  {
   "cell_type": "code",
   "execution_count": 26,
   "id": "dcd60a72",
   "metadata": {},
   "outputs": [
    {
     "name": "stdout",
     "output_type": "stream",
     "text": [
      "CPU times: user 39.3 ms, sys: 954 µs, total: 40.3 ms\n",
      "Wall time: 39.4 ms\n"
     ]
    },
    {
     "data": {
      "text/html": [
       "<div>\n",
       "<style scoped>\n",
       "    .dataframe tbody tr th:only-of-type {\n",
       "        vertical-align: middle;\n",
       "    }\n",
       "\n",
       "    .dataframe tbody tr th {\n",
       "        vertical-align: top;\n",
       "    }\n",
       "\n",
       "    .dataframe thead th {\n",
       "        text-align: right;\n",
       "    }\n",
       "</style>\n",
       "<table border=\"1\" class=\"dataframe\">\n",
       "  <thead>\n",
       "    <tr style=\"text-align: right;\">\n",
       "      <th></th>\n",
       "      <th>paper_count</th>\n",
       "      <th>count</th>\n",
       "    </tr>\n",
       "  </thead>\n",
       "  <tbody>\n",
       "    <tr>\n",
       "      <th>0</th>\n",
       "      <td>1</td>\n",
       "      <td>44306</td>\n",
       "    </tr>\n",
       "    <tr>\n",
       "      <th>1</th>\n",
       "      <td>2</td>\n",
       "      <td>26690</td>\n",
       "    </tr>\n",
       "    <tr>\n",
       "      <th>2</th>\n",
       "      <td>3</td>\n",
       "      <td>18622</td>\n",
       "    </tr>\n",
       "    <tr>\n",
       "      <th>3</th>\n",
       "      <td>4</td>\n",
       "      <td>13928</td>\n",
       "    </tr>\n",
       "    <tr>\n",
       "      <th>4</th>\n",
       "      <td>5</td>\n",
       "      <td>10712</td>\n",
       "    </tr>\n",
       "  </tbody>\n",
       "</table>\n",
       "</div>"
      ],
      "text/plain": [
       "   paper_count  count\n",
       "0            1  44306\n",
       "1            2  26690\n",
       "2            3  18622\n",
       "3            4  13928\n",
       "4            5  10712"
      ]
     },
     "execution_count": 26,
     "metadata": {},
     "output_type": "execute_result"
    }
   ],
   "source": [
    "%%time\n",
    "Dim_Funds_NSF_cnt2 = Dim_Funds_NSF_cnt.groupby(['paper_count'])['grant_id'].agg(['count']).reset_index()\n",
    "Dim_Funds_NSF_cnt2.head(5)"
   ]
  },
  {
   "cell_type": "code",
   "execution_count": 27,
   "id": "e2feb725",
   "metadata": {},
   "outputs": [],
   "source": [
    "Dim_Funds_NSF_cnt2_Sel = Dim_Funds_NSF_cnt2.head(20)"
   ]
  },
  {
   "cell_type": "code",
   "execution_count": 28,
   "id": "89936f5d",
   "metadata": {},
   "outputs": [
    {
     "data": {
      "text/plain": [
       "0.9504483946109665"
      ]
     },
     "execution_count": 28,
     "metadata": {},
     "output_type": "execute_result"
    }
   ],
   "source": [
    "Dim_Funds_NSF_cnt2.head(20)['count'].sum() / Dim_Funds_NSF_cnt2['count'].sum()"
   ]
  },
  {
   "cell_type": "code",
   "execution_count": 29,
   "id": "27ab759b",
   "metadata": {},
   "outputs": [
    {
     "name": "stdout",
     "output_type": "stream",
     "text": [
      "CPU times: user 2.66 ms, sys: 0 ns, total: 2.66 ms\n",
      "Wall time: 2.54 ms\n"
     ]
    }
   ],
   "source": [
    "%%time\n",
    "Dim_Funds_NSF_cnt2_Sel = Dim_Funds_NSF_cnt2_Sel.copy()\n",
    "Dim_Funds_NSF_cnt2_Sel['pct'] = Dim_Funds_NSF_cnt2_Sel['count'] / Dim_Funds_NSF_cnt2_Sel['count'].sum()"
   ]
  },
  {
   "cell_type": "code",
   "execution_count": 30,
   "id": "bd3ad89c",
   "metadata": {},
   "outputs": [
    {
     "data": {
      "text/plain": [
       "1309518"
      ]
     },
     "execution_count": 30,
     "metadata": {},
     "output_type": "execute_result"
    }
   ],
   "source": [
    "SciNet_Link_Paper_NSF_Ori = SciNet_Link_Paper_NSF.copy()\n",
    "len(SciNet_Link_Paper_NSF_Ori)"
   ]
  },
  {
   "cell_type": "code",
   "execution_count": 31,
   "id": "2645637d",
   "metadata": {},
   "outputs": [
    {
     "name": "stdout",
     "output_type": "stream",
     "text": [
      "CPU times: user 324 ms, sys: 32.2 ms, total: 356 ms\n",
      "Wall time: 352 ms\n"
     ]
    }
   ],
   "source": [
    "%%time\n",
    "SciNet_Link_Paper_NSF_Ori_cnt= SciNet_Link_Paper_NSF_Ori.groupby(\n",
    "    ['NSF_Award_Number'])['PaperID'].agg(['count']).reset_index()\n",
    "SciNet_Link_Paper_NSF_Ori_cnt.rename(columns={'count':'SciNet_paper_count'},inplace=True)"
   ]
  },
  {
   "cell_type": "code",
   "execution_count": 32,
   "id": "408c3259",
   "metadata": {},
   "outputs": [
    {
     "data": {
      "text/plain": [
       "1130641"
      ]
     },
     "execution_count": 32,
     "metadata": {},
     "output_type": "execute_result"
    }
   ],
   "source": [
    "SciNet_Link_Paper_NSF = SciNet_Link_Paper_NSF_Ori.loc[SciNet_Link_Paper_NSF_Ori['Type'].isin(['First','Crossref']),:]\n",
    "len(SciNet_Link_Paper_NSF)"
   ]
  },
  {
   "cell_type": "code",
   "execution_count": 33,
   "id": "70abde3f",
   "metadata": {},
   "outputs": [
    {
     "name": "stdout",
     "output_type": "stream",
     "text": [
      "CPU times: user 283 ms, sys: 34 ms, total: 317 ms\n",
      "Wall time: 314 ms\n"
     ]
    },
    {
     "data": {
      "text/html": [
       "<div>\n",
       "<style scoped>\n",
       "    .dataframe tbody tr th:only-of-type {\n",
       "        vertical-align: middle;\n",
       "    }\n",
       "\n",
       "    .dataframe tbody tr th {\n",
       "        vertical-align: top;\n",
       "    }\n",
       "\n",
       "    .dataframe thead th {\n",
       "        text-align: right;\n",
       "    }\n",
       "</style>\n",
       "<table border=\"1\" class=\"dataframe\">\n",
       "  <thead>\n",
       "    <tr style=\"text-align: right;\">\n",
       "      <th></th>\n",
       "      <th>NSF_Award_Number</th>\n",
       "      <th>count</th>\n",
       "    </tr>\n",
       "  </thead>\n",
       "  <tbody>\n",
       "    <tr>\n",
       "      <th>0</th>\n",
       "      <td>NSF-0000000</td>\n",
       "      <td>2</td>\n",
       "    </tr>\n",
       "    <tr>\n",
       "      <th>1</th>\n",
       "      <td>NSF-0000031</td>\n",
       "      <td>1</td>\n",
       "    </tr>\n",
       "    <tr>\n",
       "      <th>2</th>\n",
       "      <td>NSF-0000050</td>\n",
       "      <td>3</td>\n",
       "    </tr>\n",
       "    <tr>\n",
       "      <th>3</th>\n",
       "      <td>NSF-0000096</td>\n",
       "      <td>1</td>\n",
       "    </tr>\n",
       "    <tr>\n",
       "      <th>4</th>\n",
       "      <td>NSF-0000135</td>\n",
       "      <td>1</td>\n",
       "    </tr>\n",
       "  </tbody>\n",
       "</table>\n",
       "</div>"
      ],
      "text/plain": [
       "  NSF_Award_Number  count\n",
       "0      NSF-0000000      2\n",
       "1      NSF-0000031      1\n",
       "2      NSF-0000050      3\n",
       "3      NSF-0000096      1\n",
       "4      NSF-0000135      1"
      ]
     },
     "execution_count": 33,
     "metadata": {},
     "output_type": "execute_result"
    }
   ],
   "source": [
    "%%time\n",
    "SciNet_Link_Paper_NSF_cnt= SciNet_Link_Paper_NSF.groupby(\n",
    "    ['NSF_Award_Number'])['PaperID'].agg(['count']).reset_index()\n",
    "SciNet_Link_Paper_NSF_cnt.head(5)"
   ]
  },
  {
   "cell_type": "code",
   "execution_count": 34,
   "id": "a950513b",
   "metadata": {},
   "outputs": [
    {
     "data": {
      "text/plain": [
       "28924"
      ]
     },
     "execution_count": 34,
     "metadata": {},
     "output_type": "execute_result"
    }
   ],
   "source": [
    "len(SciNet_Link_Paper_NSF_cnt[SciNet_Link_Paper_NSF_cnt['count'] == 1])"
   ]
  },
  {
   "cell_type": "code",
   "execution_count": 35,
   "id": "cbf4cc87",
   "metadata": {},
   "outputs": [],
   "source": [
    "SciNet_Link_Paper_NSF_cnt.rename(columns={'count':'paper_count'}, inplace=True)"
   ]
  },
  {
   "cell_type": "code",
   "execution_count": 36,
   "id": "c45c34f9",
   "metadata": {},
   "outputs": [
    {
     "name": "stdout",
     "output_type": "stream",
     "text": [
      "CPU times: user 22.1 ms, sys: 3.64 ms, total: 25.7 ms\n",
      "Wall time: 25 ms\n"
     ]
    },
    {
     "data": {
      "text/html": [
       "<div>\n",
       "<style scoped>\n",
       "    .dataframe tbody tr th:only-of-type {\n",
       "        vertical-align: middle;\n",
       "    }\n",
       "\n",
       "    .dataframe tbody tr th {\n",
       "        vertical-align: top;\n",
       "    }\n",
       "\n",
       "    .dataframe thead th {\n",
       "        text-align: right;\n",
       "    }\n",
       "</style>\n",
       "<table border=\"1\" class=\"dataframe\">\n",
       "  <thead>\n",
       "    <tr style=\"text-align: right;\">\n",
       "      <th></th>\n",
       "      <th>paper_count</th>\n",
       "      <th>count</th>\n",
       "    </tr>\n",
       "  </thead>\n",
       "  <tbody>\n",
       "    <tr>\n",
       "      <th>0</th>\n",
       "      <td>1</td>\n",
       "      <td>28924</td>\n",
       "    </tr>\n",
       "    <tr>\n",
       "      <th>1</th>\n",
       "      <td>2</td>\n",
       "      <td>18652</td>\n",
       "    </tr>\n",
       "    <tr>\n",
       "      <th>2</th>\n",
       "      <td>3</td>\n",
       "      <td>14446</td>\n",
       "    </tr>\n",
       "    <tr>\n",
       "      <th>3</th>\n",
       "      <td>4</td>\n",
       "      <td>11881</td>\n",
       "    </tr>\n",
       "    <tr>\n",
       "      <th>4</th>\n",
       "      <td>5</td>\n",
       "      <td>9860</td>\n",
       "    </tr>\n",
       "  </tbody>\n",
       "</table>\n",
       "</div>"
      ],
      "text/plain": [
       "   paper_count  count\n",
       "0            1  28924\n",
       "1            2  18652\n",
       "2            3  14446\n",
       "3            4  11881\n",
       "4            5   9860"
      ]
     },
     "execution_count": 36,
     "metadata": {},
     "output_type": "execute_result"
    }
   ],
   "source": [
    "%%time\n",
    "SciNet_Link_Paper_NSF_cnt2 = SciNet_Link_Paper_NSF_cnt.groupby(\n",
    "    ['paper_count'])['NSF_Award_Number'].agg(['count']).reset_index()\n",
    "SciNet_Link_Paper_NSF_cnt2.head(5)"
   ]
  },
  {
   "cell_type": "code",
   "execution_count": 37,
   "id": "118acc54",
   "metadata": {},
   "outputs": [],
   "source": [
    "SciNet_Link_Paper_NSF_cnt2_Sel = SciNet_Link_Paper_NSF_cnt2.head(20)"
   ]
  },
  {
   "cell_type": "code",
   "execution_count": 38,
   "id": "d829a56b",
   "metadata": {},
   "outputs": [
    {
     "data": {
      "text/plain": [
       "0.9339744839689128"
      ]
     },
     "execution_count": 38,
     "metadata": {},
     "output_type": "execute_result"
    }
   ],
   "source": [
    "SciNet_Link_Paper_NSF_cnt2_Sel['count'].sum() / SciNet_Link_Paper_NSF_cnt2['count'].sum()"
   ]
  },
  {
   "cell_type": "code",
   "execution_count": 39,
   "id": "3b959d9d",
   "metadata": {},
   "outputs": [],
   "source": [
    "SciNet_Link_Paper_NSF_cnt2_Sel = SciNet_Link_Paper_NSF_cnt2_Sel.copy()\n",
    "SciNet_Link_Paper_NSF_cnt2_Sel['pct'] = SciNet_Link_Paper_NSF_cnt2_Sel['count'] \\\n",
    "/ SciNet_Link_Paper_NSF_cnt2_Sel['count'].sum()"
   ]
  },
  {
   "cell_type": "code",
   "execution_count": 40,
   "id": "7c9e2f6c",
   "metadata": {},
   "outputs": [
    {
     "data": {
      "image/png": "[encoded data removed]",
      "text/plain": [
       "<Figure size 432x288 with 1 Axes>"
      ]
     },
     "metadata": {
      "needs_background": "light"
     },
     "output_type": "display_data"
    }
   ],
   "source": [
    "%matplotlib inline\n",
    "import matplotlib.pyplot as plt\n",
    "f = plt.figure()\n",
    "\n",
    "col1 = '#4E2A84'\n",
    "col2 = '#F7602A'\n",
    "\n",
    "import matplotlib as mpl\n",
    "mpl.rcParams['axes.prop_cycle'] = mpl.cycler(color=['#4e79a7','#e15759'])\n",
    "ax = f.add_subplot()\n",
    "plt.bar(SciNet_Link_Paper_NSF_cnt2_Sel.paper_count,\n",
    "        SciNet_Link_Paper_NSF_cnt2_Sel.pct,\n",
    "        width=1,\n",
    "        edgecolor= col2,\n",
    "#          color='#4e79a7',\n",
    "         label = 'SciNet',alpha=0.8, \n",
    "         fill= False\n",
    "        )\n",
    "plt.bar(Dim_Funds_NSF_cnt2_Sel.paper_count,\n",
    "        Dim_Funds_NSF_cnt2_Sel.pct,\n",
    "        width=1,\n",
    "         edgecolor= col1,\n",
    "#         color='#e15759',\n",
    "         label = 'Dimensions',alpha=0.8, \n",
    "         fill= False\n",
    "        )\n",
    "plt.xlabel('# of papers',size=20)\n",
    "plt.ylabel('NSF Probability',size=20)\n",
    "plt.xticks(fontsize=15)\n",
    "ax.set_xticks([0,5,10,15,20])\n",
    "# plt.yticks(,fontsize=15)\n",
    "plt.ylim(0,0.8)\n",
    "# plt.xlim(-0.5,20.5)\n",
    "# leg = ax.legend(fontsize=15,frameon=False, loc=1)\n",
    "plt.legend(fontsize=15,frameon=False, loc=1)\n",
    "# for color,text in zip(color,leg.get_texts()):\n",
    "#     text.set_color(color)\n",
    "# ax.legend(fontsize=15,frameon=False)\n",
    "plt.tight_layout()"
   ]
  },
  {
   "cell_type": "markdown",
   "id": "46ecaa80",
   "metadata": {},
   "source": [
    "# Read real Grants"
   ]
  },
  {
   "cell_type": "code",
   "execution_count": 41,
   "id": "8c76469d",
   "metadata": {},
   "outputs": [
    {
     "name": "stdout",
     "output_type": "stream",
     "text": [
      "CPU times: user 40.5 s, sys: 7.13 s, total: 47.7 s\n",
      "Wall time: 47.6 s\n"
     ]
    },
    {
     "data": {
      "text/plain": [
       "5748802"
      ]
     },
     "execution_count": 41,
     "metadata": {},
     "output_type": "execute_result"
    }
   ],
   "source": [
    "%%time\n",
    "import gzip\n",
    "import json\n",
    "with gzip.open('../../dimensions/data_dump/20210301/csv/grants.json.gz', 'r') as f:\n",
    "    data_grant_raw = f.read()\n",
    "    data_grant_total = json.loads(data_grant_raw.decode('utf-8'))\n",
    "len(data_grant_total)"
   ]
  },
  {
   "cell_type": "code",
   "execution_count": 42,
   "id": "ba987392",
   "metadata": {},
   "outputs": [
    {
     "name": "stdout",
     "output_type": "stream",
     "text": [
      "CPU times: user 7.38 s, sys: 2.25 s, total: 9.63 s\n",
      "Wall time: 9.64 s\n"
     ]
    },
    {
     "data": {
      "text/html": [
       "<div>\n",
       "<style scoped>\n",
       "    .dataframe tbody tr th:only-of-type {\n",
       "        vertical-align: middle;\n",
       "    }\n",
       "\n",
       "    .dataframe tbody tr th {\n",
       "        vertical-align: top;\n",
       "    }\n",
       "\n",
       "    .dataframe thead th {\n",
       "        text-align: right;\n",
       "    }\n",
       "</style>\n",
       "<table border=\"1\" class=\"dataframe\">\n",
       "  <thead>\n",
       "    <tr style=\"text-align: right;\">\n",
       "      <th></th>\n",
       "      <th>id</th>\n",
       "      <th>title</th>\n",
       "      <th>funding_usd</th>\n",
       "      <th>start_date</th>\n",
       "      <th>end_date</th>\n",
       "      <th>researcher_ids</th>\n",
       "      <th>funder_org</th>\n",
       "      <th>grant_number</th>\n",
       "    </tr>\n",
       "  </thead>\n",
       "  <tbody>\n",
       "    <tr>\n",
       "      <th>5748797</th>\n",
       "      <td>grant.7291896</td>\n",
       "      <td>Catechesis as a means of health and holiness i...</td>\n",
       "      <td>NaN</td>\n",
       "      <td>2004-01-01</td>\n",
       "      <td>None</td>\n",
       "      <td>[ur.016543474701.03]</td>\n",
       "      <td>grid.425534.1</td>\n",
       "      <td>20.500.11892/18142</td>\n",
       "    </tr>\n",
       "    <tr>\n",
       "      <th>5748798</th>\n",
       "      <td>grant.7215880</td>\n",
       "      <td>The popularisation of old testament studies : ...</td>\n",
       "      <td>NaN</td>\n",
       "      <td>1998-01-01</td>\n",
       "      <td>None</td>\n",
       "      <td>[ur.014615630134.14]</td>\n",
       "      <td>grid.425534.1</td>\n",
       "      <td>20.500.11892/37091</td>\n",
       "    </tr>\n",
       "    <tr>\n",
       "      <th>5748799</th>\n",
       "      <td>grant.7388001</td>\n",
       "      <td>The Holy Spirit in the Qur'an an assessment fr...</td>\n",
       "      <td>NaN</td>\n",
       "      <td>2006-01-01</td>\n",
       "      <td>None</td>\n",
       "      <td>[ur.016705020400.47]</td>\n",
       "      <td>grid.425534.1</td>\n",
       "      <td>20.500.11892/32023</td>\n",
       "    </tr>\n",
       "    <tr>\n",
       "      <th>5748800</th>\n",
       "      <td>grant.7231945</td>\n",
       "      <td>A comparative psychological study of religious...</td>\n",
       "      <td>NaN</td>\n",
       "      <td>1971-01-01</td>\n",
       "      <td>None</td>\n",
       "      <td>[ur.015571321160.44]</td>\n",
       "      <td>grid.425534.1</td>\n",
       "      <td>20.500.11892/139257</td>\n",
       "    </tr>\n",
       "    <tr>\n",
       "      <th>5748801</th>\n",
       "      <td>grant.7302156</td>\n",
       "      <td>The origins and development of the Zionist mov...</td>\n",
       "      <td>NaN</td>\n",
       "      <td>1987-01-01</td>\n",
       "      <td>None</td>\n",
       "      <td>[ur.015510335030.28]</td>\n",
       "      <td>grid.425534.1</td>\n",
       "      <td>20.500.11892/79554</td>\n",
       "    </tr>\n",
       "  </tbody>\n",
       "</table>\n",
       "</div>"
      ],
      "text/plain": [
       "                    id                                              title  \\\n",
       "5748797  grant.7291896  Catechesis as a means of health and holiness i...   \n",
       "5748798  grant.7215880  The popularisation of old testament studies : ...   \n",
       "5748799  grant.7388001  The Holy Spirit in the Qur'an an assessment fr...   \n",
       "5748800  grant.7231945  A comparative psychological study of religious...   \n",
       "5748801  grant.7302156  The origins and development of the Zionist mov...   \n",
       "\n",
       "         funding_usd  start_date end_date        researcher_ids  \\\n",
       "5748797          NaN  2004-01-01     None  [ur.016543474701.03]   \n",
       "5748798          NaN  1998-01-01     None  [ur.014615630134.14]   \n",
       "5748799          NaN  2006-01-01     None  [ur.016705020400.47]   \n",
       "5748800          NaN  1971-01-01     None  [ur.015571321160.44]   \n",
       "5748801          NaN  1987-01-01     None  [ur.015510335030.28]   \n",
       "\n",
       "            funder_org         grant_number  \n",
       "5748797  grid.425534.1   20.500.11892/18142  \n",
       "5748798  grid.425534.1   20.500.11892/37091  \n",
       "5748799  grid.425534.1   20.500.11892/32023  \n",
       "5748800  grid.425534.1  20.500.11892/139257  \n",
       "5748801  grid.425534.1   20.500.11892/79554  "
      ]
     },
     "execution_count": 42,
     "metadata": {},
     "output_type": "execute_result"
    }
   ],
   "source": [
    "%%time\n",
    "df_grant_total = pd.DataFrame(data_grant_total)\n",
    "df_grant_total.tail(5)"
   ]
  },
  {
   "cell_type": "markdown",
   "id": "76e1432d",
   "metadata": {},
   "source": [
    "## NIH"
   ]
  },
  {
   "cell_type": "code",
   "execution_count": 43,
   "id": "242f6841",
   "metadata": {},
   "outputs": [
    {
     "name": "stdout",
     "output_type": "stream",
     "text": [
      "CPU times: user 923 ms, sys: 44.6 ms, total: 967 ms\n",
      "Wall time: 955 ms\n"
     ]
    },
    {
     "data": {
      "text/plain": [
       "461616"
      ]
     },
     "execution_count": 43,
     "metadata": {},
     "output_type": "execute_result"
    }
   ],
   "source": [
    "%%time\n",
    "df_grant_total_NIH = df_grant_total.loc[df_grant_total['funder_org'].isin(NIH_List),:]\n",
    "len(df_grant_total_NIH)"
   ]
  },
  {
   "cell_type": "code",
   "execution_count": 44,
   "id": "427dd1f4",
   "metadata": {},
   "outputs": [
    {
     "name": "stdout",
     "output_type": "stream",
     "text": [
      "CPU times: user 62.4 ms, sys: 7.9 ms, total: 70.3 ms\n",
      "Wall time: 67.9 ms\n"
     ]
    }
   ],
   "source": [
    "%%time\n",
    "df_grant_total_NIH_Sel = df_grant_total_NIH.loc[:,['id','grant_number']].copy()"
   ]
  },
  {
   "cell_type": "code",
   "execution_count": 45,
   "id": "66fd317c",
   "metadata": {},
   "outputs": [
    {
     "name": "stdout",
     "output_type": "stream",
     "text": [
      "CPU times: user 702 ms, sys: 98.9 ms, total: 801 ms\n",
      "Wall time: 795 ms\n"
     ]
    }
   ],
   "source": [
    "%%time\n",
    "df_G_total_NIH_Sel = df_grant_total_NIH_Sel.merge(Dim_Funds_NIH_cnt,left_on='id',right_on='grant_id',how='left')\n",
    "df_G_total_NIH_Sel[['paper_count']] = df_G_total_NIH_Sel[['paper_count']].fillna(value=0)"
   ]
  },
  {
   "cell_type": "code",
   "execution_count": 46,
   "id": "66b708d9",
   "metadata": {},
   "outputs": [],
   "source": [
    "SciNet_Link_Paper_NIH_cnt.rename(columns={'paper_count':'SciNet_paper_count'}, inplace=True)"
   ]
  },
  {
   "cell_type": "code",
   "execution_count": 47,
   "id": "863ed510",
   "metadata": {},
   "outputs": [],
   "source": [
    "df_G_total_NIH = df_G_total_NIH_Sel.merge(SciNet_Link_Paper_NIH_cnt,\n",
    "                                          how='left',left_on='grant_number',right_on='NIH_Project_Number')"
   ]
  },
  {
   "cell_type": "code",
   "execution_count": 48,
   "id": "ccda4aad",
   "metadata": {},
   "outputs": [
    {
     "name": "stdout",
     "output_type": "stream",
     "text": [
      "CPU times: user 151 ms, sys: 15.1 ms, total: 166 ms\n",
      "Wall time: 163 ms\n"
     ]
    }
   ],
   "source": [
    "%%time\n",
    "df_G_total_NIH[['SciNet_paper_count']] = df_G_total_NIH[['SciNet_paper_count']].fillna(value=0)"
   ]
  },
  {
   "cell_type": "code",
   "execution_count": 49,
   "id": "c85b72b9",
   "metadata": {},
   "outputs": [
    {
     "name": "stdout",
     "output_type": "stream",
     "text": [
      "CPU times: user 574 ms, sys: 62.2 ms, total: 636 ms\n",
      "Wall time: 1.07 s\n"
     ]
    },
    {
     "data": {
      "text/plain": [
       "(0.9834229974280784, 0.0)"
      ]
     },
     "execution_count": 49,
     "metadata": {},
     "output_type": "execute_result"
    }
   ],
   "source": [
    "%%time\n",
    "import scipy.stats\n",
    "test_NIH = scipy.stats.pearsonr(df_G_total_NIH['paper_count'].values, df_G_total_NIH['SciNet_paper_count'].values)\n",
    "test_NIH"
   ]
  },
  {
   "cell_type": "code",
   "execution_count": 50,
   "id": "ef06a260",
   "metadata": {},
   "outputs": [
    {
     "name": "stdout",
     "output_type": "stream",
     "text": [
      "CPU times: user 2.89 s, sys: 138 ms, total: 3.03 s\n",
      "Wall time: 133 ms\n"
     ]
    },
    {
     "data": {
      "text/plain": [
       "SpearmanrResult(correlation=0.9641656799994021, pvalue=0.0)"
      ]
     },
     "execution_count": 50,
     "metadata": {},
     "output_type": "execute_result"
    }
   ],
   "source": [
    "%%time\n",
    "import scipy.stats\n",
    "test_NIH = scipy.stats.spearmanr(df_G_total_NIH['paper_count'].values, df_G_total_NIH['SciNet_paper_count'].values)\n",
    "test_NIH"
   ]
  },
  {
   "cell_type": "code",
   "execution_count": 51,
   "id": "b192c8e5",
   "metadata": {},
   "outputs": [
    {
     "name": "stdout",
     "output_type": "stream",
     "text": [
      "CPU times: user 1.66 s, sys: 70.1 ms, total: 1.73 s\n",
      "Wall time: 72.2 ms\n"
     ]
    }
   ],
   "source": [
    "%%time\n",
    "df_G_total_NIH_dim2 = df_G_total_NIH.groupby(['paper_count'])['id'].agg(['count']).reset_index()\n",
    "df_G_total_NIH_dim2['pct'] = df_G_total_NIH_dim2['count'] / df_G_total_NIH_dim2['count'].sum()"
   ]
  },
  {
   "cell_type": "code",
   "execution_count": 52,
   "id": "f5b56229",
   "metadata": {},
   "outputs": [
    {
     "name": "stdout",
     "output_type": "stream",
     "text": [
      "CPU times: user 1.53 s, sys: 67.7 ms, total: 1.6 s\n",
      "Wall time: 68.2 ms\n"
     ]
    }
   ],
   "source": [
    "%%time\n",
    "df_G_total_NIH_sci2 = df_G_total_NIH.groupby(['SciNet_paper_count'])['id'].agg(['count']).reset_index()\n",
    "df_G_total_NIH_sci2['pct'] = df_G_total_NIH_sci2['count'] / df_G_total_NIH_sci2['count'].sum()"
   ]
  },
  {
   "cell_type": "code",
   "execution_count": 53,
   "id": "fed3b439",
   "metadata": {},
   "outputs": [
    {
     "data": {
      "image/png": "[encoded data removed]",
      "text/plain": [
       "<Figure size 432x288 with 1 Axes>"
      ]
     },
     "metadata": {
      "needs_background": "light"
     },
     "output_type": "display_data"
    }
   ],
   "source": [
    "%matplotlib inline\n",
    "import matplotlib.pyplot as plt\n",
    "f = plt.figure()\n",
    "\n",
    "col1 = '#4E2A84'\n",
    "col2 = '#F7602A'\n",
    "\n",
    "import matplotlib as mpl\n",
    "mpl.rcParams['axes.prop_cycle'] = mpl.cycler(color=['#4e79a7','#e15759'])\n",
    "ax = f.add_subplot()\n",
    "plt.bar(df_G_total_NIH_sci2.head(20).SciNet_paper_count,\n",
    "        df_G_total_NIH_sci2.head(20).pct,\n",
    "        width=1,\n",
    "        edgecolor= col2,\n",
    "#          color='#4e79a7',\n",
    "         label = 'SciNet',alpha=0.8, \n",
    "         fill= False\n",
    "        )\n",
    "plt.bar(df_G_total_NIH_dim2.head(20).paper_count,\n",
    "        df_G_total_NIH_dim2.head(20).pct,\n",
    "        width=1,\n",
    "         edgecolor= col1,\n",
    "#         color='#e15759',\n",
    "         label = 'Dimensions',alpha=0.8, \n",
    "         fill= False\n",
    "        )\n",
    "plt.xlabel('# of papers',size=20)\n",
    "plt.ylabel('NIH Probability',size=20)\n",
    "plt.xticks(fontsize=15)\n",
    "ax.set_xticks([0,5,10,15,20])\n",
    "# plt.yticks(,fontsize=15)\n",
    "plt.ylim(0,0.6)\n",
    "# plt.xlim(-0.5,20.5)\n",
    "# leg = ax.legend(fontsize=15,frameon=False, loc=1)\n",
    "plt.legend(fontsize=15,frameon=False, loc=1)\n",
    "# for color,text in zip(color,leg.get_texts()):\n",
    "#     text.set_color(color)\n",
    "# ax.legend(fontsize=15,frameon=False)\n",
    "plt.tight_layout()"
   ]
  },
  {
   "cell_type": "code",
   "execution_count": 54,
   "id": "22edc792",
   "metadata": {},
   "outputs": [],
   "source": [
    "df_G_total_NIH_Further = df_G_total_NIH.groupby(['paper_count'])['SciNet_paper_count'].mean().reset_index()"
   ]
  },
  {
   "cell_type": "markdown",
   "id": "7833a139",
   "metadata": {},
   "source": [
    "## NSF"
   ]
  },
  {
   "cell_type": "code",
   "execution_count": 55,
   "id": "5c06580c",
   "metadata": {},
   "outputs": [
    {
     "name": "stdout",
     "output_type": "stream",
     "text": [
      "CPU times: user 923 ms, sys: 115 ms, total: 1.04 s\n",
      "Wall time: 1.03 s\n"
     ]
    }
   ],
   "source": [
    "%%time\n",
    "df_grant_total_NSF = df_grant_total.loc[df_grant_total['funder_org'].isin(NSF_List),:]"
   ]
  },
  {
   "cell_type": "code",
   "execution_count": 56,
   "id": "605a40ad",
   "metadata": {},
   "outputs": [
    {
     "data": {
      "text/plain": [
       "'NSF-0734784'"
      ]
     },
     "execution_count": 56,
     "metadata": {},
     "output_type": "execute_result"
    }
   ],
   "source": [
    "def add_prefix(text):\n",
    "    return 'NSF-' + text\n",
    "add_prefix('0734784')"
   ]
  },
  {
   "cell_type": "code",
   "execution_count": 57,
   "id": "fdfe6099",
   "metadata": {},
   "outputs": [
    {
     "data": {
      "text/plain": [
       "0.3174011607671975"
      ]
     },
     "execution_count": 57,
     "metadata": {},
     "output_type": "execute_result"
    }
   ],
   "source": [
    "len(Dim_Funds_NSF_cnt) / len(df_grant_total_NSF)"
   ]
  },
  {
   "cell_type": "code",
   "execution_count": 58,
   "id": "7856fd6c",
   "metadata": {},
   "outputs": [
    {
     "name": "stdout",
     "output_type": "stream",
     "text": [
      "CPU times: user 74.6 ms, sys: 3.95 ms, total: 78.6 ms\n",
      "Wall time: 77.4 ms\n"
     ]
    }
   ],
   "source": [
    "%%time\n",
    "df_grant_total_NSF_Sel = df_grant_total_NSF.loc[:,['id','grant_number']].copy()"
   ]
  },
  {
   "cell_type": "code",
   "execution_count": 59,
   "id": "0d7574a3",
   "metadata": {},
   "outputs": [
    {
     "name": "stdout",
     "output_type": "stream",
     "text": [
      "CPU times: user 172 ms, sys: 23.3 ms, total: 195 ms\n",
      "Wall time: 193 ms\n"
     ]
    }
   ],
   "source": [
    "%%time\n",
    "df_grant_total_NSF_Sel['new_grant_number'] = df_grant_total_NSF_Sel['grant_number'].apply(add_prefix)"
   ]
  },
  {
   "cell_type": "code",
   "execution_count": 60,
   "id": "24587090",
   "metadata": {},
   "outputs": [
    {
     "name": "stdout",
     "output_type": "stream",
     "text": [
      "CPU times: user 510 ms, sys: 69.4 ms, total: 579 ms\n",
      "Wall time: 573 ms\n"
     ]
    }
   ],
   "source": [
    "%%time\n",
    "df_G_total_NSF_Sel = df_grant_total_NSF_Sel.merge(Dim_Funds_NSF_cnt,left_on='id',right_on='grant_id',how='left')"
   ]
  },
  {
   "cell_type": "code",
   "execution_count": 61,
   "id": "8abe2a02",
   "metadata": {},
   "outputs": [
    {
     "name": "stdout",
     "output_type": "stream",
     "text": [
      "CPU times: user 141 ms, sys: 14.9 ms, total: 156 ms\n",
      "Wall time: 154 ms\n"
     ]
    }
   ],
   "source": [
    "%%time\n",
    "df_G_total_NSF_Sel[['paper_count']] = df_G_total_NSF_Sel[['paper_count']].fillna(value=0)"
   ]
  },
  {
   "cell_type": "code",
   "execution_count": 62,
   "id": "12184694",
   "metadata": {},
   "outputs": [
    {
     "data": {
      "text/plain": [
       "0.6825988392328025"
      ]
     },
     "execution_count": 62,
     "metadata": {},
     "output_type": "execute_result"
    }
   ],
   "source": [
    "len(df_G_total_NSF_Sel[df_G_total_NSF_Sel['paper_count'] == 0]) / len(df_G_total_NSF_Sel)"
   ]
  },
  {
   "cell_type": "code",
   "execution_count": 63,
   "id": "9df0c84f",
   "metadata": {},
   "outputs": [
    {
     "data": {
      "text/plain": [
       "1130641"
      ]
     },
     "execution_count": 63,
     "metadata": {},
     "output_type": "execute_result"
    }
   ],
   "source": [
    "SciNet_Link_Paper_NSF_cnt['paper_count'].sum()"
   ]
  },
  {
   "cell_type": "code",
   "execution_count": 64,
   "id": "dca4f166",
   "metadata": {},
   "outputs": [],
   "source": [
    "SciNet_Link_Paper_NSF_cnt.rename(columns={'paper_count':'SciNet_paper_count'}, inplace=True)"
   ]
  },
  {
   "cell_type": "code",
   "execution_count": 65,
   "id": "507647e0",
   "metadata": {},
   "outputs": [
    {
     "data": {
      "text/plain": [
       "1130641"
      ]
     },
     "execution_count": 65,
     "metadata": {},
     "output_type": "execute_result"
    }
   ],
   "source": [
    "SciNet_Link_Paper_NSF_cnt['SciNet_paper_count'].sum()"
   ]
  },
  {
   "cell_type": "code",
   "execution_count": 66,
   "id": "7c9f3e05",
   "metadata": {},
   "outputs": [
    {
     "data": {
      "text/plain": [
       "142555"
      ]
     },
     "execution_count": 66,
     "metadata": {},
     "output_type": "execute_result"
    }
   ],
   "source": [
    "len(df_G_total_NSF_Sel[df_G_total_NSF_Sel['new_grant_number'].isin(SciNet_Link_Paper_NSF_cnt['NSF_Award_Number'])])"
   ]
  },
  {
   "cell_type": "code",
   "execution_count": 67,
   "id": "e9f561f6",
   "metadata": {},
   "outputs": [
    {
     "name": "stdout",
     "output_type": "stream",
     "text": [
      "CPU times: user 378 ms, sys: 28 ms, total: 406 ms\n",
      "Wall time: 404 ms\n"
     ]
    }
   ],
   "source": [
    "%%time\n",
    "df_G_total_NSF = df_G_total_NSF_Sel.merge(SciNet_Link_Paper_NSF_cnt,\n",
    "                                          how='left',left_on='new_grant_number',right_on='NSF_Award_Number')"
   ]
  },
  {
   "cell_type": "code",
   "execution_count": 68,
   "id": "b0900633",
   "metadata": {},
   "outputs": [
    {
     "name": "stdout",
     "output_type": "stream",
     "text": [
      "CPU times: user 171 ms, sys: 17 ms, total: 188 ms\n",
      "Wall time: 186 ms\n"
     ]
    }
   ],
   "source": [
    "%%time\n",
    "df_G_total_NSF[['SciNet_paper_count']] = df_G_total_NSF[['SciNet_paper_count']].fillna(value=0)"
   ]
  },
  {
   "cell_type": "code",
   "execution_count": 69,
   "id": "1802f55d",
   "metadata": {},
   "outputs": [
    {
     "data": {
      "text/plain": [
       "1128746.0"
      ]
     },
     "execution_count": 69,
     "metadata": {},
     "output_type": "execute_result"
    }
   ],
   "source": [
    "df_G_total_NSF['SciNet_paper_count'].sum()"
   ]
  },
  {
   "cell_type": "code",
   "execution_count": 70,
   "id": "c32ebec6",
   "metadata": {},
   "outputs": [
    {
     "name": "stdout",
     "output_type": "stream",
     "text": [
      "CPU times: user 69.9 ms, sys: 10.5 ms, total: 80.5 ms\n",
      "Wall time: 79.2 ms\n"
     ]
    },
    {
     "data": {
      "text/html": [
       "<div>\n",
       "<style scoped>\n",
       "    .dataframe tbody tr th:only-of-type {\n",
       "        vertical-align: middle;\n",
       "    }\n",
       "\n",
       "    .dataframe tbody tr th {\n",
       "        vertical-align: top;\n",
       "    }\n",
       "\n",
       "    .dataframe thead th {\n",
       "        text-align: right;\n",
       "    }\n",
       "</style>\n",
       "<table border=\"1\" class=\"dataframe\">\n",
       "  <thead>\n",
       "    <tr style=\"text-align: right;\">\n",
       "      <th></th>\n",
       "      <th>paper_count</th>\n",
       "      <th>count</th>\n",
       "      <th>pct</th>\n",
       "    </tr>\n",
       "  </thead>\n",
       "  <tbody>\n",
       "    <tr>\n",
       "      <th>0</th>\n",
       "      <td>0.0</td>\n",
       "      <td>362832</td>\n",
       "      <td>0.682599</td>\n",
       "    </tr>\n",
       "    <tr>\n",
       "      <th>1</th>\n",
       "      <td>1.0</td>\n",
       "      <td>44306</td>\n",
       "      <td>0.083353</td>\n",
       "    </tr>\n",
       "    <tr>\n",
       "      <th>2</th>\n",
       "      <td>2.0</td>\n",
       "      <td>26690</td>\n",
       "      <td>0.050212</td>\n",
       "    </tr>\n",
       "    <tr>\n",
       "      <th>3</th>\n",
       "      <td>3.0</td>\n",
       "      <td>18622</td>\n",
       "      <td>0.035034</td>\n",
       "    </tr>\n",
       "    <tr>\n",
       "      <th>4</th>\n",
       "      <td>4.0</td>\n",
       "      <td>13928</td>\n",
       "      <td>0.026203</td>\n",
       "    </tr>\n",
       "  </tbody>\n",
       "</table>\n",
       "</div>"
      ],
      "text/plain": [
       "   paper_count   count       pct\n",
       "0          0.0  362832  0.682599\n",
       "1          1.0   44306  0.083353\n",
       "2          2.0   26690  0.050212\n",
       "3          3.0   18622  0.035034\n",
       "4          4.0   13928  0.026203"
      ]
     },
     "execution_count": 70,
     "metadata": {},
     "output_type": "execute_result"
    }
   ],
   "source": [
    "%%time\n",
    "df_G_total_NSF_dim2 = df_G_total_NSF.groupby(['paper_count'])['id'].agg(['count']).reset_index()\n",
    "df_G_total_NSF_dim2['pct'] = df_G_total_NSF_dim2['count'] / df_G_total_NSF_dim2['count'].sum()\n",
    "df_G_total_NSF_dim2.head(5)"
   ]
  },
  {
   "cell_type": "code",
   "execution_count": 71,
   "id": "267cebca",
   "metadata": {},
   "outputs": [
    {
     "name": "stdout",
     "output_type": "stream",
     "text": [
      "CPU times: user 70.9 ms, sys: 1.02 ms, total: 72 ms\n",
      "Wall time: 69.3 ms\n"
     ]
    },
    {
     "data": {
      "text/html": [
       "<div>\n",
       "<style scoped>\n",
       "    .dataframe tbody tr th:only-of-type {\n",
       "        vertical-align: middle;\n",
       "    }\n",
       "\n",
       "    .dataframe tbody tr th {\n",
       "        vertical-align: top;\n",
       "    }\n",
       "\n",
       "    .dataframe thead th {\n",
       "        text-align: right;\n",
       "    }\n",
       "</style>\n",
       "<table border=\"1\" class=\"dataframe\">\n",
       "  <thead>\n",
       "    <tr style=\"text-align: right;\">\n",
       "      <th></th>\n",
       "      <th>SciNet_paper_count</th>\n",
       "      <th>count</th>\n",
       "      <th>pct</th>\n",
       "    </tr>\n",
       "  </thead>\n",
       "  <tbody>\n",
       "    <tr>\n",
       "      <th>0</th>\n",
       "      <td>0.0</td>\n",
       "      <td>388990</td>\n",
       "      <td>0.731810</td>\n",
       "    </tr>\n",
       "    <tr>\n",
       "      <th>1</th>\n",
       "      <td>1.0</td>\n",
       "      <td>28209</td>\n",
       "      <td>0.053070</td>\n",
       "    </tr>\n",
       "    <tr>\n",
       "      <th>2</th>\n",
       "      <td>2.0</td>\n",
       "      <td>18487</td>\n",
       "      <td>0.034780</td>\n",
       "    </tr>\n",
       "    <tr>\n",
       "      <th>3</th>\n",
       "      <td>3.0</td>\n",
       "      <td>14381</td>\n",
       "      <td>0.027055</td>\n",
       "    </tr>\n",
       "    <tr>\n",
       "      <th>4</th>\n",
       "      <td>4.0</td>\n",
       "      <td>11841</td>\n",
       "      <td>0.022277</td>\n",
       "    </tr>\n",
       "  </tbody>\n",
       "</table>\n",
       "</div>"
      ],
      "text/plain": [
       "   SciNet_paper_count   count       pct\n",
       "0                 0.0  388990  0.731810\n",
       "1                 1.0   28209  0.053070\n",
       "2                 2.0   18487  0.034780\n",
       "3                 3.0   14381  0.027055\n",
       "4                 4.0   11841  0.022277"
      ]
     },
     "execution_count": 71,
     "metadata": {},
     "output_type": "execute_result"
    }
   ],
   "source": [
    "%%time\n",
    "df_G_total_NSF_sci2 = df_G_total_NSF.groupby(['SciNet_paper_count'])['id'].agg(['count']).reset_index()\n",
    "df_G_total_NSF_sci2['pct'] = df_G_total_NSF_sci2['count'] / df_G_total_NSF_sci2['count'].sum()\n",
    "df_G_total_NSF_sci2.head(5)"
   ]
  },
  {
   "cell_type": "code",
   "execution_count": 72,
   "id": "226aaf86",
   "metadata": {},
   "outputs": [
    {
     "data": {
      "image/png": "[encoded data removed]",
      "text/plain": [
       "<Figure size 432x288 with 1 Axes>"
      ]
     },
     "metadata": {
      "needs_background": "light"
     },
     "output_type": "display_data"
    }
   ],
   "source": [
    "%matplotlib inline\n",
    "import matplotlib.pyplot as plt\n",
    "f = plt.figure()\n",
    "\n",
    "col1 = '#4E2A84'\n",
    "col2 = '#F7602A'\n",
    "\n",
    "import matplotlib as mpl\n",
    "mpl.rcParams['axes.prop_cycle'] = mpl.cycler(color=['#4e79a7','#e15759'])\n",
    "ax = f.add_subplot()\n",
    "plt.bar(df_G_total_NSF_sci2.head(20).SciNet_paper_count,\n",
    "        df_G_total_NSF_sci2.head(20).pct,\n",
    "        width=1,\n",
    "        edgecolor= col2,\n",
    "#          color='#4e79a7',\n",
    "         label = 'SciNet',alpha=0.8, \n",
    "         fill= False\n",
    "        )\n",
    "plt.bar(df_G_total_NSF_dim2.head(20).paper_count,\n",
    "        df_G_total_NSF_dim2.head(20).pct,\n",
    "        width=1,\n",
    "         edgecolor= col1,\n",
    "#         color='#e15759',\n",
    "         label = 'Dimensions',alpha=0.8, \n",
    "         fill= False\n",
    "        )\n",
    "plt.xlabel('# of papers',size=20)\n",
    "plt.ylabel('NSF Probability',size=20)\n",
    "plt.xticks(fontsize=15)\n",
    "ax.set_xticks([0,5,10,15,20])\n",
    "# plt.yticks(,fontsize=15)\n",
    "plt.ylim(0,1)\n",
    "# plt.xlim(-0.5,20.5)\n",
    "# leg = ax.legend(fontsize=15,frameon=False, loc=1)\n",
    "plt.legend(fontsize=15,frameon=False, loc=1)\n",
    "# for color,text in zip(color,leg.get_texts()):\n",
    "#     text.set_color(color)\n",
    "# ax.legend(fontsize=15,frameon=False)\n",
    "plt.tight_layout()"
   ]
  },
  {
   "cell_type": "code",
   "execution_count": 73,
   "id": "c78c62e9",
   "metadata": {},
   "outputs": [
    {
     "data": {
      "text/plain": [
       "(509, 548)"
      ]
     },
     "execution_count": 73,
     "metadata": {},
     "output_type": "execute_result"
    }
   ],
   "source": [
    "(len(df_G_total_NSF.loc[\n",
    "    (df_G_total_NSF['paper_count']>=100),\n",
    "    :]),\n",
    "len(df_G_total_NSF.loc[\n",
    "    (df_G_total_NSF['SciNet_paper_count']>=100),\n",
    "    :]))"
   ]
  },
  {
   "cell_type": "code",
   "execution_count": 74,
   "id": "e778eaf6",
   "metadata": {},
   "outputs": [
    {
     "data": {
      "text/plain": [
       "222"
      ]
     },
     "execution_count": 74,
     "metadata": {},
     "output_type": "execute_result"
    }
   ],
   "source": [
    "len(df_G_total_NSF.loc[\n",
    "    (df_G_total_NSF['paper_count']<=70) &\n",
    "    (df_G_total_NSF['SciNet_paper_count']>=100),\n",
    "    :])"
   ]
  },
  {
   "cell_type": "code",
   "execution_count": 75,
   "id": "deacfcb6",
   "metadata": {},
   "outputs": [
    {
     "data": {
      "text/plain": [
       "206"
      ]
     },
     "execution_count": 75,
     "metadata": {},
     "output_type": "execute_result"
    }
   ],
   "source": [
    "len(df_G_total_NSF.loc[\n",
    "    (df_G_total_NSF['paper_count']>=100) &\n",
    "    (df_G_total_NSF['SciNet_paper_count']<=70),\n",
    "    :])"
   ]
  },
  {
   "cell_type": "code",
   "execution_count": 76,
   "id": "1413fd8e",
   "metadata": {},
   "outputs": [
    {
     "name": "stdout",
     "output_type": "stream",
     "text": [
      "CPU times: user 295 ms, sys: 9.94 ms, total: 305 ms\n",
      "Wall time: 19.4 ms\n"
     ]
    },
    {
     "data": {
      "text/plain": [
       "(0.6656583162974505, 0.0)"
      ]
     },
     "execution_count": 76,
     "metadata": {},
     "output_type": "execute_result"
    }
   ],
   "source": [
    "%%time\n",
    "import scipy.stats\n",
    "test_NSF = scipy.stats.pearsonr(df_G_total_NSF['paper_count'].values, df_G_total_NSF['SciNet_paper_count'].values)\n",
    "test_NSF"
   ]
  },
  {
   "cell_type": "code",
   "execution_count": 77,
   "id": "158cb223",
   "metadata": {},
   "outputs": [
    {
     "name": "stdout",
     "output_type": "stream",
     "text": [
      "CPU times: user 2.03 s, sys: 87.6 ms, total: 2.12 s\n",
      "Wall time: 85.6 ms\n"
     ]
    },
    {
     "data": {
      "text/plain": [
       "SpearmanrResult(correlation=0.7130332374331259, pvalue=0.0)"
      ]
     },
     "execution_count": 77,
     "metadata": {},
     "output_type": "execute_result"
    }
   ],
   "source": [
    "%%time\n",
    "import scipy.stats\n",
    "test_NSF2 = scipy.stats.spearmanr(df_G_total_NSF['paper_count'].values, df_G_total_NSF['SciNet_paper_count'].values)\n",
    "test_NSF2"
   ]
  },
  {
   "cell_type": "code",
   "execution_count": 78,
   "id": "f300b024",
   "metadata": {},
   "outputs": [],
   "source": [
    "df_G_total_NSF_Further = df_G_total_NSF.groupby(['paper_count'])['SciNet_paper_count'].mean().reset_index()"
   ]
  },
  {
   "cell_type": "markdown",
   "id": "e5e83d06",
   "metadata": {},
   "source": [
    "# NSF RePORTER"
   ]
  },
  {
   "cell_type": "code",
   "execution_count": 79,
   "id": "41a6aa24",
   "metadata": {},
   "outputs": [
    {
     "name": "stdout",
     "output_type": "stream",
     "text": [
      "CPU times: user 6.06 s, sys: 344 ms, total: 6.41 s\n",
      "Wall time: 2.48 s\n"
     ]
    }
   ],
   "source": [
    "%%time\n",
    "import pandas as pd\n",
    "df_NSF = pd.read_csv(\"../NSF_RePORTER/FedRePORTER_PUB_C_NSF.csv\",dtype=str)"
   ]
  },
  {
   "cell_type": "code",
   "execution_count": 80,
   "id": "d2e01cd1",
   "metadata": {},
   "outputs": [],
   "source": [
    "df_NSF['rep_grant_num'] = df_NSF['COMMON_PROJECT_NUMBER'].apply(add_prefix)"
   ]
  },
  {
   "cell_type": "code",
   "execution_count": 81,
   "id": "7b48d677",
   "metadata": {},
   "outputs": [],
   "source": [
    "df_NSF_rep_cnt = df_NSF.groupby(['rep_grant_num'])[' TITLE'].agg(['count']).reset_index()"
   ]
  },
  {
   "cell_type": "code",
   "execution_count": 82,
   "id": "2fde5eab",
   "metadata": {},
   "outputs": [],
   "source": [
    "df_NSF_rep_cnt_merge = df_NSF_rep_cnt.merge(\n",
    "    df_G_total_NSF[['new_grant_number','SciNet_paper_count']], how='left',\n",
    "    left_on='rep_grant_num', right_on='new_grant_number')"
   ]
  },
  {
   "cell_type": "code",
   "execution_count": 83,
   "id": "33c0d14f",
   "metadata": {},
   "outputs": [
    {
     "name": "stdout",
     "output_type": "stream",
     "text": [
      "CPU times: user 166 ms, sys: 16.3 ms, total: 182 ms\n",
      "Wall time: 10.7 ms\n"
     ]
    },
    {
     "data": {
      "text/plain": [
       "(0.8466934500463699, 0.0)"
      ]
     },
     "execution_count": 83,
     "metadata": {},
     "output_type": "execute_result"
    }
   ],
   "source": [
    "%%time\n",
    "import scipy.stats\n",
    "test_NSF = scipy.stats.pearsonr(\n",
    "    df_NSF_rep_cnt_merge['count'].values, df_NSF_rep_cnt_merge['SciNet_paper_count'].values)\n",
    "test_NSF"
   ]
  },
  {
   "cell_type": "code",
   "execution_count": 84,
   "id": "6400139c",
   "metadata": {},
   "outputs": [
    {
     "name": "stdout",
     "output_type": "stream",
     "text": [
      "CPU times: user 294 ms, sys: 12.3 ms, total: 306 ms\n",
      "Wall time: 12.4 ms\n"
     ]
    },
    {
     "data": {
      "text/plain": [
       "SpearmanrResult(correlation=0.760349347199499, pvalue=0.0)"
      ]
     },
     "execution_count": 84,
     "metadata": {},
     "output_type": "execute_result"
    }
   ],
   "source": [
    "%%time\n",
    "import scipy.stats\n",
    "test_NSF = scipy.stats.spearmanr(\n",
    "    df_NSF_rep_cnt_merge['count'].values, df_NSF_rep_cnt_merge['SciNet_paper_count'].values)\n",
    "test_NSF"
   ]
  },
  {
   "cell_type": "markdown",
   "id": "e3d67cd4",
   "metadata": {},
   "source": [
    "# Final"
   ]
  },
  {
   "cell_type": "code",
   "execution_count": 85,
   "id": "830a5947",
   "metadata": {},
   "outputs": [
    {
     "data": {
      "text/plain": [
       "(143596, 148148)"
      ]
     },
     "execution_count": 85,
     "metadata": {},
     "output_type": "execute_result"
    }
   ],
   "source": [
    "len(SciNet_Link_Paper_NSF_cnt), len(SciNet_Link_Paper_NSF_Ori_cnt)"
   ]
  },
  {
   "cell_type": "code",
   "execution_count": 86,
   "id": "fd8fd08f",
   "metadata": {},
   "outputs": [
    {
     "data": {
      "text/plain": [
       "(1309518, 1130641)"
      ]
     },
     "execution_count": 86,
     "metadata": {},
     "output_type": "execute_result"
    }
   ],
   "source": [
    "SciNet_Link_Paper_NSF_Ori_cnt['SciNet_paper_count'].sum(), SciNet_Link_Paper_NSF_cnt['SciNet_paper_count'].sum()"
   ]
  },
  {
   "cell_type": "code",
   "execution_count": 87,
   "id": "9acb2f60",
   "metadata": {},
   "outputs": [
    {
     "data": {
      "text/plain": [
       "168713"
      ]
     },
     "execution_count": 87,
     "metadata": {},
     "output_type": "execute_result"
    }
   ],
   "source": [
    "len(Dim_Funds_NSF_cnt)"
   ]
  },
  {
   "cell_type": "code",
   "execution_count": 88,
   "id": "d297d93b",
   "metadata": {},
   "outputs": [],
   "source": [
    "df_grant_total_NSF_Sel_Fuzzy = df_grant_total_NSF.loc[:,['id','grant_number']].copy()\n",
    "df_grant_total_NSF_Sel_Fuzzy['new_grant_number'] = df_grant_total_NSF_Sel_Fuzzy['grant_number'].apply(add_prefix)"
   ]
  },
  {
   "cell_type": "code",
   "execution_count": 89,
   "id": "87b860b9",
   "metadata": {},
   "outputs": [],
   "source": [
    "df_G_total_NSF_Sel_Fuzzy = df_grant_total_NSF_Sel_Fuzzy.merge(\n",
    "    Dim_Funds_NSF_cnt,left_on='id',right_on='grant_id',how='left')\n",
    "df_G_total_NSF_Sel_Fuzzy[['paper_count']] = df_G_total_NSF_Sel_Fuzzy[['paper_count']].fillna(value=0)"
   ]
  },
  {
   "cell_type": "code",
   "execution_count": 90,
   "id": "43890403",
   "metadata": {},
   "outputs": [],
   "source": [
    "df_G_total_NSF_Sel_Fuzzy = df_G_total_NSF_Sel_Fuzzy.merge(\n",
    "    SciNet_Link_Paper_NSF_cnt,left_on='new_grant_number',right_on='NSF_Award_Number',how='left')\n",
    "df_G_total_NSF_Sel_Fuzzy[['SciNet_paper_count']] = df_G_total_NSF_Sel_Fuzzy[['SciNet_paper_count']].fillna(value=0)"
   ]
  },
  {
   "cell_type": "code",
   "execution_count": 91,
   "id": "7273a889",
   "metadata": {},
   "outputs": [],
   "source": [
    "Res_startswith = []\n",
    "# for i in range(80,100):\n",
    "#     Res_startswith.append(str(i))\n",
    "for i in range(10,21):\n",
    "    Res_startswith.append(str(i))\n",
    "Res_startswith.extend(['00','01','02','03','04',\n",
    "                      '05','06','07','08','09'])\n",
    "Res_startswith_tuple = tuple(Res_startswith)"
   ]
  },
  {
   "cell_type": "code",
   "execution_count": 92,
   "id": "b8bef3ab",
   "metadata": {},
   "outputs": [],
   "source": [
    "df_G_total_NSF_Sel_Fuzzy_Comp = df_G_total_NSF_Sel_Fuzzy.loc[\n",
    "    df_G_total_NSF_Sel_Fuzzy['grant_number'].str.startswith(Res_startswith_tuple)\n",
    "    ,:\n",
    "]"
   ]
  },
  {
   "cell_type": "code",
   "execution_count": 93,
   "id": "592d0e43",
   "metadata": {},
   "outputs": [
    {
     "data": {
      "text/plain": [
       "1118170.0"
      ]
     },
     "execution_count": 93,
     "metadata": {},
     "output_type": "execute_result"
    }
   ],
   "source": [
    "df_G_total_NSF_Sel_Fuzzy_Comp['SciNet_paper_count'].sum()"
   ]
  },
  {
   "cell_type": "code",
   "execution_count": 94,
   "id": "12e3d863",
   "metadata": {},
   "outputs": [
    {
     "data": {
      "text/plain": [
       "1020342.0"
      ]
     },
     "execution_count": 94,
     "metadata": {},
     "output_type": "execute_result"
    }
   ],
   "source": [
    "df_G_total_NSF_Sel_Fuzzy_Comp['paper_count'].sum()"
   ]
  },
  {
   "cell_type": "code",
   "execution_count": 95,
   "id": "06976e75",
   "metadata": {},
   "outputs": [
    {
     "name": "stdout",
     "output_type": "stream",
     "text": [
      "CPU times: user 225 ms, sys: 12.6 ms, total: 237 ms\n",
      "Wall time: 47.2 ms\n"
     ]
    },
    {
     "data": {
      "text/plain": [
       "SpearmanrResult(correlation=0.6990621031673347, pvalue=0.0)"
      ]
     },
     "execution_count": 95,
     "metadata": {},
     "output_type": "execute_result"
    }
   ],
   "source": [
    "%%time\n",
    "import scipy.stats\n",
    "test_NSF = scipy.stats.spearmanr(\n",
    "    df_G_total_NSF_Sel_Fuzzy_Comp['paper_count'].values, df_G_total_NSF_Sel_Fuzzy_Comp['SciNet_paper_count'].values)\n",
    "test_NSF"
   ]
  },
  {
   "cell_type": "code",
   "execution_count": 96,
   "id": "edb2084a",
   "metadata": {},
   "outputs": [],
   "source": [
    "df_G_total_NSF_Sel_Fuzzy_Comp_Further = df_G_total_NSF_Sel_Fuzzy_Comp.groupby(\n",
    "    ['paper_count'])['SciNet_paper_count'].mean().reset_index()"
   ]
  },
  {
   "cell_type": "code",
   "execution_count": 97,
   "id": "490a283b",
   "metadata": {},
   "outputs": [
    {
     "name": "stdout",
     "output_type": "stream",
     "text": [
      "CPU times: user 1.03 s, sys: 40.8 ms, total: 1.07 s\n",
      "Wall time: 43 ms\n"
     ]
    }
   ],
   "source": [
    "%%time\n",
    "df_G_total_NSF_dim3 = df_G_total_NSF_Sel_Fuzzy_Comp.groupby(['paper_count'])['id'].agg(['count']).reset_index()\n",
    "df_G_total_NSF_dim3['pct'] = df_G_total_NSF_dim3['count'] / df_G_total_NSF_dim3['count'].sum()"
   ]
  },
  {
   "cell_type": "code",
   "execution_count": 98,
   "id": "eea7b6f0",
   "metadata": {},
   "outputs": [
    {
     "name": "stdout",
     "output_type": "stream",
     "text": [
      "CPU times: user 952 ms, sys: 32.7 ms, total: 984 ms\n",
      "Wall time: 39.7 ms\n"
     ]
    }
   ],
   "source": [
    "%%time\n",
    "df_G_total_NSF_sci3 = df_G_total_NSF_Sel_Fuzzy_Comp.groupby(['SciNet_paper_count'])['id'].agg(['count']).reset_index()\n",
    "df_G_total_NSF_sci3['pct'] = df_G_total_NSF_sci3['count'] / df_G_total_NSF_sci3['count'].sum()"
   ]
  },
  {
   "cell_type": "code",
   "execution_count": 99,
   "id": "d684b0e3",
   "metadata": {},
   "outputs": [
    {
     "data": {
      "text/plain": [
       "(248841, 248841)"
      ]
     },
     "execution_count": 99,
     "metadata": {},
     "output_type": "execute_result"
    }
   ],
   "source": [
    "df_G_total_NSF_dim3['count'].sum(), df_G_total_NSF_sci3['count'].sum()"
   ]
  },
  {
   "cell_type": "code",
   "execution_count": 100,
   "id": "2188e32c",
   "metadata": {},
   "outputs": [
    {
     "data": {
      "image/png": "[encoded data removed]",
      "text/plain": [
       "<Figure size 1800x1200 with 1 Axes>"
      ]
     },
     "metadata": {
      "needs_background": "light"
     },
     "output_type": "display_data"
    }
   ],
   "source": [
    "%matplotlib inline\n",
    "import matplotlib.pyplot as plt\n",
    "f = plt.figure(dpi=300)\n",
    "\n",
    "col1 = '#4E2A84'\n",
    "col2 = '#F7602A'\n",
    "\n",
    "import matplotlib as mpl\n",
    "mpl.rcParams['axes.prop_cycle'] = mpl.cycler(color=['#4e79a7','#e15759'])\n",
    "ax = f.add_subplot()\n",
    "plt.bar(df_G_total_NSF_sci3.head(20).SciNet_paper_count,\n",
    "        df_G_total_NSF_sci3.head(20).pct,\n",
    "        width=1,\n",
    "        edgecolor= col2,\n",
    "#          color='#4e79a7',\n",
    "         label = 'SciSciNet',alpha=0.8, \n",
    "         fill= False\n",
    "        )\n",
    "plt.bar(df_G_total_NSF_dim3.head(20).paper_count,\n",
    "        df_G_total_NSF_dim3.head(20).pct,\n",
    "        width=1,\n",
    "         edgecolor= col1,\n",
    "#         color='#e15759',\n",
    "         label = 'Dimensions',alpha=0.8, \n",
    "         fill= False\n",
    "        )\n",
    "plt.xlabel('# of papers',size=16)\n",
    "plt.ylabel('NSF Probability',size=16)\n",
    "# plt.xticks(fontsize=12)\n",
    "ax.spines['top'].set_visible(False)\n",
    "ax.spines['right'].set_visible(False)\n",
    "ax.set_xticks([0,5,10,15,20])\n",
    "ax.tick_params(axis='x', labelsize=12)\n",
    "ax.tick_params(axis='y', labelsize=12)\n",
    "# plt.yticks(,fontsize=15)\n",
    "plt.ylim(0,0.6)\n",
    "# plt.xlim(-0.5,20.5)\n",
    "# leg = ax.legend(fontsize=15,frameon=False, loc=1)\n",
    "plt.legend(fontsize=16,frameon=False, loc=1)\n",
    "# for color,text in zip(color,leg.get_texts()):\n",
    "#     text.set_color(color)\n",
    "# ax.legend(fontsize=15,frameon=False)\n",
    "plt.tight_layout()"
   ]
  },
  {
   "cell_type": "code",
   "execution_count": 101,
   "id": "520d2451",
   "metadata": {},
   "outputs": [],
   "source": [
    "# f.savefig('./Figures/6_SciSciNet_Dim_NSF_ReNew2000-2020_Re.pdf', bbox_inches=\"tight\", format=\"pdf\")"
   ]
  },
  {
   "cell_type": "code",
   "execution_count": 102,
   "id": "0a6d1cad",
   "metadata": {},
   "outputs": [],
   "source": [
    "## NIH"
   ]
  },
  {
   "cell_type": "code",
   "execution_count": 101,
   "id": "44e76695",
   "metadata": {},
   "outputs": [
    {
     "data": {
      "text/plain": [
       "'01AR22261-12-0-1'"
      ]
     },
     "execution_count": 101,
     "metadata": {},
     "output_type": "execute_result"
    }
   ],
   "source": [
    "def remove_first(text):\n",
    "    return text[1:]\n",
    "remove_first('N01AR22261-12-0-1')"
   ]
  },
  {
   "cell_type": "code",
   "execution_count": 102,
   "id": "cd8e132e",
   "metadata": {},
   "outputs": [
    {
     "data": {
      "text/plain": [
       "0"
      ]
     },
     "execution_count": 102,
     "metadata": {},
     "output_type": "execute_result"
    }
   ],
   "source": [
    "len(df_grant_total_NIH[pd.isnull(df_grant_total_NIH['start_date'])])"
   ]
  },
  {
   "cell_type": "code",
   "execution_count": 103,
   "id": "f465823d",
   "metadata": {},
   "outputs": [],
   "source": [
    "from datetime import datetime\n",
    "date1 = datetime.strptime('01/01/2000', \"%m/%d/%Y\")"
   ]
  },
  {
   "cell_type": "code",
   "execution_count": 104,
   "id": "66fac71f",
   "metadata": {},
   "outputs": [
    {
     "data": {
      "text/plain": [
       "datetime.datetime(1989, 9, 29, 0, 0)"
      ]
     },
     "execution_count": 104,
     "metadata": {},
     "output_type": "execute_result"
    }
   ],
   "source": [
    "from datetime import datetime\n",
    "import numpy as np\n",
    "def change_dt(text):\n",
    "    if text is np.nan:\n",
    "        return np.nan\n",
    "    else:\n",
    "        return datetime.strptime(text, \"%Y-%m-%d\")\n",
    "change_dt('1989-09-29')"
   ]
  },
  {
   "cell_type": "code",
   "execution_count": 105,
   "id": "7145e18f",
   "metadata": {},
   "outputs": [
    {
     "name": "stdout",
     "output_type": "stream",
     "text": [
      "CPU times: user 2.73 s, sys: 131 ms, total: 2.86 s\n",
      "Wall time: 2.86 s\n"
     ]
    }
   ],
   "source": [
    "%%time\n",
    "df_grant_total_NIH_Sel = df_grant_total_NIH.copy()\n",
    "df_grant_total_NIH_Sel['datet'] = df_grant_total_NIH['start_date'].apply(change_dt)"
   ]
  },
  {
   "cell_type": "code",
   "execution_count": 106,
   "id": "f9452029",
   "metadata": {},
   "outputs": [
    {
     "data": {
      "text/plain": [
       "294593"
      ]
     },
     "execution_count": 106,
     "metadata": {},
     "output_type": "execute_result"
    }
   ],
   "source": [
    "len(df_grant_total_NIH_Sel[df_grant_total_NIH_Sel['datet'] >= date1])"
   ]
  },
  {
   "cell_type": "code",
   "execution_count": 107,
   "id": "0320e7e9",
   "metadata": {},
   "outputs": [
    {
     "data": {
      "text/plain": [
       "294593"
      ]
     },
     "execution_count": 107,
     "metadata": {},
     "output_type": "execute_result"
    }
   ],
   "source": [
    "df_grant_total_NIH_Sel_Fuzzy = df_grant_total_NIH_Sel.loc[df_grant_total_NIH_Sel['datet'] >= date1,\n",
    "                                                          ['id','grant_number']].copy()\n",
    "len(df_grant_total_NIH_Sel_Fuzzy)"
   ]
  },
  {
   "cell_type": "code",
   "execution_count": 108,
   "id": "54381dd6",
   "metadata": {},
   "outputs": [],
   "source": [
    "df_G_total_NIH_Sel_Fuzzy = df_grant_total_NIH_Sel_Fuzzy.merge(\n",
    "    Dim_Funds_NIH_cnt,left_on='id',right_on='grant_id',how='left')\n",
    "df_G_total_NIH_Sel_Fuzzy[['paper_count']] = df_G_total_NIH_Sel_Fuzzy[['paper_count']].fillna(value=0)"
   ]
  },
  {
   "cell_type": "code",
   "execution_count": 109,
   "id": "2040a01c",
   "metadata": {},
   "outputs": [],
   "source": [
    "df_G_total_NIH_Sel_Fuzzy = df_G_total_NIH_Sel_Fuzzy.merge(\n",
    "    SciNet_Link_Paper_NIH_cnt,left_on='grant_number',right_on='NIH_Project_Number',how='left')\n",
    "df_G_total_NIH_Sel_Fuzzy[['SciNet_paper_count']] = df_G_total_NIH_Sel_Fuzzy[['SciNet_paper_count']].fillna(value=0)"
   ]
  },
  {
   "cell_type": "code",
   "execution_count": 110,
   "id": "045acc71",
   "metadata": {},
   "outputs": [],
   "source": [
    "Res_startswith = []\n",
    "# for i in range(80,100):\n",
    "#     Res_startswith.append(str(i))\n",
    "for i in range(10,21):\n",
    "    Res_startswith.append(str(i))\n",
    "Res_startswith.extend(['00','01','02','03','04',\n",
    "                      '05','06','07','08','09'])\n",
    "Res_startswith_tuple = tuple(Res_startswith)"
   ]
  },
  {
   "cell_type": "code",
   "execution_count": 111,
   "id": "a9ff47d6",
   "metadata": {},
   "outputs": [
    {
     "name": "stdout",
     "output_type": "stream",
     "text": [
      "CPU times: user 264 ms, sys: 18.7 ms, total: 283 ms\n",
      "Wall time: 16 ms\n"
     ]
    },
    {
     "data": {
      "text/plain": [
       "(0.9583082893726463, 0.0)"
      ]
     },
     "execution_count": 111,
     "metadata": {},
     "output_type": "execute_result"
    }
   ],
   "source": [
    "%%time\n",
    "import scipy.stats\n",
    "test_NSF = scipy.stats.pearsonr(\n",
    "    df_G_total_NIH_Sel_Fuzzy['paper_count'].values, df_G_total_NIH_Sel_Fuzzy['SciNet_paper_count'].values)\n",
    "test_NSF"
   ]
  },
  {
   "cell_type": "code",
   "execution_count": 112,
   "id": "4038f49b",
   "metadata": {},
   "outputs": [
    {
     "name": "stdout",
     "output_type": "stream",
     "text": [
      "CPU times: user 1.41 s, sys: 54.4 ms, total: 1.47 s\n",
      "Wall time: 59.3 ms\n"
     ]
    },
    {
     "data": {
      "text/plain": [
       "SpearmanrResult(correlation=0.9727509829005142, pvalue=0.0)"
      ]
     },
     "execution_count": 112,
     "metadata": {},
     "output_type": "execute_result"
    }
   ],
   "source": [
    "%%time\n",
    "import scipy.stats\n",
    "test_NSF = scipy.stats.spearmanr(\n",
    "    df_G_total_NIH_Sel_Fuzzy['paper_count'].values, df_G_total_NIH_Sel_Fuzzy['SciNet_paper_count'].values)\n",
    "test_NSF"
   ]
  },
  {
   "cell_type": "code",
   "execution_count": 113,
   "id": "977f5c94",
   "metadata": {},
   "outputs": [],
   "source": [
    "df_G_total_NIH_Sel_Fuzzy_Further = df_G_total_NIH_Sel_Fuzzy.groupby(\n",
    "    ['paper_count'])['SciNet_paper_count'].mean().reset_index()"
   ]
  },
  {
   "cell_type": "code",
   "execution_count": 114,
   "id": "5d0effcd",
   "metadata": {},
   "outputs": [
    {
     "name": "stdout",
     "output_type": "stream",
     "text": [
      "CPU times: user 1.27 s, sys: 48 ms, total: 1.31 s\n",
      "Wall time: 53 ms\n"
     ]
    },
    {
     "data": {
      "text/html": [
       "<div>\n",
       "<style scoped>\n",
       "    .dataframe tbody tr th:only-of-type {\n",
       "        vertical-align: middle;\n",
       "    }\n",
       "\n",
       "    .dataframe tbody tr th {\n",
       "        vertical-align: top;\n",
       "    }\n",
       "\n",
       "    .dataframe thead th {\n",
       "        text-align: right;\n",
       "    }\n",
       "</style>\n",
       "<table border=\"1\" class=\"dataframe\">\n",
       "  <thead>\n",
       "    <tr style=\"text-align: right;\">\n",
       "      <th></th>\n",
       "      <th>paper_count</th>\n",
       "      <th>count</th>\n",
       "      <th>pct</th>\n",
       "    </tr>\n",
       "  </thead>\n",
       "  <tbody>\n",
       "    <tr>\n",
       "      <th>0</th>\n",
       "      <td>0.0</td>\n",
       "      <td>77466</td>\n",
       "      <td>0.262959</td>\n",
       "    </tr>\n",
       "    <tr>\n",
       "      <th>1</th>\n",
       "      <td>1.0</td>\n",
       "      <td>29958</td>\n",
       "      <td>0.101693</td>\n",
       "    </tr>\n",
       "    <tr>\n",
       "      <th>2</th>\n",
       "      <td>2.0</td>\n",
       "      <td>23555</td>\n",
       "      <td>0.079958</td>\n",
       "    </tr>\n",
       "    <tr>\n",
       "      <th>3</th>\n",
       "      <td>3.0</td>\n",
       "      <td>18760</td>\n",
       "      <td>0.063681</td>\n",
       "    </tr>\n",
       "    <tr>\n",
       "      <th>4</th>\n",
       "      <td>4.0</td>\n",
       "      <td>15126</td>\n",
       "      <td>0.051345</td>\n",
       "    </tr>\n",
       "  </tbody>\n",
       "</table>\n",
       "</div>"
      ],
      "text/plain": [
       "   paper_count  count       pct\n",
       "0          0.0  77466  0.262959\n",
       "1          1.0  29958  0.101693\n",
       "2          2.0  23555  0.079958\n",
       "3          3.0  18760  0.063681\n",
       "4          4.0  15126  0.051345"
      ]
     },
     "execution_count": 114,
     "metadata": {},
     "output_type": "execute_result"
    }
   ],
   "source": [
    "%%time\n",
    "df_G_total_NIH_dim3 = df_G_total_NIH_Sel_Fuzzy.groupby(['paper_count'])['id'].agg(['count']).reset_index()\n",
    "df_G_total_NIH_dim3['pct'] = df_G_total_NIH_dim3['count'] / df_G_total_NIH_dim3['count'].sum()\n",
    "df_G_total_NIH_dim3.head(5)"
   ]
  },
  {
   "cell_type": "code",
   "execution_count": 115,
   "id": "ba019524",
   "metadata": {},
   "outputs": [
    {
     "name": "stdout",
     "output_type": "stream",
     "text": [
      "CPU times: user 1.23 s, sys: 41.8 ms, total: 1.27 s\n",
      "Wall time: 51.1 ms\n"
     ]
    },
    {
     "data": {
      "text/html": [
       "<div>\n",
       "<style scoped>\n",
       "    .dataframe tbody tr th:only-of-type {\n",
       "        vertical-align: middle;\n",
       "    }\n",
       "\n",
       "    .dataframe tbody tr th {\n",
       "        vertical-align: top;\n",
       "    }\n",
       "\n",
       "    .dataframe thead th {\n",
       "        text-align: right;\n",
       "    }\n",
       "</style>\n",
       "<table border=\"1\" class=\"dataframe\">\n",
       "  <thead>\n",
       "    <tr style=\"text-align: right;\">\n",
       "      <th></th>\n",
       "      <th>SciNet_paper_count</th>\n",
       "      <th>count</th>\n",
       "      <th>pct</th>\n",
       "    </tr>\n",
       "  </thead>\n",
       "  <tbody>\n",
       "    <tr>\n",
       "      <th>0</th>\n",
       "      <td>0.0</td>\n",
       "      <td>86192</td>\n",
       "      <td>0.292580</td>\n",
       "    </tr>\n",
       "    <tr>\n",
       "      <th>1</th>\n",
       "      <td>1.0</td>\n",
       "      <td>32172</td>\n",
       "      <td>0.109208</td>\n",
       "    </tr>\n",
       "    <tr>\n",
       "      <th>2</th>\n",
       "      <td>2.0</td>\n",
       "      <td>23989</td>\n",
       "      <td>0.081431</td>\n",
       "    </tr>\n",
       "    <tr>\n",
       "      <th>3</th>\n",
       "      <td>3.0</td>\n",
       "      <td>18835</td>\n",
       "      <td>0.063936</td>\n",
       "    </tr>\n",
       "    <tr>\n",
       "      <th>4</th>\n",
       "      <td>4.0</td>\n",
       "      <td>15115</td>\n",
       "      <td>0.051308</td>\n",
       "    </tr>\n",
       "  </tbody>\n",
       "</table>\n",
       "</div>"
      ],
      "text/plain": [
       "   SciNet_paper_count  count       pct\n",
       "0                 0.0  86192  0.292580\n",
       "1                 1.0  32172  0.109208\n",
       "2                 2.0  23989  0.081431\n",
       "3                 3.0  18835  0.063936\n",
       "4                 4.0  15115  0.051308"
      ]
     },
     "execution_count": 115,
     "metadata": {},
     "output_type": "execute_result"
    }
   ],
   "source": [
    "%%time\n",
    "df_G_total_NIH_sci3 = df_G_total_NIH_Sel_Fuzzy.groupby(['SciNet_paper_count'])['id'].agg(['count']).reset_index()\n",
    "df_G_total_NIH_sci3['pct'] = df_G_total_NIH_sci3['count'] / df_G_total_NIH_sci3['count'].sum()\n",
    "df_G_total_NIH_sci3.head(5)"
   ]
  },
  {
   "cell_type": "code",
   "execution_count": 116,
   "id": "e4687ec2",
   "metadata": {},
   "outputs": [
    {
     "data": {
      "text/plain": [
       "(294593, 294593)"
      ]
     },
     "execution_count": 116,
     "metadata": {},
     "output_type": "execute_result"
    }
   ],
   "source": [
    "df_G_total_NIH_dim3['count'].sum(), df_G_total_NIH_sci3['count'].sum()"
   ]
  },
  {
   "cell_type": "code",
   "execution_count": 117,
   "id": "e61ac321",
   "metadata": {},
   "outputs": [
    {
     "data": {
      "image/png": "[encoded data removed]",
      "text/plain": [
       "<Figure size 1800x1200 with 1 Axes>"
      ]
     },
     "metadata": {
      "needs_background": "light"
     },
     "output_type": "display_data"
    }
   ],
   "source": [
    "%matplotlib inline\n",
    "import matplotlib.pyplot as plt\n",
    "f = plt.figure(dpi=300)\n",
    "\n",
    "col1 = '#4E2A84'\n",
    "col2 = '#F7602A'\n",
    "\n",
    "import matplotlib as mpl\n",
    "mpl.rcParams['axes.prop_cycle'] = mpl.cycler(color=['#4e79a7','#e15759'])\n",
    "ax = f.add_subplot()\n",
    "plt.bar(df_G_total_NIH_sci3.head(20).SciNet_paper_count,\n",
    "        df_G_total_NIH_sci3.head(20).pct,\n",
    "        width=1,\n",
    "        edgecolor= col2,\n",
    "#          color='#4e79a7',\n",
    "         label = 'SciSciNet',alpha=0.8, \n",
    "         fill= False\n",
    "        )\n",
    "plt.bar(df_G_total_NIH_dim3.head(20).paper_count,\n",
    "        df_G_total_NIH_dim3.head(20).pct,\n",
    "        width=1,\n",
    "         edgecolor= col1,\n",
    "#         color='#e15759',\n",
    "         label = 'Dimensions',alpha=0.8, \n",
    "         fill= False\n",
    "        )\n",
    "plt.xlabel('# of papers',size=16)\n",
    "plt.ylabel('NIH Probability',size=16)\n",
    "# plt.xticks(fontsize=15)\n",
    "ax.set_xticks([0,5,10,15,20])\n",
    "ax.spines['top'].set_visible(False)\n",
    "ax.spines['right'].set_visible(False)\n",
    "ax.tick_params(axis='x', labelsize=12)\n",
    "ax.tick_params(axis='y', labelsize=12)\n",
    "# plt.yticks(,fontsize=15)\n",
    "plt.ylim(0,0.6)\n",
    "# plt.xlim(-0.5,20.5)\n",
    "# leg = ax.legend(fontsize=15,frameon=False, loc=1)\n",
    "plt.legend(fontsize=16,frameon=False, loc=1)\n",
    "# for color,text in zip(color,leg.get_texts()):\n",
    "#     text.set_color(color)\n",
    "# ax.legend(fontsize=15,frameon=False)\n",
    "plt.tight_layout()"
   ]
  },
  {
   "cell_type": "code",
   "execution_count": 120,
   "id": "e1a1589a",
   "metadata": {},
   "outputs": [],
   "source": [
    "# f.savefig('./Figures/6_SciSciNet_Dim_NIH_ReNew2000-2020_Re.pdf', bbox_inches=\"tight\", format=\"pdf\")"
   ]
  },
  {
   "cell_type": "code",
   "execution_count": 118,
   "id": "df343713",
   "metadata": {},
   "outputs": [
    {
     "data": {
      "image/png": "[encoded data removed]",
      "text/plain": [
       "<Figure size 1500x1500 with 1 Axes>"
      ]
     },
     "metadata": {
      "needs_background": "light"
     },
     "output_type": "display_data"
    }
   ],
   "source": [
    "%matplotlib inline\n",
    "import matplotlib.pyplot as plt\n",
    "f = plt.figure(figsize=(5,5),dpi=300)\n",
    "\n",
    "col1 = '#4E2A84'\n",
    "col2 = '#F7602A'\n",
    "\n",
    "import matplotlib as mpl\n",
    "# mpl.rcParams['axes.prop_cycle'] = mpl.cycler(color=['#4e79a7','#e15759'])\n",
    "ax = f.add_subplot()\n",
    "plt.plot(df_G_total_NIH_Sel_Fuzzy_Further.head(20).paper_count,\n",
    "        df_G_total_NIH_Sel_Fuzzy_Further.head(20).SciNet_paper_count, marker='*',\n",
    "         ms=10, markeredgewidth=1, lw=2, markerfacecolor='none',alpha=0.7\n",
    "        )\n",
    "plt.xlabel('# of papers (Dimensions-NIH)',size=16)\n",
    "plt.ylabel('# of papers (SciSciNet-NIH)',size=16)\n",
    "ax.spines['top'].set_visible(False)\n",
    "ax.spines['right'].set_visible(False)\n",
    "# plt.xticks(fontsize=16)\n",
    "# plt.yticks(fontsize=16)\n",
    "ax.set_xticks([0,5,10,15,20])\n",
    "ax.set_yticks([0,5,10,15,20])\n",
    "ax.tick_params(axis='x', labelsize=12)\n",
    "ax.tick_params(axis='y', labelsize=12)\n",
    "# plt.yticks(,fontsize=15)\n",
    "# plt.ylim(0,20)\n",
    "plt.tight_layout()"
   ]
  },
  {
   "cell_type": "code",
   "execution_count": 134,
   "id": "1c1d187a",
   "metadata": {},
   "outputs": [],
   "source": [
    "# f.savefig('./Figures/6_SciSciNet_Dim_NIH_ReNew_Map2000-2020_Re.pdf', bbox_inches=\"tight\", format=\"pdf\")"
   ]
  },
  {
   "cell_type": "code",
   "execution_count": 119,
   "id": "75c06bd9",
   "metadata": {},
   "outputs": [
    {
     "data": {
      "image/png": "[encoded data removed]",
      "text/plain": [
       "<Figure size 1500x1500 with 1 Axes>"
      ]
     },
     "metadata": {
      "needs_background": "light"
     },
     "output_type": "display_data"
    }
   ],
   "source": [
    "%matplotlib inline\n",
    "import matplotlib.pyplot as plt\n",
    "f = plt.figure(figsize=(5,5),dpi=300)\n",
    "\n",
    "col1 = '#4E2A84'\n",
    "col2 = '#F7602A'\n",
    "\n",
    "import matplotlib as mpl\n",
    "# mpl.rcParams['axes.prop_cycle'] = mpl.cycler(color=['#4e79a7','#e15759'])\n",
    "ax = f.add_subplot()\n",
    "plt.plot(df_G_total_NSF_Sel_Fuzzy_Comp_Further.head(20).paper_count,\n",
    "        df_G_total_NSF_Sel_Fuzzy_Comp_Further.head(20).SciNet_paper_count, marker='*',\n",
    "         ms=10, markeredgewidth=1, lw=2, markerfacecolor='none',alpha=0.7\n",
    "        )\n",
    "plt.xlabel('# of papers (Dimensions-NSF)',size=16)\n",
    "plt.ylabel('# of papers (SciSciNet-NSF)',size=16)\n",
    "ax.spines['top'].set_visible(False)\n",
    "ax.spines['right'].set_visible(False)\n",
    "# plt.xticks(fontsize=15)\n",
    "# plt.yticks(fontsize=15)\n",
    "ax.set_xticks([0,5,10,15,20])\n",
    "ax.set_yticks([0,5,10,15,20])\n",
    "ax.tick_params(axis='x', labelsize=12)\n",
    "ax.tick_params(axis='y', labelsize=12)\n",
    "# plt.yticks(,fontsize=15)\n",
    "# plt.ylim(0,20)\n",
    "plt.tight_layout()"
   ]
  },
  {
   "cell_type": "code",
   "execution_count": 137,
   "id": "92b5ff4e",
   "metadata": {},
   "outputs": [],
   "source": [
    "# f.savefig('./Figures/6_SciSciNet_Dim_NSF_ReNew_Map2000-2020_Re.pdf', bbox_inches=\"tight\", format=\"pdf\")"
   ]
  },
  {
   "cell_type": "code",
   "execution_count": 139,
   "id": "fe96aee9",
   "metadata": {},
   "outputs": [
    {
     "data": {
      "image/png": "[encoded data removed]",
      "text/plain": [
       "<Figure size 864x720 with 4 Axes>"
      ]
     },
     "metadata": {
      "needs_background": "light"
     },
     "output_type": "display_data"
    }
   ],
   "source": [
    "# fig,ax0 = plt.subplots(2,2,figsize=(12,8))\n",
    "fig = plt.figure(figsize=(12,10))\n",
    "widths = [6, 6]\n",
    "heights = [5, 7]\n",
    "gs = fig.add_gridspec(2, 2, width_ratios=widths, height_ratios=heights)\n",
    "\n",
    "\n",
    "col1 = '#4E2A84'\n",
    "col2 = '#F7602A'\n",
    "import matplotlib as mpl\n",
    "mpl.rcParams['axes.prop_cycle'] = mpl.cycler(color=['#4e79a7','#e15759'])\n",
    "\n",
    "\n",
    "ax = fig.add_subplot(gs[0,0])\n",
    "# ax = plt.subplot(2,2,1)\n",
    "plt.bar(df_G_total_NIH_sci3.head(20).SciNet_paper_count,\n",
    "        df_G_total_NIH_sci3.head(20).pct,\n",
    "        width=1,\n",
    "        edgecolor= col2,\n",
    "#          color='#4e79a7',\n",
    "         label = 'SciSciNet',alpha=0.8, \n",
    "         fill= False\n",
    "        )\n",
    "plt.bar(df_G_total_NIH_dim3.head(20).paper_count,\n",
    "        df_G_total_NIH_dim3.head(20).pct,\n",
    "        width=1,\n",
    "         edgecolor= col1,\n",
    "#         color='#e15759',\n",
    "         label = 'Dimensions',alpha=0.8, \n",
    "         fill= False\n",
    "        )\n",
    "plt.xlabel('# of papers',size=16)\n",
    "plt.ylabel('NIH Probability',size=16)\n",
    "# plt.xticks(fontsize=15)\n",
    "ax.set_xticks([0,5,10,15,20])\n",
    "ax.spines['top'].set_visible(False)\n",
    "ax.spines['right'].set_visible(False)\n",
    "ax.tick_params(axis='x', labelsize=12)\n",
    "ax.tick_params(axis='y', labelsize=12)\n",
    "# plt.yticks(,fontsize=15)\n",
    "plt.ylim(0,0.6)\n",
    "# plt.xlim(-0.5,20.5)\n",
    "# leg = ax.legend(fontsize=15,frameon=False, loc=1)\n",
    "plt.legend(fontsize=16,frameon=False, loc=1)\n",
    "# for color,text in zip(color,leg.get_texts()):\n",
    "#     text.set_color(color)\n",
    "# ax.legend(fontsize=15,frameon=False)\n",
    "plt.tight_layout()\n",
    "\n",
    "\n",
    "ax = fig.add_subplot(gs[0,1])\n",
    "# ax = plt.subplot(2,2,2)\n",
    "plt.bar(df_G_total_NSF_sci3.head(20).SciNet_paper_count,\n",
    "        df_G_total_NSF_sci3.head(20).pct,\n",
    "        width=1,\n",
    "        edgecolor= col2,\n",
    "#          color='#4e79a7',\n",
    "         label = 'SciSciNet',alpha=0.8, \n",
    "         fill= False\n",
    "        )\n",
    "plt.bar(df_G_total_NSF_dim3.head(20).paper_count,\n",
    "        df_G_total_NSF_dim3.head(20).pct,\n",
    "        width=1,\n",
    "         edgecolor= col1,\n",
    "#         color='#e15759',\n",
    "         label = 'Dimensions',alpha=0.8, \n",
    "         fill= False\n",
    "        )\n",
    "plt.xlabel('# of papers',size=16)\n",
    "plt.ylabel('NSF Probability',size=16)\n",
    "# plt.xticks(fontsize=12)\n",
    "ax.spines['top'].set_visible(False)\n",
    "ax.spines['right'].set_visible(False)\n",
    "ax.set_xticks([0,5,10,15,20])\n",
    "ax.tick_params(axis='x', labelsize=12)\n",
    "ax.tick_params(axis='y', labelsize=12)\n",
    "# plt.yticks(,fontsize=15)\n",
    "plt.ylim(0,0.6)\n",
    "# plt.xlim(-0.5,20.5)\n",
    "# leg = ax.legend(fontsize=15,frameon=False, loc=1)\n",
    "plt.legend(fontsize=16,frameon=False, loc=1)\n",
    "# for color,text in zip(color,leg.get_texts()):\n",
    "#     text.set_color(color)\n",
    "# ax.legend(fontsize=15,frameon=False)\n",
    "plt.tight_layout()\n",
    "\n",
    "\n",
    "# ax = plt.subplot(2,2,3)\n",
    "ax = fig.add_subplot(gs[1,0])\n",
    "col1 = '#4E2A84'\n",
    "col2 = '#F7602A'\n",
    "\n",
    "import matplotlib as mpl\n",
    "# mpl.rcParams['axes.prop_cycle'] = mpl.cycler(color=['#4e79a7','#e15759'])\n",
    "\n",
    "plt.plot(df_G_total_NIH_Sel_Fuzzy_Further.head(20).paper_count,\n",
    "        df_G_total_NIH_Sel_Fuzzy_Further.head(20).SciNet_paper_count, marker='*',\n",
    "         ms=10, markeredgewidth=1, lw=2, markerfacecolor='none',alpha=0.7\n",
    "        )\n",
    "plt.xlabel('# of papers (Dimensions-NIH)',size=16)\n",
    "plt.ylabel('# of papers (SciSciNet-NIH)',size=16)\n",
    "ax.spines['top'].set_visible(False)\n",
    "ax.spines['right'].set_visible(False)\n",
    "# plt.xticks(fontsize=16)\n",
    "# plt.yticks(fontsize=16)\n",
    "ax.set_xticks([0,5,10,15,20])\n",
    "ax.set_yticks([0,5,10,15,20])\n",
    "ax.tick_params(axis='x', labelsize=12)\n",
    "ax.tick_params(axis='y', labelsize=12)\n",
    "# plt.yticks(,fontsize=15)\n",
    "# plt.ylim(0,20)\n",
    "plt.tight_layout()\n",
    "\n",
    "\n",
    "# ax = plt.subplot(2,2,4)\n",
    "ax = fig.add_subplot(gs[1,1])\n",
    "col1 = '#4E2A84'\n",
    "col2 = '#F7602A'\n",
    "\n",
    "import matplotlib as mpl\n",
    "# mpl.rcParams['axes.prop_cycle'] = mpl.cycler(color=['#4e79a7','#e15759'])\n",
    "\n",
    "plt.plot(df_G_total_NSF_Sel_Fuzzy_Comp_Further.head(20).paper_count,\n",
    "        df_G_total_NSF_Sel_Fuzzy_Comp_Further.head(20).SciNet_paper_count, marker='*',\n",
    "         ms=10, markeredgewidth=1, lw=2, markerfacecolor='none',alpha=0.7\n",
    "        )\n",
    "plt.xlabel('# of papers (Dimensions-NSF)',size=16)\n",
    "plt.ylabel('# of papers (SciSciNet-NSF)',size=16)\n",
    "ax.spines['top'].set_visible(False)\n",
    "ax.spines['right'].set_visible(False)\n",
    "# plt.xticks(fontsize=15)\n",
    "# plt.yticks(fontsize=15)\n",
    "ax.set_xticks([0,5,10,15,20])\n",
    "ax.set_yticks([0,5,10,15,20])\n",
    "ax.tick_params(axis='x', labelsize=12)\n",
    "ax.tick_params(axis='y', labelsize=12)\n",
    "# plt.yticks(,fontsize=15)\n",
    "# plt.ylim(0,20)\n",
    "plt.tight_layout()\n",
    "\n",
    "plt.subplots_adjust(wspace=0.3, hspace=0.4)\n",
    "fig.savefig('./Figures/6_SciSciNet_Dim_NSF_ReNew_Map2000-2020_Big_Huge1.pdf', bbox_inches=\"tight\", format=\"pdf\")"
   ]
  },
  {
   "cell_type": "code",
   "execution_count": null,
   "id": "1c5d74cd",
   "metadata": {},
   "outputs": [],
   "source": []
  }
 ],
 "metadata": {
  "kernelspec": {
   "display_name": "newcv",
   "language": "python",
   "name": "newcv"
  },
  "language_info": {
   "codemirror_mode": {
    "name": "ipython",
    "version": 3
   },
   "file_extension": ".py",
   "mimetype": "text/x-python",
   "name": "python",
   "nbconvert_exporter": "python",
   "pygments_lexer": "ipython3",
   "version": "3.9.6"
  }
 },
 "nbformat": 4,
 "nbformat_minor": 5
}
