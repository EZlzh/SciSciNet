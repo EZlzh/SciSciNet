{
 "cells": [
  {
   "cell_type": "code",
   "execution_count": 1,
   "id": "de6e3a02",
   "metadata": {},
   "outputs": [],
   "source": [
    "import pandas as pd\n",
    "import csv"
   ]
  },
  {
   "cell_type": "code",
   "execution_count": 2,
   "id": "da0b1d4e",
   "metadata": {},
   "outputs": [
    {
     "name": "stdout",
     "output_type": "stream",
     "text": [
      "CPU times: user 4.2 s, sys: 442 ms, total: 4.64 s\n",
      "Wall time: 4.69 s\n"
     ]
    },
    {
     "data": {
      "text/html": [
       "<div>\n",
       "<style scoped>\n",
       "    .dataframe tbody tr th:only-of-type {\n",
       "        vertical-align: middle;\n",
       "    }\n",
       "\n",
       "    .dataframe tbody tr th {\n",
       "        vertical-align: top;\n",
       "    }\n",
       "\n",
       "    .dataframe thead th {\n",
       "        text-align: right;\n",
       "    }\n",
       "</style>\n",
       "<table border=\"1\" class=\"dataframe\">\n",
       "  <thead>\n",
       "    <tr style=\"text-align: right;\">\n",
       "      <th></th>\n",
       "      <th>NSF_Award_Number</th>\n",
       "      <th>PubRS_DOI</th>\n",
       "      <th>PubRS_Authors</th>\n",
       "      <th>PubRS_Year</th>\n",
       "      <th>PubRS_Title</th>\n",
       "      <th>PubRS_Journal</th>\n",
       "      <th>PubRS_Volume</th>\n",
       "      <th>PubRS_Page</th>\n",
       "      <th>PubRS_Source</th>\n",
       "      <th>DOI</th>\n",
       "      <th>Title</th>\n",
       "    </tr>\n",
       "  </thead>\n",
       "  <tbody>\n",
       "    <tr>\n",
       "      <th>0</th>\n",
       "      <td>0440577</td>\n",
       "      <td>NaN</td>\n",
       "      <td>Moran A. L., H. A. Woods</td>\n",
       "      <td>2007</td>\n",
       "      <td>Oxygen in egg masses: interactive effects of t...</td>\n",
       "      <td>Journal of Experimental Biology</td>\n",
       "      <td>210</td>\n",
       "      <td>NaN</td>\n",
       "      <td>NaN</td>\n",
       "      <td>NaN</td>\n",
       "      <td>oxygen in egg masses interactive effects of te...</td>\n",
       "    </tr>\n",
       "    <tr>\n",
       "      <th>1</th>\n",
       "      <td>0320784</td>\n",
       "      <td>NaN</td>\n",
       "      <td>Robert C. Romeo, Robert N. Martin, Bruce Twaro...</td>\n",
       "      <td>2006</td>\n",
       "      <td>Progress in the ULTRA 1m Ground-Based Telescope</td>\n",
       "      <td>SPIE Telescopes and Instrumentation Orlando FL</td>\n",
       "      <td>NaN</td>\n",
       "      <td>NaN</td>\n",
       "      <td>NaN</td>\n",
       "      <td>NaN</td>\n",
       "      <td>progress in the ultra 1m groundbased telescope</td>\n",
       "    </tr>\n",
       "    <tr>\n",
       "      <th>2</th>\n",
       "      <td>0320784</td>\n",
       "      <td>NaN</td>\n",
       "      <td>Robert C. Romeo, Robert N. Martin</td>\n",
       "      <td>2006</td>\n",
       "      <td>Progress in 1-m-Class, Lightweight CFRP Compos...</td>\n",
       "      <td>SPIE Telescopes and Instrumentation Orlando FL</td>\n",
       "      <td>NaN</td>\n",
       "      <td>NaN</td>\n",
       "      <td>NaN</td>\n",
       "      <td>NaN</td>\n",
       "      <td>progress in 1mclass lightweight cfrp composite...</td>\n",
       "    </tr>\n",
       "    <tr>\n",
       "      <th>3</th>\n",
       "      <td>1845986</td>\n",
       "      <td>10.1145/3373376.3378497</td>\n",
       "      <td>Lockerman Elliot, Feldmann Axel, Bakhshalipour...</td>\n",
       "      <td>2020</td>\n",
       "      <td>Livia: Data-Centric Computing Throughout the M...</td>\n",
       "      <td>Proceedings of the 25th international conferen...</td>\n",
       "      <td>NaN</td>\n",
       "      <td>417 to 433</td>\n",
       "      <td>OSTI</td>\n",
       "      <td>10.1145/3373376.3378497</td>\n",
       "      <td>livia datacentric computing throughout the mem...</td>\n",
       "    </tr>\n",
       "    <tr>\n",
       "      <th>4</th>\n",
       "      <td>1835178</td>\n",
       "      <td>NaN</td>\n",
       "      <td>Fortney Susan, Morris Theresa</td>\n",
       "      <td>2021</td>\n",
       "      <td>Eyes Wide Shut: Using Accreditation Regulation...</td>\n",
       "      <td>California law review</td>\n",
       "      <td>12</td>\n",
       "      <td>NaN</td>\n",
       "      <td>OSTI</td>\n",
       "      <td>NaN</td>\n",
       "      <td>eyes wide shut using accreditation regulation ...</td>\n",
       "    </tr>\n",
       "    <tr>\n",
       "      <th>...</th>\n",
       "      <td>...</td>\n",
       "      <td>...</td>\n",
       "      <td>...</td>\n",
       "      <td>...</td>\n",
       "      <td>...</td>\n",
       "      <td>...</td>\n",
       "      <td>...</td>\n",
       "      <td>...</td>\n",
       "      <td>...</td>\n",
       "      <td>...</td>\n",
       "      <td>...</td>\n",
       "    </tr>\n",
       "    <tr>\n",
       "      <th>753598</th>\n",
       "      <td>1611782</td>\n",
       "      <td>NaN</td>\n",
       "      <td>Rau M. A., Zahn M.</td>\n",
       "      <td>2018</td>\n",
       "      <td>Sequencing Support for Sense Making and Percep...</td>\n",
       "      <td>Rethinking Learning in the Digital Age Making ...</td>\n",
       "      <td>NaN</td>\n",
       "      <td>NaN</td>\n",
       "      <td>NaN</td>\n",
       "      <td>NaN</td>\n",
       "      <td>sequencing support for sense making and percep...</td>\n",
       "    </tr>\n",
       "    <tr>\n",
       "      <th>753599</th>\n",
       "      <td>1611782</td>\n",
       "      <td>NaN</td>\n",
       "      <td>Cheek K. McNeal, P. Rau M. Tinigin, L.</td>\n",
       "      <td>2018</td>\n",
       "      <td>The Role of Spatial Thinking Skills in Science...</td>\n",
       "      <td>National Association of Research in Science Te...</td>\n",
       "      <td>NaN</td>\n",
       "      <td>NaN</td>\n",
       "      <td>NaN</td>\n",
       "      <td>NaN</td>\n",
       "      <td>the role of spatial thinking skills in science...</td>\n",
       "    </tr>\n",
       "    <tr>\n",
       "      <th>753600</th>\n",
       "      <td>1611782</td>\n",
       "      <td>NaN</td>\n",
       "      <td>Rau M. A., Zahn M., Misback E., Burstyn J.</td>\n",
       "      <td>2019</td>\n",
       "      <td>Adaptive Support for Representation Skills in ...</td>\n",
       "      <td>Artificial Intelligence in Education AIED 2019...</td>\n",
       "      <td>11625</td>\n",
       "      <td>NaN</td>\n",
       "      <td>NaN</td>\n",
       "      <td>NaN</td>\n",
       "      <td>adaptive support for representation skills in ...</td>\n",
       "    </tr>\n",
       "    <tr>\n",
       "      <th>753601</th>\n",
       "      <td>1611782</td>\n",
       "      <td>NaN</td>\n",
       "      <td>Rau M. A., Zahn M.</td>\n",
       "      <td>2018</td>\n",
       "      <td>Sequencing Support for Sense Making and Percep...</td>\n",
       "      <td>Rethinking Learning in the Digital Age Making ...</td>\n",
       "      <td>1</td>\n",
       "      <td>NaN</td>\n",
       "      <td>NaN</td>\n",
       "      <td>NaN</td>\n",
       "      <td>sequencing support for sense making and percep...</td>\n",
       "    </tr>\n",
       "    <tr>\n",
       "      <th>753602</th>\n",
       "      <td>1611782</td>\n",
       "      <td>NaN</td>\n",
       "      <td>Cheek K., McNeal P., Rau M., Tinigin L.</td>\n",
       "      <td>2018</td>\n",
       "      <td>The Role of Spatial Thinking Skills in Science...</td>\n",
       "      <td>National Association of Research in Science Te...</td>\n",
       "      <td>NaN</td>\n",
       "      <td>NaN</td>\n",
       "      <td>NaN</td>\n",
       "      <td>NaN</td>\n",
       "      <td>the role of spatial thinking skills in science...</td>\n",
       "    </tr>\n",
       "  </tbody>\n",
       "</table>\n",
       "<p>753603 rows × 11 columns</p>\n",
       "</div>"
      ],
      "text/plain": [
       "       NSF_Award_Number                PubRS_DOI  \\\n",
       "0               0440577                      NaN   \n",
       "1               0320784                      NaN   \n",
       "2               0320784                      NaN   \n",
       "3               1845986  10.1145/3373376.3378497   \n",
       "4               1835178                      NaN   \n",
       "...                 ...                      ...   \n",
       "753598          1611782                      NaN   \n",
       "753599          1611782                      NaN   \n",
       "753600          1611782                      NaN   \n",
       "753601          1611782                      NaN   \n",
       "753602          1611782                      NaN   \n",
       "\n",
       "                                            PubRS_Authors PubRS_Year  \\\n",
       "0                                Moran A. L., H. A. Woods       2007   \n",
       "1       Robert C. Romeo, Robert N. Martin, Bruce Twaro...       2006   \n",
       "2                       Robert C. Romeo, Robert N. Martin       2006   \n",
       "3       Lockerman Elliot, Feldmann Axel, Bakhshalipour...       2020   \n",
       "4                           Fortney Susan, Morris Theresa       2021   \n",
       "...                                                   ...        ...   \n",
       "753598                                 Rau M. A., Zahn M.       2018   \n",
       "753599             Cheek K. McNeal, P. Rau M. Tinigin, L.       2018   \n",
       "753600         Rau M. A., Zahn M., Misback E., Burstyn J.       2019   \n",
       "753601                                 Rau M. A., Zahn M.       2018   \n",
       "753602            Cheek K., McNeal P., Rau M., Tinigin L.       2018   \n",
       "\n",
       "                                              PubRS_Title  \\\n",
       "0       Oxygen in egg masses: interactive effects of t...   \n",
       "1         Progress in the ULTRA 1m Ground-Based Telescope   \n",
       "2       Progress in 1-m-Class, Lightweight CFRP Compos...   \n",
       "3       Livia: Data-Centric Computing Throughout the M...   \n",
       "4       Eyes Wide Shut: Using Accreditation Regulation...   \n",
       "...                                                   ...   \n",
       "753598  Sequencing Support for Sense Making and Percep...   \n",
       "753599  The Role of Spatial Thinking Skills in Science...   \n",
       "753600  Adaptive Support for Representation Skills in ...   \n",
       "753601  Sequencing Support for Sense Making and Percep...   \n",
       "753602  The Role of Spatial Thinking Skills in Science...   \n",
       "\n",
       "                                            PubRS_Journal PubRS_Volume  \\\n",
       "0                         Journal of Experimental Biology          210   \n",
       "1          SPIE Telescopes and Instrumentation Orlando FL          NaN   \n",
       "2          SPIE Telescopes and Instrumentation Orlando FL          NaN   \n",
       "3       Proceedings of the 25th international conferen...          NaN   \n",
       "4                                   California law review           12   \n",
       "...                                                   ...          ...   \n",
       "753598  Rethinking Learning in the Digital Age Making ...          NaN   \n",
       "753599  National Association of Research in Science Te...          NaN   \n",
       "753600  Artificial Intelligence in Education AIED 2019...        11625   \n",
       "753601  Rethinking Learning in the Digital Age Making ...            1   \n",
       "753602  National Association of Research in Science Te...          NaN   \n",
       "\n",
       "        PubRS_Page PubRS_Source                      DOI  \\\n",
       "0              NaN          NaN                      NaN   \n",
       "1              NaN          NaN                      NaN   \n",
       "2              NaN          NaN                      NaN   \n",
       "3       417 to 433         OSTI  10.1145/3373376.3378497   \n",
       "4              NaN         OSTI                      NaN   \n",
       "...            ...          ...                      ...   \n",
       "753598         NaN          NaN                      NaN   \n",
       "753599         NaN          NaN                      NaN   \n",
       "753600         NaN          NaN                      NaN   \n",
       "753601         NaN          NaN                      NaN   \n",
       "753602         NaN          NaN                      NaN   \n",
       "\n",
       "                                                    Title  \n",
       "0       oxygen in egg masses interactive effects of te...  \n",
       "1          progress in the ultra 1m groundbased telescope  \n",
       "2       progress in 1mclass lightweight cfrp composite...  \n",
       "3       livia datacentric computing throughout the mem...  \n",
       "4       eyes wide shut using accreditation regulation ...  \n",
       "...                                                   ...  \n",
       "753598  sequencing support for sense making and percep...  \n",
       "753599  the role of spatial thinking skills in science...  \n",
       "753600  adaptive support for representation skills in ...  \n",
       "753601  sequencing support for sense making and percep...  \n",
       "753602  the role of spatial thinking skills in science...  \n",
       "\n",
       "[753603 rows x 11 columns]"
      ]
     },
     "execution_count": 2,
     "metadata": {},
     "output_type": "execute_result"
    }
   ],
   "source": [
    "%%time\n",
    "df_NSF_ES = pd.read_csv('./Link_NSF_Grants_For_Search-Sup.tsv', sep='\\t', dtype=str)\n",
    "df_NSF_ES"
   ]
  },
  {
   "cell_type": "code",
   "execution_count": 3,
   "id": "7725bf35",
   "metadata": {},
   "outputs": [
    {
     "name": "stdout",
     "output_type": "stream",
     "text": [
      "CPU times: user 10.1 s, sys: 1.7 s, total: 11.8 s\n",
      "Wall time: 11.8 s\n"
     ]
    }
   ],
   "source": [
    "%%time\n",
    "# Read search results.\n",
    "import _pickle as cpickle\n",
    "with open('./NSF_es','rb') as fp:\n",
    "    NSF_es = cpickle.load(fp)"
   ]
  },
  {
   "cell_type": "code",
   "execution_count": 4,
   "id": "3163814f",
   "metadata": {},
   "outputs": [
    {
     "data": {
      "text/plain": [
       "753603"
      ]
     },
     "execution_count": 4,
     "metadata": {},
     "output_type": "execute_result"
    }
   ],
   "source": [
    "len(NSF_es)"
   ]
  },
  {
   "cell_type": "code",
   "execution_count": 6,
   "id": "56bf695c",
   "metadata": {},
   "outputs": [
    {
     "data": {
      "text/plain": [
       "[{'took': 4435,\n",
       "  'timed_out': False,\n",
       "  '_shards': {'total': 1, 'successful': 1, 'skipped': 0, 'failed': 0},\n",
       "  'hits': {'total': {'value': 10000, 'relation': 'gte'},\n",
       "   'max_score': 73.2453,\n",
       "   'hits': [{'_index': 'mag_index_jan28_2022',\n",
       "     '_type': 'paper',\n",
       "     '_id': 'yKMPoH4BF8k1yeWUJx6r',\n",
       "     '_score': 73.2453,\n",
       "     '_source': {'mag': 3082616131,\n",
       "      'info': 'l. herrenkohl, kristine lund, joseph l. polman, j. radinsky, daniel suthers, iris tabak, a kidron 2018 rethinking learning in the digital age making the learning sciences count international conference of learning sciences 2'}},\n",
       "    {'_index': 'mag_index_jan28_2022',\n",
       "     '_type': 'paper',\n",
       "     '_id': '5Iakn34BF8k1yeWUBJ4I',\n",
       "     '_score': 70.35254,\n",
       "     '_source': {'mag': 2765582273,\n",
       "      'info': 'martina a. rau 2018 making connections among multiple visual representations how do sense making skills and perceptual fluency relate to learning of chemistry knowledge instructional science 46 2 209 243'}}]},\n",
       "  'status': 200},\n",
       " {'took': 5531,\n",
       "  'timed_out': False,\n",
       "  '_shards': {'total': 1, 'successful': 1, 'skipped': 0, 'failed': 0},\n",
       "  'hits': {'total': {'value': 10000, 'relation': 'gte'},\n",
       "   'max_score': 143.24603,\n",
       "   'hits': [{'_index': 'mag_index_jan28_2022',\n",
       "     '_type': 'paper',\n",
       "     '_id': 'LHcJoH4BF8k1yeWUaPwG',\n",
       "     '_score': 143.24603,\n",
       "     '_source': {'mag': 2949782575,\n",
       "      'info': 'martina a. rau, miranda zahn, edward misback, judith burstyn 2019 adaptive support for representation skills in a chemistry its is more effective than static support artificial intelligence in education 432 444'}},\n",
       "    {'_index': 'mag_index_jan28_2022',\n",
       "     '_type': 'paper',\n",
       "     '_id': 'ipcNoH4BF8k1yeWUmmZj',\n",
       "     '_score': 68.21272,\n",
       "     '_source': {'mag': 3139226479,\n",
       "      'info': 'martina a. rau, miranda zahn, edward misback, tiffany herder, judith burstyn 2021 adaptive support for representational competencies during technology based problem solving in chemistry the journal of the learning sciences 30 2 163 203'}}]},\n",
       "  'status': 200},\n",
       " {'took': 3607,\n",
       "  'timed_out': False,\n",
       "  '_shards': {'total': 1, 'successful': 1, 'skipped': 0, 'failed': 0},\n",
       "  'hits': {'total': {'value': 10000, 'relation': 'gte'},\n",
       "   'max_score': 79.37385,\n",
       "   'hits': [{'_index': 'mag_index_jan28_2022',\n",
       "     '_type': 'paper',\n",
       "     '_id': 'RerUn34BF8k1yeWUSFXS',\n",
       "     '_score': 79.37385,\n",
       "     '_source': {'mag': 2913347191,\n",
       "      'info': 'martina a. rau, sally p. w. wu 2018 combining instructional activities for sense making processes and perceptual induction processes involved in connection making among multiple visual representations cognition and instruction 36 4 361 395'}},\n",
       "    {'_index': 'mag_index_jan28_2022',\n",
       "     '_type': 'paper',\n",
       "     '_id': 'iGHBn34BF8k1yeWUzDjM',\n",
       "     '_score': 50.20512,\n",
       "     '_source': {'mag': 2780716996,\n",
       "      'info': 'martina a. rau, sally p. w. wu 2017 educational technology support for collaborative learning with multiple visual representations in chemistry computer supported collaborative learning'}}]},\n",
       "  'status': 200},\n",
       " {'took': 4660,\n",
       "  'timed_out': False,\n",
       "  '_shards': {'total': 1, 'successful': 1, 'skipped': 0, 'failed': 0},\n",
       "  'hits': {'total': {'value': 10000, 'relation': 'gte'},\n",
       "   'max_score': 82.614525,\n",
       "   'hits': [{'_index': 'mag_index_jan28_2022',\n",
       "     '_type': 'paper',\n",
       "     '_id': '5Iakn34BF8k1yeWUBJ4I',\n",
       "     '_score': 82.614525,\n",
       "     '_source': {'mag': 2765582273,\n",
       "      'info': 'martina a. rau 2018 making connections among multiple visual representations how do sense making skills and perceptual fluency relate to learning of chemistry knowledge instructional science 46 2 209 243'}},\n",
       "    {'_index': 'mag_index_jan28_2022',\n",
       "     '_type': 'paper',\n",
       "     '_id': 'yKMPoH4BF8k1yeWUJx6r',\n",
       "     '_score': 73.2453,\n",
       "     '_source': {'mag': 3082616131,\n",
       "      'info': 'l. herrenkohl, kristine lund, joseph l. polman, j. radinsky, daniel suthers, iris tabak, a kidron 2018 rethinking learning in the digital age making the learning sciences count international conference of learning sciences 2'}}]},\n",
       "  'status': 200},\n",
       " {'took': 7674,\n",
       "  'timed_out': False,\n",
       "  '_shards': {'total': 1, 'successful': 1, 'skipped': 0, 'failed': 0},\n",
       "  'hits': {'total': {'value': 10000, 'relation': 'gte'},\n",
       "   'max_score': 49.48009,\n",
       "   'hits': [{'_index': 'mag_index_jan28_2022',\n",
       "     '_type': 'paper',\n",
       "     '_id': 'xR4foH4BF8k1yeWUlvwd',\n",
       "     '_score': 49.48009,\n",
       "     '_source': {'mag': 3033634310,\n",
       "      'info': 'peggy m. mcneal, heather l. petcovic 2020 spatial thinking and fluid earth science education research journal of geoscience education 68 4 289 301'}},\n",
       "    {'_index': 'mag_index_jan28_2022',\n",
       "     '_type': 'paper',\n",
       "     '_id': 'C9Hzn34BF8k1yeWUTagd',\n",
       "     '_score': 46.96472,\n",
       "     '_source': {'mag': 2902647850,\n",
       "      'info': 'peggy m. mcneal, heather petcovic 2018 making sense of spatial thinking frameworks for broad geoscience education research'}}]},\n",
       "  'status': 200},\n",
       " {'took': 5856,\n",
       "  'timed_out': False,\n",
       "  '_shards': {'total': 1, 'successful': 1, 'skipped': 0, 'failed': 0},\n",
       "  'hits': {'total': {'value': 10000, 'relation': 'gte'},\n",
       "   'max_score': 143.24603,\n",
       "   'hits': [{'_index': 'mag_index_jan28_2022',\n",
       "     '_type': 'paper',\n",
       "     '_id': 'LHcJoH4BF8k1yeWUaPwG',\n",
       "     '_score': 143.24603,\n",
       "     '_source': {'mag': 2949782575,\n",
       "      'info': 'martina a. rau, miranda zahn, edward misback, judith burstyn 2019 adaptive support for representation skills in a chemistry its is more effective than static support artificial intelligence in education 432 444'}},\n",
       "    {'_index': 'mag_index_jan28_2022',\n",
       "     '_type': 'paper',\n",
       "     '_id': 'ipcNoH4BF8k1yeWUmmZj',\n",
       "     '_score': 68.21272,\n",
       "     '_source': {'mag': 3139226479,\n",
       "      'info': 'martina a. rau, miranda zahn, edward misback, tiffany herder, judith burstyn 2021 adaptive support for representational competencies during technology based problem solving in chemistry the journal of the learning sciences 30 2 163 203'}}]},\n",
       "  'status': 200},\n",
       " {'took': 5077,\n",
       "  'timed_out': False,\n",
       "  '_shards': {'total': 1, 'successful': 1, 'skipped': 0, 'failed': 0},\n",
       "  'hits': {'total': {'value': 10000, 'relation': 'gte'},\n",
       "   'max_score': 82.614525,\n",
       "   'hits': [{'_index': 'mag_index_jan28_2022',\n",
       "     '_type': 'paper',\n",
       "     '_id': '5Iakn34BF8k1yeWUBJ4I',\n",
       "     '_score': 82.614525,\n",
       "     '_source': {'mag': 2765582273,\n",
       "      'info': 'martina a. rau 2018 making connections among multiple visual representations how do sense making skills and perceptual fluency relate to learning of chemistry knowledge instructional science 46 2 209 243'}},\n",
       "    {'_index': 'mag_index_jan28_2022',\n",
       "     '_type': 'paper',\n",
       "     '_id': 'yKMPoH4BF8k1yeWUJx6r',\n",
       "     '_score': 73.2453,\n",
       "     '_source': {'mag': 3082616131,\n",
       "      'info': 'l. herrenkohl, kristine lund, joseph l. polman, j. radinsky, daniel suthers, iris tabak, a kidron 2018 rethinking learning in the digital age making the learning sciences count international conference of learning sciences 2'}}]},\n",
       "  'status': 200},\n",
       " {'took': 7866,\n",
       "  'timed_out': False,\n",
       "  '_shards': {'total': 1, 'successful': 1, 'skipped': 0, 'failed': 0},\n",
       "  'hits': {'total': {'value': 10000, 'relation': 'gte'},\n",
       "   'max_score': 49.48009,\n",
       "   'hits': [{'_index': 'mag_index_jan28_2022',\n",
       "     '_type': 'paper',\n",
       "     '_id': 'xR4foH4BF8k1yeWUlvwd',\n",
       "     '_score': 49.48009,\n",
       "     '_source': {'mag': 3033634310,\n",
       "      'info': 'peggy m. mcneal, heather l. petcovic 2020 spatial thinking and fluid earth science education research journal of geoscience education 68 4 289 301'}},\n",
       "    {'_index': 'mag_index_jan28_2022',\n",
       "     '_type': 'paper',\n",
       "     '_id': 'C9Hzn34BF8k1yeWUTagd',\n",
       "     '_score': 46.96472,\n",
       "     '_source': {'mag': 2902647850,\n",
       "      'info': 'peggy m. mcneal, heather petcovic 2018 making sense of spatial thinking frameworks for broad geoscience education research'}}]},\n",
       "  'status': 200}]"
      ]
     },
     "execution_count": 6,
     "metadata": {},
     "output_type": "execute_result"
    }
   ],
   "source": [
    "NSF_es[-8:]"
   ]
  },
  {
   "cell_type": "code",
   "execution_count": 7,
   "id": "46b8f011",
   "metadata": {},
   "outputs": [
    {
     "name": "stdout",
     "output_type": "stream",
     "text": [
      "1 992\n",
      "CPU times: user 1.02 s, sys: 886 µs, total: 1.02 s\n",
      "Wall time: 1.02 s\n"
     ]
    }
   ],
   "source": [
    "%%time\n",
    "Score0 = []\n",
    "Score1 = []\n",
    "Fail = 0\n",
    "Equal = 0\n",
    "for each_es in NSF_es: \n",
    "    if len(each_es['hits']['hits']) < 2:\n",
    "        Fail += 1\n",
    "        Score0.append(0.0)\n",
    "        Score1.append(0.0)\n",
    "    else:\n",
    "        if each_es['hits']['max_score'] == each_es['hits']['hits'][1]['_score']:\n",
    "            Equal += 1\n",
    "        Score0.append(each_es['hits']['max_score'])\n",
    "        Score1.append(each_es['hits']['hits'][1]['_score'])\n",
    "print(Fail, Equal)"
   ]
  },
  {
   "cell_type": "code",
   "execution_count": 8,
   "id": "4e12555a",
   "metadata": {},
   "outputs": [
    {
     "name": "stderr",
     "output_type": "stream",
     "text": [
      "100%|██████████| 753603/753603 [00:04<00:00, 170101.81it/s]"
     ]
    },
    {
     "name": "stdout",
     "output_type": "stream",
     "text": [
      "753603\n",
      "CPU times: user 4.42 s, sys: 236 ms, total: 4.66 s\n",
      "Wall time: 4.77 s\n"
     ]
    },
    {
     "name": "stderr",
     "output_type": "stream",
     "text": [
      "\n"
     ]
    }
   ],
   "source": [
    "%%time\n",
    "NSF_ES_list_values = df_NSF_ES[['PubRS_Authors','PubRS_Year','Title', \n",
    "                                'PubRS_Journal', 'PubRS_Volume', 'PubRS_Page']].values\n",
    "query = []\n",
    "cnt = 0\n",
    "from tqdm import tqdm\n",
    "for each in tqdm(NSF_ES_list_values):\n",
    "    cur_q = []\n",
    "    for each_r in each:\n",
    "        if str(each_r) != 'None' and str(each_r).lower() != 'nan' and each_r != '' and each_r != ' ':\n",
    "            cur_q.append(each_r)\n",
    "    query.append(' '.join(cur_q))\n",
    "print(len(query))"
   ]
  },
  {
   "cell_type": "code",
   "execution_count": 9,
   "id": "872322b4",
   "metadata": {},
   "outputs": [
    {
     "data": {
      "text/plain": [
       "['Rau M. A., Zahn M. 2018 sequencing support for sense making and perceptual fluency with visual representations is there a learning progression Rethinking Learning in the Digital Age Making the Learning Sciences Count ICLS 2018',\n",
       " 'Cheek K. McNeal, P. Rau M. Tinigin, L. 2018 the role of spatial thinking skills in science learning examples from geoscience and chemistry National Association of Research in Science Teaching Annual Conference',\n",
       " 'Rau M. A., Zahn M., Misback E., Burstyn J. 2019 adaptive support for representation skills in a chemistry its is more effective than static support Artificial Intelligence in Education AIED 2019 Lecture Notes in Computer Science 11625',\n",
       " 'Rau M. A., Zahn M. 2018 sequencing support for sense making and perceptual fluency with visual representations is there a learning progression Rethinking Learning in the Digital Age Making the Learning Sciences Count ICLS 2018 1',\n",
       " 'Cheek K., McNeal P., Rau M., Tinigin L. 2018 the role of spatial thinking skills in science learning examples from geoscience and chemistry National Association of Research in Science Teaching Annual Conference']"
      ]
     },
     "execution_count": 9,
     "metadata": {},
     "output_type": "execute_result"
    }
   ],
   "source": [
    "query[-5:]"
   ]
  },
  {
   "cell_type": "code",
   "execution_count": 10,
   "id": "cbd6cadd",
   "metadata": {},
   "outputs": [
    {
     "name": "stdout",
     "output_type": "stream",
     "text": [
      "CPU times: user 118 ms, sys: 7.92 ms, total: 125 ms\n",
      "Wall time: 124 ms\n"
     ]
    },
    {
     "data": {
      "text/plain": [
       "[176, 229, 164, 331, 166]"
      ]
     },
     "execution_count": 10,
     "metadata": {},
     "output_type": "execute_result"
    }
   ],
   "source": [
    "%%time\n",
    "Query_Length = [len(each) for each in query]\n",
    "Query_Length[:5]"
   ]
  },
  {
   "cell_type": "code",
   "execution_count": 11,
   "id": "2f842f3e",
   "metadata": {},
   "outputs": [
    {
     "name": "stdout",
     "output_type": "stream",
     "text": [
      "CPU times: user 154 ms, sys: 6.14 ms, total: 160 ms\n",
      "Wall time: 158 ms\n"
     ]
    },
    {
     "data": {
      "text/plain": [
       "(185.02618620148806, 60.00997523733719)"
      ]
     },
     "execution_count": 11,
     "metadata": {},
     "output_type": "execute_result"
    }
   ],
   "source": [
    "%%time \n",
    "import numpy as np\n",
    "np.mean(Query_Length), np.std(Query_Length)"
   ]
  },
  {
   "cell_type": "code",
   "execution_count": 12,
   "id": "190d978e",
   "metadata": {},
   "outputs": [
    {
     "data": {
      "text/plain": [
       "Text(0, 0.5, 'Density')"
      ]
     },
     "execution_count": 12,
     "metadata": {},
     "output_type": "execute_result"
    },
    {
     "data": {
      "image/png": "[encoded data removed]",
      "text/plain": [
       "<Figure size 432x288 with 1 Axes>"
      ]
     },
     "metadata": {
      "needs_background": "light"
     },
     "output_type": "display_data"
    }
   ],
   "source": [
    "%matplotlib inline\n",
    "import matplotlib as mpl\n",
    "import matplotlib.pyplot as plt\n",
    "fig, ax1 = plt.subplots()\n",
    "ax1.hist(Query_Length, bins=50, density=True, alpha=0.5)\n",
    "ax1.set_xlabel('Original Length',fontsize = 12)\n",
    "ax1.set_ylabel('Density',fontsize = 12)"
   ]
  },
  {
   "cell_type": "markdown",
   "id": "840d0826",
   "metadata": {},
   "source": [
    "# Log-Division"
   ]
  },
  {
   "cell_type": "code",
   "execution_count": 13,
   "id": "376fe8ad",
   "metadata": {},
   "outputs": [
    {
     "name": "stdout",
     "output_type": "stream",
     "text": [
      "753603\n",
      "CPU times: user 1.19 s, sys: 43.7 ms, total: 1.23 s\n",
      "Wall time: 1.23 s\n"
     ]
    },
    {
     "data": {
      "text/plain": [
       "[7, 7, 7, 8, 7, 7, 7, 7, 7, 7]"
      ]
     },
     "execution_count": 13,
     "metadata": {},
     "output_type": "execute_result"
    }
   ],
   "source": [
    "%%time\n",
    "Normed_Query_Length = []\n",
    "from collections import defaultdict\n",
    "Query_ton_Dict = defaultdict(list)\n",
    "for i,v in enumerate(Query_Length):\n",
    "#     j = int(v**(1/2))\n",
    "    j = int(np.log2(v)) if v!=0 else 0\n",
    "    Normed_Query_Length.append(j)\n",
    "    Query_ton_Dict[j].append(i)\n",
    "print(len(Normed_Query_Length))\n",
    "Normed_Query_Length[:10]"
   ]
  },
  {
   "cell_type": "code",
   "execution_count": 14,
   "id": "2791dc89",
   "metadata": {},
   "outputs": [
    {
     "name": "stdout",
     "output_type": "stream",
     "text": [
      "CPU times: user 3 µs, sys: 1 µs, total: 4 µs\n",
      "Wall time: 8.11 µs\n"
     ]
    },
    {
     "data": {
      "text/plain": [
       "9"
      ]
     },
     "execution_count": 14,
     "metadata": {},
     "output_type": "execute_result"
    }
   ],
   "source": [
    "%%time\n",
    "len(Query_ton_Dict)"
   ]
  },
  {
   "cell_type": "code",
   "execution_count": 15,
   "id": "82634aa2",
   "metadata": {},
   "outputs": [
    {
     "name": "stdout",
     "output_type": "stream",
     "text": [
      "CPU times: user 9 µs, sys: 1 µs, total: 10 µs\n",
      "Wall time: 14.3 µs\n"
     ]
    },
    {
     "data": {
      "text/plain": [
       "dict_keys([7, 8, 6, 5, 3, 4, 0, 9, 2])"
      ]
     },
     "execution_count": 15,
     "metadata": {},
     "output_type": "execute_result"
    }
   ],
   "source": [
    "%%time\n",
    "Query_ton_Dict.keys()"
   ]
  },
  {
   "cell_type": "code",
   "execution_count": 16,
   "id": "ab3cbbca",
   "metadata": {},
   "outputs": [
    {
     "name": "stdout",
     "output_type": "stream",
     "text": [
      "0\n"
     ]
    }
   ],
   "source": [
    "skip = []\n",
    "for k,v in Query_ton_Dict.items():\n",
    "    if len(v) < 2:\n",
    "        skip.append(k)\n",
    "        print(k)"
   ]
  },
  {
   "cell_type": "code",
   "execution_count": 17,
   "id": "3bdfcbfd",
   "metadata": {},
   "outputs": [
    {
     "name": "stderr",
     "output_type": "stream",
     "text": [
      "100%|██████████| 9/9 [00:01<00:00,  7.79it/s]"
     ]
    },
    {
     "name": "stdout",
     "output_type": "stream",
     "text": [
      "CPU times: user 1.05 s, sys: 113 ms, total: 1.16 s\n",
      "Wall time: 1.16 s\n"
     ]
    },
    {
     "name": "stderr",
     "output_type": "stream",
     "text": [
      "\n"
     ]
    }
   ],
   "source": [
    "%%time\n",
    "Score0_N = []\n",
    "Score1_N = []\n",
    "\n",
    "for k,v in tqdm(Query_ton_Dict.items()):\n",
    "    if k in skip:\n",
    "        continue\n",
    "\n",
    "    cur_Score1 = [Score1[i] for i in Query_ton_Dict[k]]\n",
    "    cur_Score0 = [Score0[i] for i in Query_ton_Dict[k]]\n",
    "    \n",
    "    mean1 = np.mean(cur_Score1)\n",
    "    std1 = np.std(cur_Score1)\n",
    "\n",
    "\n",
    "    for score in cur_Score1:\n",
    "        Score1_N.append((score - mean1) / std1)\n",
    "\n",
    "    for score in cur_Score0:\n",
    "        Score0_N.append((score - mean1) / std1)"
   ]
  },
  {
   "cell_type": "code",
   "execution_count": 18,
   "id": "4ad72e06",
   "metadata": {},
   "outputs": [
    {
     "data": {
      "text/plain": [
       "Text(0, 0.5, 'Density')"
      ]
     },
     "execution_count": 18,
     "metadata": {},
     "output_type": "execute_result"
    },
    {
     "data": {
      "image/png": "[encoded data removed]",
      "text/plain": [
       "<Figure size 432x288 with 1 Axes>"
      ]
     },
     "metadata": {
      "needs_background": "light"
     },
     "output_type": "display_data"
    }
   ],
   "source": [
    "%matplotlib inline\n",
    "import matplotlib as mpl\n",
    "import matplotlib.pyplot as plt\n",
    "fig, ax1 = plt.subplots()\n",
    "ax1.hist(Score0_N, bins=100, density=True, alpha=0.5, range=[-4,8])\n",
    "ax1.hist(Score1_N, bins=100, density=True, alpha=0.4, range=[-4,8])\n",
    "# ax1.set_ylim([0, 0.7])\n",
    "ax1.set_xlabel('Normalized Score',fontsize = 12)\n",
    "ax1.set_ylabel('Density',fontsize = 12)"
   ]
  },
  {
   "cell_type": "code",
   "execution_count": 19,
   "id": "be02a72c",
   "metadata": {},
   "outputs": [],
   "source": [
    "# newg = ax1.get_figure()\n",
    "# # newg.savefig(\"FamilyIDCounts.pdf\")\n",
    "# newg.savefig('foo.pdf')"
   ]
  },
  {
   "cell_type": "code",
   "execution_count": 20,
   "id": "9fc630e8",
   "metadata": {},
   "outputs": [
    {
     "data": {
      "text/plain": [
       "0.447031722314962"
      ]
     },
     "execution_count": 20,
     "metadata": {},
     "output_type": "execute_result"
    }
   ],
   "source": [
    "len([i for i in Score0_N if i > 1.959964]) / len(Score0_N)"
   ]
  },
  {
   "cell_type": "code",
   "execution_count": 21,
   "id": "b3dd3e39",
   "metadata": {},
   "outputs": [
    {
     "data": {
      "text/plain": [
       "3.6036188015359606e-16"
      ]
     },
     "execution_count": 21,
     "metadata": {},
     "output_type": "execute_result"
    }
   ],
   "source": [
    "np.mean(Score1_N)"
   ]
  },
  {
   "cell_type": "code",
   "execution_count": 22,
   "id": "59f59017",
   "metadata": {},
   "outputs": [
    {
     "data": {
      "text/plain": [
       "1.0"
      ]
     },
     "execution_count": 22,
     "metadata": {},
     "output_type": "execute_result"
    }
   ],
   "source": [
    "np.std(Score1_N)"
   ]
  },
  {
   "cell_type": "markdown",
   "id": "318708ce",
   "metadata": {},
   "source": [
    "# SquareRoot-Division"
   ]
  },
  {
   "cell_type": "code",
   "execution_count": 23,
   "id": "2524124e",
   "metadata": {},
   "outputs": [
    {
     "name": "stdout",
     "output_type": "stream",
     "text": [
      "753603\n",
      "CPU times: user 492 ms, sys: 15.8 ms, total: 507 ms\n",
      "Wall time: 505 ms\n"
     ]
    },
    {
     "data": {
      "text/plain": [
       "[13, 15, 12, 18, 12, 14, 13, 14, 15, 14]"
      ]
     },
     "execution_count": 23,
     "metadata": {},
     "output_type": "execute_result"
    }
   ],
   "source": [
    "%%time\n",
    "Normed_Query_Length = []\n",
    "from collections import defaultdict\n",
    "Query_ton_Dict = defaultdict(list)\n",
    "for i,v in enumerate(Query_Length):\n",
    "#     j = int(np.log2(v)) if v!=0 else 0\n",
    "    j = int(v**(1/2))\n",
    "    Normed_Query_Length.append(j)\n",
    "    Query_ton_Dict[j].append(i)\n",
    "print(len(Normed_Query_Length))\n",
    "Normed_Query_Length[:10]"
   ]
  },
  {
   "cell_type": "code",
   "execution_count": 24,
   "id": "ef2f242d",
   "metadata": {},
   "outputs": [
    {
     "name": "stdout",
     "output_type": "stream",
     "text": [
      "0\n",
      "25\n"
     ]
    }
   ],
   "source": [
    "skip = []\n",
    "for k,v in Query_ton_Dict.items():\n",
    "    if len(v) < 2:\n",
    "        skip.append(k)\n",
    "        print(k)"
   ]
  },
  {
   "cell_type": "code",
   "execution_count": 25,
   "id": "1464d0e5",
   "metadata": {},
   "outputs": [
    {
     "name": "stderr",
     "output_type": "stream",
     "text": [
      "100%|██████████| 25/25 [00:01<00:00, 14.94it/s]"
     ]
    },
    {
     "name": "stdout",
     "output_type": "stream",
     "text": [
      "CPU times: user 1.6 s, sys: 111 ms, total: 1.71 s\n",
      "Wall time: 1.71 s\n"
     ]
    },
    {
     "name": "stderr",
     "output_type": "stream",
     "text": [
      "\n"
     ]
    }
   ],
   "source": [
    "%%time\n",
    "Score0_N = []\n",
    "Score1_N = []\n",
    "Pos_N = []\n",
    "\n",
    "for k,v in tqdm(Query_ton_Dict.items()):\n",
    "    if k in skip:\n",
    "        continue\n",
    "\n",
    "    cur_Score1 = [Score1[i] for i in Query_ton_Dict[k]]\n",
    "    cur_Score0 = [Score0[i] for i in Query_ton_Dict[k]]\n",
    "    cur_Pos = [i for i in Query_ton_Dict[k]]\n",
    "    mean1 = np.mean(cur_Score1)\n",
    "    std1 = np.std(cur_Score1)\n",
    "\n",
    "\n",
    "    for score in cur_Score1:\n",
    "        Score1_N.append((score - mean1) / std1)\n",
    "    for score in cur_Score0:\n",
    "        Score0_N.append((score - mean1) / std1)\n",
    "    for pos in cur_Pos:\n",
    "        Pos_N.append(pos)"
   ]
  },
  {
   "cell_type": "code",
   "execution_count": 26,
   "id": "e595d1e5",
   "metadata": {},
   "outputs": [
    {
     "data": {
      "image/png": "[encoded data removed]",
      "text/plain": [
       "<Figure size 576x432 with 1 Axes>"
      ]
     },
     "metadata": {},
     "output_type": "display_data"
    }
   ],
   "source": [
    "%matplotlib inline\n",
    "import matplotlib as mpl\n",
    "import matplotlib.pyplot as plt\n",
    "fig, ax1 = plt.subplots(figsize=(8,6),facecolor='white')\n",
    "ax1.hist(Score0_N, bins=100, density=True, alpha=0.5, range=[-3,6], label='$1^{st}$ score')\n",
    "ax1.hist(Score1_N, bins=100, density=True, alpha=0.4, range=[-3,6], label='$2^{nd}$ score')\n",
    "ax1.axvline(x=1.64485, color='r', linestyle='-')\n",
    "# ax1.set_ylim([0, 0.7])\n",
    "ax1.set_xlabel('Z-score',fontsize = 16)\n",
    "ax1.set_ylabel('Density',fontsize = 16)\n",
    "ax1.spines['top'].set_visible(False)\n",
    "ax1.spines['right'].set_visible(False)\n",
    "ax1.tick_params(axis='y', which='major', labelsize=12, direction='in')\n",
    "ax1.tick_params(axis='x', which='major', labelsize=12, direction='in')\n",
    "ax1.legend(loc=0,numpoints=1,fontsize=16,frameon=False)\n",
    "fig.savefig('./SciNet_NSF_Fig2a.pdf', bbox_inches=\"tight\")"
   ]
  },
  {
   "cell_type": "code",
   "execution_count": 27,
   "id": "39413b79",
   "metadata": {},
   "outputs": [
    {
     "data": {
      "text/plain": [
       "0.5142734683207693"
      ]
     },
     "execution_count": 27,
     "metadata": {},
     "output_type": "execute_result"
    }
   ],
   "source": [
    "len([i for i in Score0_N if i > 1.959964]) / len(Score0_N)"
   ]
  },
  {
   "cell_type": "code",
   "execution_count": 28,
   "id": "63307c67",
   "metadata": {},
   "outputs": [
    {
     "data": {
      "text/plain": [
       "0.6199023090468299"
      ]
     },
     "execution_count": 28,
     "metadata": {},
     "output_type": "execute_result"
    }
   ],
   "source": [
    "len([i for i in Score0_N if i > 1.64485]) / len(Score0_N)"
   ]
  },
  {
   "cell_type": "code",
   "execution_count": 29,
   "id": "bc234d9f",
   "metadata": {},
   "outputs": [
    {
     "data": {
      "text/plain": [
       "(-7.582506765493577e-17, 0.9999999999999998)"
      ]
     },
     "execution_count": 29,
     "metadata": {},
     "output_type": "execute_result"
    }
   ],
   "source": [
    "np.mean(Score1_N), np.std(Score1_N)"
   ]
  },
  {
   "cell_type": "code",
   "execution_count": 30,
   "id": "11f9ac1a",
   "metadata": {},
   "outputs": [
    {
     "data": {
      "text/plain": [
       "0.9035179093446001"
      ]
     },
     "execution_count": 30,
     "metadata": {},
     "output_type": "execute_result"
    }
   ],
   "source": [
    "len([i for i in Score0_N if i > 0]) / len(Score0_N)"
   ]
  },
  {
   "cell_type": "code",
   "execution_count": 31,
   "id": "e7cfc53e",
   "metadata": {},
   "outputs": [
    {
     "data": {
      "text/plain": [
       "0.04926346966100098"
      ]
     },
     "execution_count": 31,
     "metadata": {},
     "output_type": "execute_result"
    }
   ],
   "source": [
    "len([i for i in Score1_N if i > 1.959964]) / len(Score0_N)"
   ]
  },
  {
   "cell_type": "code",
   "execution_count": 32,
   "id": "54d937bb",
   "metadata": {},
   "outputs": [
    {
     "data": {
      "text/plain": [
       "0.073354467417108"
      ]
     },
     "execution_count": 32,
     "metadata": {},
     "output_type": "execute_result"
    }
   ],
   "source": [
    "len([i for i in Score1_N if i > 1.64485]) / len(Score0_N)"
   ]
  },
  {
   "cell_type": "code",
   "execution_count": 33,
   "id": "0630f8bf",
   "metadata": {},
   "outputs": [
    {
     "data": {
      "text/plain": [
       "0.4246929077854196"
      ]
     },
     "execution_count": 33,
     "metadata": {},
     "output_type": "execute_result"
    }
   ],
   "source": [
    "len([i for i in Score1_N if i > 0]) / len(Score1_N)"
   ]
  },
  {
   "cell_type": "code",
   "execution_count": 34,
   "id": "94e76caa",
   "metadata": {},
   "outputs": [
    {
     "data": {
      "text/plain": [
       "0.9986836535514151"
      ]
     },
     "execution_count": 34,
     "metadata": {},
     "output_type": "execute_result"
    }
   ],
   "source": [
    "len([a for i,a in enumerate(Score0_N) if Score0_N[i] > Score1_N[i]]) / len(Score0_N)"
   ]
  },
  {
   "cell_type": "markdown",
   "id": "ac81eb5e",
   "metadata": {},
   "source": [
    "# Concat"
   ]
  },
  {
   "cell_type": "code",
   "execution_count": 35,
   "id": "afd8c990",
   "metadata": {},
   "outputs": [
    {
     "data": {
      "text/plain": [
       "(753603, 753603)"
      ]
     },
     "execution_count": 35,
     "metadata": {},
     "output_type": "execute_result"
    }
   ],
   "source": [
    "len(query), len(NSF_es)"
   ]
  },
  {
   "cell_type": "code",
   "execution_count": 36,
   "id": "bbdce235",
   "metadata": {},
   "outputs": [],
   "source": [
    "# cnt = 0\n",
    "# test_pos = []\n",
    "# test_score0 = []\n",
    "# test_score1 = []\n",
    "# for i,x in enumerate(Score0_N):\n",
    "#     if Score0_N[i] < 1.959964 and Score0_N[i] - Score1_N[i] > 0.84:\n",
    "#         test_pos.append(Pos_N[i])\n",
    "#         test_score0.append(Score0_N[i])\n",
    "#         test_score1.append(Score1_N[i])\n",
    "#         if len(test_pos) > 20:\n",
    "#             break"
   ]
  },
  {
   "cell_type": "code",
   "execution_count": 37,
   "id": "be9f2a73",
   "metadata": {},
   "outputs": [],
   "source": [
    "# test_score0, test_score1"
   ]
  },
  {
   "cell_type": "code",
   "execution_count": 38,
   "id": "3b29705a",
   "metadata": {},
   "outputs": [],
   "source": [
    "# for x,i in enumerate(test_pos):\n",
    "#     print(x,query[i])"
   ]
  },
  {
   "cell_type": "code",
   "execution_count": 39,
   "id": "50076fd4",
   "metadata": {},
   "outputs": [],
   "source": [
    "# for x,i in enumerate(test_pos):\n",
    "#     print(x,NSF_es[i])"
   ]
  },
  {
   "cell_type": "code",
   "execution_count": 40,
   "id": "06481907",
   "metadata": {},
   "outputs": [],
   "source": [
    "# len([a for i,a in enumerate(Score0_N) if Score0_N[i] -Score1_N[i] > 0.5]) / len(Score0_N)"
   ]
  },
  {
   "cell_type": "code",
   "execution_count": 41,
   "id": "e9ff6af9",
   "metadata": {},
   "outputs": [
    {
     "name": "stdout",
     "output_type": "stream",
     "text": [
      "CPU times: user 160 ms, sys: 11.2 ms, total: 171 ms\n",
      "Wall time: 169 ms\n"
     ]
    },
    {
     "data": {
      "text/plain": [
       "[3.5010164316597057,\n",
       " 0.5261379974930285,\n",
       " 0.02012818465201771,\n",
       " 1.6631175036048358,\n",
       " 0.1277791783927651,\n",
       " 0.20917036417241275,\n",
       " 0.30094107296915573,\n",
       " 8.651373960647877,\n",
       " 0.1976967258619925,\n",
       " 12.262522401485928]"
      ]
     },
     "execution_count": 41,
     "metadata": {},
     "output_type": "execute_result"
    }
   ],
   "source": [
    "%%time\n",
    "Z_Score_diff = [(Score0_N[i] - Score1_N[i]) for i,_ in enumerate(Score0_N)]\n",
    "Z_Score_diff[-10:]"
   ]
  },
  {
   "cell_type": "code",
   "execution_count": 42,
   "id": "eaa7f03f",
   "metadata": {},
   "outputs": [
    {
     "data": {
      "text/plain": [
       "Text(0, 0.5, 'Density')"
      ]
     },
     "execution_count": 42,
     "metadata": {},
     "output_type": "execute_result"
    },
    {
     "data": {
      "image/png": "[encoded data removed]",
      "text/plain": [
       "<Figure size 432x288 with 1 Axes>"
      ]
     },
     "metadata": {
      "needs_background": "light"
     },
     "output_type": "display_data"
    }
   ],
   "source": [
    "%matplotlib inline\n",
    "import matplotlib as mpl\n",
    "import matplotlib.pyplot as plt\n",
    "fig, ax1 = plt.subplots()\n",
    "(n2, bins2, patches) = ax1.hist(Z_Score_diff, bins=100, density=True, alpha=0.5, range=[0,6])\n",
    "\n",
    "xmin, xmax = 0, 5\n",
    "sel_x = np.linspace(xmin, xmax, 100)\n",
    "# p = norm.pdf(sel_x, sel_mu, sel_std)\n",
    "# ax1.plot(sel_x, p, 'k', linewidth=2)\n",
    "# ax1.axvline(x=1, color='r', linestyle='-')\n",
    "ax1.set_xlabel('Pairwised Z Score difference',fontsize = 12)\n",
    "ax1.set_ylabel('Density',fontsize = 12)"
   ]
  },
  {
   "cell_type": "code",
   "execution_count": 43,
   "id": "7bcbe297",
   "metadata": {},
   "outputs": [
    {
     "data": {
      "text/plain": [
       "100"
      ]
     },
     "execution_count": 43,
     "metadata": {},
     "output_type": "execute_result"
    }
   ],
   "source": [
    "x_bins2 = (bins2[1:] + bins2[:-1])/2\n",
    "len(x_bins2)"
   ]
  },
  {
   "cell_type": "code",
   "execution_count": 44,
   "id": "fe026a28",
   "metadata": {},
   "outputs": [
    {
     "data": {
      "text/plain": [
       "array([1.23, 1.29, 1.35, 1.41, 1.47, 1.53, 1.59, 1.65, 1.71, 1.77, 1.83,\n",
       "       1.89, 1.95, 2.01, 2.07, 2.13, 2.19, 2.25, 2.31, 2.37, 2.43, 2.49,\n",
       "       2.55, 2.61, 2.67, 2.73, 2.79, 2.85, 2.91, 2.97, 3.03, 3.09, 3.15,\n",
       "       3.21, 3.27, 3.33, 3.39, 3.45, 3.51, 3.57, 3.63, 3.69, 3.75, 3.81,\n",
       "       3.87, 3.93, 3.99, 4.05, 4.11, 4.17, 4.23, 4.29, 4.35, 4.41, 4.47,\n",
       "       4.53, 4.59, 4.65, 4.71, 4.77, 4.83, 4.89, 4.95, 5.01, 5.07, 5.13,\n",
       "       5.19, 5.25, 5.31, 5.37, 5.43, 5.49, 5.55, 5.61, 5.67, 5.73, 5.79,\n",
       "       5.85, 5.91, 5.97])"
      ]
     },
     "execution_count": 44,
     "metadata": {},
     "output_type": "execute_result"
    }
   ],
   "source": [
    "x_bins2[20:]"
   ]
  },
  {
   "cell_type": "code",
   "execution_count": 45,
   "id": "e8406c83",
   "metadata": {},
   "outputs": [
    {
     "data": {
      "text/plain": [
       "array([0.21967491, 0.23686397, 0.23688609, 0.24781453, 0.25566797,\n",
       "       0.2584775 , 0.27347646, 0.27803366, 0.2852013 , 0.2974792 ,\n",
       "       0.30132849, 0.30776609, 0.31484525, 0.3081643 , 0.31318607,\n",
       "       0.32185803, 0.32422512, 0.32329598, 0.31763266, 0.32168105,\n",
       "       0.32210138, 0.30705818, 0.31019955, 0.30672634, 0.29219196,\n",
       "       0.28283421, 0.28004679, 0.2601588 , 0.25909693, 0.24812425,\n",
       "       0.2372843 , 0.21713084, 0.208481  , 0.19518547, 0.18788509,\n",
       "       0.17328435, 0.16193558, 0.15063106, 0.13614092, 0.12704864,\n",
       "       0.11870852, 0.11140814, 0.1019619 , 0.09198472, 0.08501618,\n",
       "       0.07417623, 0.06944205, 0.06063735, 0.05541648, 0.04847006,\n",
       "       0.04293948, 0.03875835, 0.03572759, 0.02975456, 0.0277193 ,\n",
       "       0.02342757, 0.02265328, 0.01957828, 0.01778637, 0.01473348,\n",
       "       0.01342826, 0.01057448, 0.00995506, 0.00880469, 0.00847286,\n",
       "       0.00641548, 0.00575181, 0.00453508, 0.00369443, 0.00382717,\n",
       "       0.00342896, 0.00280954, 0.00238921, 0.00223436, 0.00170342,\n",
       "       0.00172554, 0.00106187, 0.00103975, 0.00084065, 0.00090702])"
      ]
     },
     "execution_count": 45,
     "metadata": {},
     "output_type": "execute_result"
    }
   ],
   "source": [
    "n2[20:]"
   ]
  },
  {
   "cell_type": "code",
   "execution_count": 46,
   "id": "e5d1037f",
   "metadata": {},
   "outputs": [],
   "source": [
    "def gaussian(x, a, b, c):\n",
    "    return a*np.exp(-np.power(x - b, 2)/(2*np.power(c, 2)))"
   ]
  },
  {
   "cell_type": "code",
   "execution_count": 48,
   "id": "80fae3b0",
   "metadata": {},
   "outputs": [
    {
     "data": {
      "text/plain": [
       "array([0.33223784, 2.15691179, 1.03182381])"
      ]
     },
     "execution_count": 48,
     "metadata": {},
     "output_type": "execute_result"
    }
   ],
   "source": [
    "from scipy.optimize import curve_fit\n",
    "pars, cov = curve_fit(f=gaussian, xdata=x_bins2[40:], ydata=n2[40:], p0=[1.0, 2.0, 1.0], bounds=(-np.inf, np.inf))\n",
    "pars"
   ]
  },
  {
   "cell_type": "code",
   "execution_count": 49,
   "id": "8b7c8806",
   "metadata": {},
   "outputs": [],
   "source": [
    "pars, cov = curve_fit(f=gaussian, xdata=x_bins2[20:], ydata=n2[20:], p0=[1.0, 2.0, 1.0], bounds=(-np.inf, np.inf))"
   ]
  },
  {
   "cell_type": "code",
   "execution_count": 50,
   "id": "8be6cce4",
   "metadata": {},
   "outputs": [
    {
     "data": {
      "text/plain": [
       "1.6448536269514722"
      ]
     },
     "execution_count": 50,
     "metadata": {},
     "output_type": "execute_result"
    }
   ],
   "source": [
    "import scipy.stats as st\n",
    "st.norm.ppf(.95)"
   ]
  },
  {
   "cell_type": "code",
   "execution_count": 51,
   "id": "88198374",
   "metadata": {},
   "outputs": [
    {
     "data": {
      "text/plain": [
       "-1.6448536269514729"
      ]
     },
     "execution_count": 51,
     "metadata": {},
     "output_type": "execute_result"
    }
   ],
   "source": [
    "st.norm.ppf(.05)"
   ]
  },
  {
   "cell_type": "code",
   "execution_count": 52,
   "id": "5c4024e6",
   "metadata": {},
   "outputs": [
    {
     "data": {
      "text/plain": [
       "0.48841217644268187"
      ]
     },
     "execution_count": 52,
     "metadata": {},
     "output_type": "execute_result"
    }
   ],
   "source": [
    "st.norm.ppf(.05)*pars[2]+pars[1]"
   ]
  },
  {
   "cell_type": "code",
   "execution_count": 53,
   "id": "376840e1",
   "metadata": {},
   "outputs": [],
   "source": [
    "xline = x_bins2[20:]\n",
    "yline = gaussian(xline, pars[0],pars[1],pars[2])"
   ]
  },
  {
   "cell_type": "code",
   "execution_count": 54,
   "id": "8567c3a2",
   "metadata": {},
   "outputs": [],
   "source": [
    "beginxline = x_bins2[0:20]\n",
    "beginyline = gaussian(beginxline, pars[0],pars[1],pars[2])"
   ]
  },
  {
   "cell_type": "code",
   "execution_count": 55,
   "id": "140e3550",
   "metadata": {},
   "outputs": [],
   "source": [
    "# sel_mu, sel_std = pars[1], pars[2]"
   ]
  },
  {
   "cell_type": "code",
   "execution_count": 56,
   "id": "d01489c7",
   "metadata": {},
   "outputs": [
    {
     "data": {
      "text/plain": [
       "1.23"
      ]
     },
     "execution_count": 56,
     "metadata": {},
     "output_type": "execute_result"
    }
   ],
   "source": [
    "x_bins2[20]"
   ]
  },
  {
   "cell_type": "code",
   "execution_count": 57,
   "id": "c6c4dfc0",
   "metadata": {},
   "outputs": [
    {
     "data": {
      "image/png": "[encoded data removed]",
      "text/plain": [
       "<Figure size 576x432 with 1 Axes>"
      ]
     },
     "metadata": {},
     "output_type": "display_data"
    }
   ],
   "source": [
    "%matplotlib inline\n",
    "import matplotlib as mpl\n",
    "import matplotlib.pyplot as plt\n",
    "fig, ax1 = plt.subplots(figsize=(8,6),facecolor='white')\n",
    "(n2, bins2, patches) = ax1.hist(Z_Score_diff, bins=100, density=True, alpha=0.5, range=[0,6])\n",
    "\n",
    "xmin, xmax = 0, 5\n",
    "ax1.plot(beginxline, beginyline, 'r', linewidth=2, linestyle='dotted')\n",
    "ax1.plot(xline, yline, 'r', linewidth=2)\n",
    "# ax1.axvline(x=1.23, color='r', linestyle='-')\n",
    "ax1.set_xlabel('Pairwise Z-score difference',fontsize = 16)\n",
    "ax1.set_ylabel('Density',fontsize = 16)\n",
    "ax1.spines['top'].set_visible(False)\n",
    "ax1.spines['right'].set_visible(False)\n",
    "ax1.tick_params(axis='y', which='major', labelsize=12, direction='in')\n",
    "ax1.tick_params(axis='x', which='major', labelsize=12, direction='in')\n",
    "fig.savefig('./SciNet_NSF_Fig2b.pdf', bbox_inches=\"tight\")"
   ]
  },
  {
   "cell_type": "code",
   "execution_count": 58,
   "id": "18eadf3b",
   "metadata": {},
   "outputs": [],
   "source": [
    "for i,a in enumerate(Score0_N):\n",
    "    if Score0_N[i] == 0.0:\n",
    "        print(i)"
   ]
  },
  {
   "cell_type": "code",
   "execution_count": 59,
   "id": "afc4411b",
   "metadata": {},
   "outputs": [
    {
     "data": {
      "text/plain": [
       "0.5142734683207693"
      ]
     },
     "execution_count": 59,
     "metadata": {},
     "output_type": "execute_result"
    }
   ],
   "source": [
    "len([a for i,a in enumerate(Score0_N) if Score0_N[i] > 1.959964]) / len(Score0_N)"
   ]
  },
  {
   "cell_type": "code",
   "execution_count": 60,
   "id": "904e216d",
   "metadata": {},
   "outputs": [
    {
     "data": {
      "text/plain": [
       "0.24657610592342633"
      ]
     },
     "execution_count": 60,
     "metadata": {},
     "output_type": "execute_result"
    }
   ],
   "source": [
    "len([a for i,a in enumerate(Score0_N) if Score0_N[i] <= 1.959964 and Score0_N[i] -Score1_N[i] > 1.23]) / len(Score0_N)"
   ]
  },
  {
   "cell_type": "code",
   "execution_count": 61,
   "id": "ec62cf7c",
   "metadata": {},
   "outputs": [
    {
     "data": {
      "text/plain": [
       "0.6199023090468299"
      ]
     },
     "execution_count": 61,
     "metadata": {},
     "output_type": "execute_result"
    }
   ],
   "source": [
    "len([a for i,a in enumerate(Score0_N) if Score0_N[i] > 1.64485]) / len(Score0_N)"
   ]
  },
  {
   "cell_type": "code",
   "execution_count": 62,
   "id": "073fe297",
   "metadata": {},
   "outputs": [
    {
     "data": {
      "text/plain": [
       "0.16212292711925808"
      ]
     },
     "execution_count": 62,
     "metadata": {},
     "output_type": "execute_result"
    }
   ],
   "source": [
    "len([a for i,a in enumerate(Score0_N) if Score0_N[i] <= 1.64485 and (Score0_N[i] -Score1_N[i]) > 1.23]) / len(Score0_N)"
   ]
  },
  {
   "cell_type": "code",
   "execution_count": 63,
   "id": "a68ac1b1",
   "metadata": {},
   "outputs": [
    {
     "data": {
      "text/plain": [
       "(2.184316152570536, 1.0310364085532624)"
      ]
     },
     "execution_count": 63,
     "metadata": {},
     "output_type": "execute_result"
    }
   ],
   "source": [
    "pars[1],pars[2]"
   ]
  },
  {
   "cell_type": "code",
   "execution_count": 64,
   "id": "53816e9d",
   "metadata": {},
   "outputs": [
    {
     "data": {
      "text/plain": [
       "(753601, 753601, 753601)"
      ]
     },
     "execution_count": 64,
     "metadata": {},
     "output_type": "execute_result"
    }
   ],
   "source": [
    "len(Score0_N), len(Score1_N), len(Z_Score_diff)"
   ]
  },
  {
   "cell_type": "code",
   "execution_count": 65,
   "id": "a4f42ee0",
   "metadata": {},
   "outputs": [
    {
     "data": {
      "text/plain": [
       "0.05050258347410371"
      ]
     },
     "execution_count": 65,
     "metadata": {},
     "output_type": "execute_result"
    }
   ],
   "source": [
    "st.norm.cdf(-1.64)"
   ]
  },
  {
   "cell_type": "code",
   "execution_count": 66,
   "id": "1672fd48",
   "metadata": {},
   "outputs": [
    {
     "data": {
      "text/plain": [
       "[2.0621890949993484,\n",
       " 2.3147279695518566,\n",
       " 2.3147279695518566,\n",
       " 0.3390881364128814,\n",
       " 2.099066897466991,\n",
       " 1.3839518742481813,\n",
       " 2.286205944355182,\n",
       " 0.3390881364128814,\n",
       " 0.19226701286461834,\n",
       " 2.493700865120453]"
      ]
     },
     "execution_count": 66,
     "metadata": {},
     "output_type": "execute_result"
    }
   ],
   "source": [
    "Z_Score_diff[:10]"
   ]
  },
  {
   "cell_type": "code",
   "execution_count": 68,
   "id": "ff4eb38d",
   "metadata": {},
   "outputs": [],
   "source": [
    "# %%time\n",
    "# Assign_Score = []\n",
    "# for each in tqdm(Z_Score_diff):\n",
    "#     Cur_Score = st.norm.cdf((each-pars[1])/pars[2])\n",
    "#     Assign_Score.append(Cur_Score)\n",
    "# print(len(Assign_Score))\n",
    "# Assign_Score[:10]"
   ]
  },
  {
   "cell_type": "code",
   "execution_count": 69,
   "id": "1afcdf27",
   "metadata": {},
   "outputs": [],
   "source": [
    "# %%time\n",
    "# # Map [0,1] to [1,9].\n",
    "# # And round down.\n",
    "# Diff_Score = []\n",
    "# for each in tqdm(Assign_Score):\n",
    "#     Cur_Score = each * 8 + 1\n",
    "#     Diff_Score.append(int(Cur_Score-0.000001))\n",
    "# print(len(Diff_Score)) "
   ]
  },
  {
   "cell_type": "code",
   "execution_count": 70,
   "id": "9ba45066",
   "metadata": {},
   "outputs": [],
   "source": [
    "# min(Diff_Score), max(Diff_Score)"
   ]
  },
  {
   "cell_type": "code",
   "execution_count": 71,
   "id": "6465751a",
   "metadata": {},
   "outputs": [
    {
     "data": {
      "text/plain": [
       "array(['1611782', '1611782', '1611782', '1611782', '1611782'], dtype='<U7')"
      ]
     },
     "execution_count": 71,
     "metadata": {},
     "output_type": "execute_result"
    }
   ],
   "source": [
    "NSF_Award_Num_List = df_NSF_ES['NSF_Award_Number'].to_numpy(dtype='str')\n",
    "NSF_Award_Num_List[-5:]"
   ]
  },
  {
   "cell_type": "code",
   "execution_count": 72,
   "id": "ba594b39",
   "metadata": {},
   "outputs": [
    {
     "data": {
      "text/plain": [
       "'1611782'"
      ]
     },
     "execution_count": 72,
     "metadata": {},
     "output_type": "execute_result"
    }
   ],
   "source": [
    "NSF_Award_Num_List[-1]"
   ]
  },
  {
   "cell_type": "code",
   "execution_count": 73,
   "id": "7a082fff",
   "metadata": {},
   "outputs": [],
   "source": [
    "# NSF_es[1]"
   ]
  },
  {
   "cell_type": "code",
   "execution_count": 74,
   "id": "9ca0d191",
   "metadata": {},
   "outputs": [
    {
     "data": {
      "text/plain": [
       "2008552697"
      ]
     },
     "execution_count": 74,
     "metadata": {},
     "output_type": "execute_result"
    }
   ],
   "source": [
    "NSF_es[1]['hits']['hits'][0]['_source']['mag']"
   ]
  },
  {
   "cell_type": "code",
   "execution_count": 75,
   "id": "0f623408",
   "metadata": {},
   "outputs": [
    {
     "data": {
      "text/plain": [
       "753603"
      ]
     },
     "execution_count": 75,
     "metadata": {},
     "output_type": "execute_result"
    }
   ],
   "source": [
    "len(query)"
   ]
  },
  {
   "cell_type": "code",
   "execution_count": 77,
   "id": "7ef4f01e",
   "metadata": {},
   "outputs": [
    {
     "data": {
      "text/plain": [
       "(753601, 753601)"
      ]
     },
     "execution_count": 77,
     "metadata": {},
     "output_type": "execute_result"
    }
   ],
   "source": [
    "len(Score0_N), len(Score1_N)"
   ]
  },
  {
   "cell_type": "code",
   "execution_count": 78,
   "id": "00a00e92",
   "metadata": {},
   "outputs": [],
   "source": [
    "# %%time\n",
    "# ES_MAG_NSF_Result_List = []\n",
    "# for i,_ in tqdm(enumerate(Score0_N)):\n",
    "#     Score = 0\n",
    "#     if Score0_N[i] > 1.64485:\n",
    "#         Score = 9\n",
    "#     elif Score0_N[i] <= 1.64485 and Diff_Score[i] > 1.23:\n",
    "#         Score = Diff_Score[i]\n",
    "#     else:\n",
    "#         Score = 0\n",
    "        \n",
    "#     try:\n",
    "#         NSF_Award_Num = NSF_Award_Num_List[Pos_N[i]]\n",
    "#         MAG_ID = NSF_es[Pos_N[i]]['hits']['hits'][0]['_source']['mag']\n",
    "#     except:\n",
    "#         print(Pos_N[i])\n",
    "#         continue\n",
    "    \n",
    "#     ES_MAG_NSF_Result_List.append([MAG_ID, NSF_Award_Num, Score])"
   ]
  },
  {
   "cell_type": "code",
   "execution_count": 79,
   "id": "30989a85",
   "metadata": {},
   "outputs": [],
   "source": [
    "# %%time\n",
    "# df_MAG_NSF1 = pd.DataFrame(ES_MAG_NSF_Result_List)\n",
    "# df_MAG_NSF1"
   ]
  },
  {
   "cell_type": "code",
   "execution_count": 80,
   "id": "3c77ccee",
   "metadata": {},
   "outputs": [],
   "source": [
    "# df_MAG_NSF1.rename(columns={0:'PaperID',1:'NSF_Award_Number',2:'Score'}, inplace=True)\n",
    "# df_MAG_NSF1"
   ]
  },
  {
   "cell_type": "code",
   "execution_count": 81,
   "id": "74980e9a",
   "metadata": {},
   "outputs": [],
   "source": [
    "# len(df_MAG_NSF1.loc[df_MAG_NSF1['Score'] == 0, :]) / len(df_MAG_NSF1)"
   ]
  },
  {
   "cell_type": "code",
   "execution_count": 82,
   "id": "f8ae74ba",
   "metadata": {},
   "outputs": [],
   "source": [
    "# len(df_MAG_NSF1.loc[df_MAG_NSF1['Score'] == 9, :]) / len(df_MAG_NSF1)"
   ]
  },
  {
   "cell_type": "code",
   "execution_count": 83,
   "id": "3f284361",
   "metadata": {},
   "outputs": [],
   "source": [
    "# df_MAG_NSF1['Score'].hist(bins=10)"
   ]
  },
  {
   "cell_type": "code",
   "execution_count": 84,
   "id": "f484693b",
   "metadata": {},
   "outputs": [],
   "source": [
    "# len(df_MAG_NSF1.loc[df_MAG_NSF1['Score'] == 9, :])"
   ]
  },
  {
   "cell_type": "code",
   "execution_count": 85,
   "id": "f6dfcfa9",
   "metadata": {},
   "outputs": [],
   "source": [
    "# df_MAG_NSF1.to_csv('Not_Drop_Duplicates_Link_MAG_NSF_ES.tsv', sep='\\t', index=False)"
   ]
  },
  {
   "cell_type": "code",
   "execution_count": 86,
   "id": "27a70870",
   "metadata": {},
   "outputs": [
    {
     "data": {
      "text/plain": [
       "(753601, 753601)"
      ]
     },
     "execution_count": 86,
     "metadata": {},
     "output_type": "execute_result"
    }
   ],
   "source": [
    "len(Z_Score_diff), len(Score0_N)"
   ]
  },
  {
   "cell_type": "code",
   "execution_count": 88,
   "id": "90e1c993",
   "metadata": {},
   "outputs": [
    {
     "data": {
      "text/plain": [
       "12.262522401485928"
      ]
     },
     "execution_count": 88,
     "metadata": {},
     "output_type": "execute_result"
    }
   ],
   "source": [
    "max(Z_Score_diff)"
   ]
  },
  {
   "cell_type": "code",
   "execution_count": 89,
   "id": "951cd278",
   "metadata": {},
   "outputs": [
    {
     "name": "stderr",
     "output_type": "stream",
     "text": [
      "753601it [00:06, 110570.08it/s]"
     ]
    },
    {
     "name": "stdout",
     "output_type": "stream",
     "text": [
      "CPU times: user 5.98 s, sys: 875 ms, total: 6.86 s\n",
      "Wall time: 6.82 s\n"
     ]
    },
    {
     "name": "stderr",
     "output_type": "stream",
     "text": [
      "\n"
     ]
    }
   ],
   "source": [
    "%%time\n",
    "ES_MAG_NSF_DiffZ_Result_List = []\n",
    "for i,_ in tqdm(enumerate(Score0_N)):\n",
    "    Score = 0\n",
    "    if Score0_N[i] > 1.64485:\n",
    "        Score = 90\n",
    "    else:\n",
    "        Score = Z_Score_diff[i]\n",
    "    try:\n",
    "        NSF_Award_Num = NSF_Award_Num_List[Pos_N[i]]\n",
    "        MAG_ID = NSF_es[Pos_N[i]]['hits']['hits'][0]['_source']['mag']\n",
    "    except:\n",
    "        print(Pos_N[i])\n",
    "        continue\n",
    "    \n",
    "    ES_MAG_NSF_DiffZ_Result_List.append([MAG_ID, NSF_Award_Num, Score])"
   ]
  },
  {
   "cell_type": "code",
   "execution_count": 90,
   "id": "7df990d4",
   "metadata": {},
   "outputs": [
    {
     "name": "stdout",
     "output_type": "stream",
     "text": [
      "CPU times: user 751 ms, sys: 20 ms, total: 771 ms\n",
      "Wall time: 765 ms\n"
     ]
    },
    {
     "data": {
      "text/html": [
       "<div>\n",
       "<style scoped>\n",
       "    .dataframe tbody tr th:only-of-type {\n",
       "        vertical-align: middle;\n",
       "    }\n",
       "\n",
       "    .dataframe tbody tr th {\n",
       "        vertical-align: top;\n",
       "    }\n",
       "\n",
       "    .dataframe thead th {\n",
       "        text-align: right;\n",
       "    }\n",
       "</style>\n",
       "<table border=\"1\" class=\"dataframe\">\n",
       "  <thead>\n",
       "    <tr style=\"text-align: right;\">\n",
       "      <th></th>\n",
       "      <th>0</th>\n",
       "      <th>1</th>\n",
       "      <th>2</th>\n",
       "    </tr>\n",
       "  </thead>\n",
       "  <tbody>\n",
       "    <tr>\n",
       "      <th>0</th>\n",
       "      <td>2124190584</td>\n",
       "      <td>0440577</td>\n",
       "      <td>90.000000</td>\n",
       "    </tr>\n",
       "    <tr>\n",
       "      <th>1</th>\n",
       "      <td>2887751497</td>\n",
       "      <td>1821736</td>\n",
       "      <td>90.000000</td>\n",
       "    </tr>\n",
       "    <tr>\n",
       "      <th>2</th>\n",
       "      <td>2887751497</td>\n",
       "      <td>1821736</td>\n",
       "      <td>90.000000</td>\n",
       "    </tr>\n",
       "    <tr>\n",
       "      <th>3</th>\n",
       "      <td>2950944036</td>\n",
       "      <td>1218454</td>\n",
       "      <td>0.339088</td>\n",
       "    </tr>\n",
       "    <tr>\n",
       "      <th>4</th>\n",
       "      <td>3122932617</td>\n",
       "      <td>1218454</td>\n",
       "      <td>90.000000</td>\n",
       "    </tr>\n",
       "    <tr>\n",
       "      <th>...</th>\n",
       "      <td>...</td>\n",
       "      <td>...</td>\n",
       "      <td>...</td>\n",
       "    </tr>\n",
       "    <tr>\n",
       "      <th>753596</th>\n",
       "      <td>2613895878</td>\n",
       "      <td>1014908</td>\n",
       "      <td>0.209170</td>\n",
       "    </tr>\n",
       "    <tr>\n",
       "      <th>753597</th>\n",
       "      <td>27898816</td>\n",
       "      <td>0631175</td>\n",
       "      <td>0.300941</td>\n",
       "    </tr>\n",
       "    <tr>\n",
       "      <th>753598</th>\n",
       "      <td>2326130179</td>\n",
       "      <td>1200947</td>\n",
       "      <td>90.000000</td>\n",
       "    </tr>\n",
       "    <tr>\n",
       "      <th>753599</th>\n",
       "      <td>2601402825</td>\n",
       "      <td>1316908</td>\n",
       "      <td>0.197697</td>\n",
       "    </tr>\n",
       "    <tr>\n",
       "      <th>753600</th>\n",
       "      <td>1982190700</td>\n",
       "      <td>0911886</td>\n",
       "      <td>90.000000</td>\n",
       "    </tr>\n",
       "  </tbody>\n",
       "</table>\n",
       "<p>753601 rows × 3 columns</p>\n",
       "</div>"
      ],
      "text/plain": [
       "                 0        1          2\n",
       "0       2124190584  0440577  90.000000\n",
       "1       2887751497  1821736  90.000000\n",
       "2       2887751497  1821736  90.000000\n",
       "3       2950944036  1218454   0.339088\n",
       "4       3122932617  1218454  90.000000\n",
       "...            ...      ...        ...\n",
       "753596  2613895878  1014908   0.209170\n",
       "753597    27898816  0631175   0.300941\n",
       "753598  2326130179  1200947  90.000000\n",
       "753599  2601402825  1316908   0.197697\n",
       "753600  1982190700  0911886  90.000000\n",
       "\n",
       "[753601 rows x 3 columns]"
      ]
     },
     "execution_count": 90,
     "metadata": {},
     "output_type": "execute_result"
    }
   ],
   "source": [
    "%%time\n",
    "df_MAG_NSF1_DiffZ = pd.DataFrame(ES_MAG_NSF_DiffZ_Result_List)\n",
    "df_MAG_NSF1_DiffZ"
   ]
  },
  {
   "cell_type": "code",
   "execution_count": 91,
   "id": "854a611a",
   "metadata": {},
   "outputs": [],
   "source": [
    "def assign_type(x):\n",
    "    if x == 90.0:\n",
    "        return 'First'\n",
    "    else:\n",
    "        return 'Second'"
   ]
  },
  {
   "cell_type": "code",
   "execution_count": 92,
   "id": "6b7d6c92",
   "metadata": {},
   "outputs": [
    {
     "data": {
      "text/html": [
       "<div>\n",
       "<style scoped>\n",
       "    .dataframe tbody tr th:only-of-type {\n",
       "        vertical-align: middle;\n",
       "    }\n",
       "\n",
       "    .dataframe tbody tr th {\n",
       "        vertical-align: top;\n",
       "    }\n",
       "\n",
       "    .dataframe thead th {\n",
       "        text-align: right;\n",
       "    }\n",
       "</style>\n",
       "<table border=\"1\" class=\"dataframe\">\n",
       "  <thead>\n",
       "    <tr style=\"text-align: right;\">\n",
       "      <th></th>\n",
       "      <th>0</th>\n",
       "      <th>1</th>\n",
       "      <th>2</th>\n",
       "      <th>Type</th>\n",
       "    </tr>\n",
       "  </thead>\n",
       "  <tbody>\n",
       "    <tr>\n",
       "      <th>0</th>\n",
       "      <td>2124190584</td>\n",
       "      <td>0440577</td>\n",
       "      <td>90.000000</td>\n",
       "      <td>First</td>\n",
       "    </tr>\n",
       "    <tr>\n",
       "      <th>1</th>\n",
       "      <td>2887751497</td>\n",
       "      <td>1821736</td>\n",
       "      <td>90.000000</td>\n",
       "      <td>First</td>\n",
       "    </tr>\n",
       "    <tr>\n",
       "      <th>2</th>\n",
       "      <td>2887751497</td>\n",
       "      <td>1821736</td>\n",
       "      <td>90.000000</td>\n",
       "      <td>First</td>\n",
       "    </tr>\n",
       "    <tr>\n",
       "      <th>3</th>\n",
       "      <td>2950944036</td>\n",
       "      <td>1218454</td>\n",
       "      <td>0.339088</td>\n",
       "      <td>Second</td>\n",
       "    </tr>\n",
       "    <tr>\n",
       "      <th>4</th>\n",
       "      <td>3122932617</td>\n",
       "      <td>1218454</td>\n",
       "      <td>90.000000</td>\n",
       "      <td>First</td>\n",
       "    </tr>\n",
       "    <tr>\n",
       "      <th>...</th>\n",
       "      <td>...</td>\n",
       "      <td>...</td>\n",
       "      <td>...</td>\n",
       "      <td>...</td>\n",
       "    </tr>\n",
       "    <tr>\n",
       "      <th>753596</th>\n",
       "      <td>2613895878</td>\n",
       "      <td>1014908</td>\n",
       "      <td>0.209170</td>\n",
       "      <td>Second</td>\n",
       "    </tr>\n",
       "    <tr>\n",
       "      <th>753597</th>\n",
       "      <td>27898816</td>\n",
       "      <td>0631175</td>\n",
       "      <td>0.300941</td>\n",
       "      <td>Second</td>\n",
       "    </tr>\n",
       "    <tr>\n",
       "      <th>753598</th>\n",
       "      <td>2326130179</td>\n",
       "      <td>1200947</td>\n",
       "      <td>90.000000</td>\n",
       "      <td>First</td>\n",
       "    </tr>\n",
       "    <tr>\n",
       "      <th>753599</th>\n",
       "      <td>2601402825</td>\n",
       "      <td>1316908</td>\n",
       "      <td>0.197697</td>\n",
       "      <td>Second</td>\n",
       "    </tr>\n",
       "    <tr>\n",
       "      <th>753600</th>\n",
       "      <td>1982190700</td>\n",
       "      <td>0911886</td>\n",
       "      <td>90.000000</td>\n",
       "      <td>First</td>\n",
       "    </tr>\n",
       "  </tbody>\n",
       "</table>\n",
       "<p>753601 rows × 4 columns</p>\n",
       "</div>"
      ],
      "text/plain": [
       "                 0        1          2    Type\n",
       "0       2124190584  0440577  90.000000   First\n",
       "1       2887751497  1821736  90.000000   First\n",
       "2       2887751497  1821736  90.000000   First\n",
       "3       2950944036  1218454   0.339088  Second\n",
       "4       3122932617  1218454  90.000000   First\n",
       "...            ...      ...        ...     ...\n",
       "753596  2613895878  1014908   0.209170  Second\n",
       "753597    27898816  0631175   0.300941  Second\n",
       "753598  2326130179  1200947  90.000000   First\n",
       "753599  2601402825  1316908   0.197697  Second\n",
       "753600  1982190700  0911886  90.000000   First\n",
       "\n",
       "[753601 rows x 4 columns]"
      ]
     },
     "execution_count": 92,
     "metadata": {},
     "output_type": "execute_result"
    }
   ],
   "source": [
    "df_MAG_NSF1_DiffZ['Type'] = df_MAG_NSF1_DiffZ[2].apply(assign_type)\n",
    "df_MAG_NSF1_DiffZ"
   ]
  },
  {
   "cell_type": "code",
   "execution_count": 93,
   "id": "119f36b9",
   "metadata": {},
   "outputs": [
    {
     "name": "stdout",
     "output_type": "stream",
     "text": [
      "CPU times: user 14.9 ms, sys: 1.05 ms, total: 15.9 ms\n",
      "Wall time: 14.7 ms\n"
     ]
    },
    {
     "data": {
      "text/html": [
       "<div>\n",
       "<style scoped>\n",
       "    .dataframe tbody tr th:only-of-type {\n",
       "        vertical-align: middle;\n",
       "    }\n",
       "\n",
       "    .dataframe tbody tr th {\n",
       "        vertical-align: top;\n",
       "    }\n",
       "\n",
       "    .dataframe thead th {\n",
       "        text-align: right;\n",
       "    }\n",
       "</style>\n",
       "<table border=\"1\" class=\"dataframe\">\n",
       "  <thead>\n",
       "    <tr style=\"text-align: right;\">\n",
       "      <th></th>\n",
       "      <th>0</th>\n",
       "      <th>1</th>\n",
       "      <th>2</th>\n",
       "      <th>Type</th>\n",
       "    </tr>\n",
       "  </thead>\n",
       "  <tbody>\n",
       "    <tr>\n",
       "      <th>0</th>\n",
       "      <td>2124190584</td>\n",
       "      <td>0440577</td>\n",
       "      <td>NaN</td>\n",
       "      <td>First</td>\n",
       "    </tr>\n",
       "    <tr>\n",
       "      <th>1</th>\n",
       "      <td>2887751497</td>\n",
       "      <td>1821736</td>\n",
       "      <td>NaN</td>\n",
       "      <td>First</td>\n",
       "    </tr>\n",
       "    <tr>\n",
       "      <th>2</th>\n",
       "      <td>2887751497</td>\n",
       "      <td>1821736</td>\n",
       "      <td>NaN</td>\n",
       "      <td>First</td>\n",
       "    </tr>\n",
       "    <tr>\n",
       "      <th>3</th>\n",
       "      <td>2950944036</td>\n",
       "      <td>1218454</td>\n",
       "      <td>0.339088</td>\n",
       "      <td>Second</td>\n",
       "    </tr>\n",
       "    <tr>\n",
       "      <th>4</th>\n",
       "      <td>3122932617</td>\n",
       "      <td>1218454</td>\n",
       "      <td>NaN</td>\n",
       "      <td>First</td>\n",
       "    </tr>\n",
       "    <tr>\n",
       "      <th>...</th>\n",
       "      <td>...</td>\n",
       "      <td>...</td>\n",
       "      <td>...</td>\n",
       "      <td>...</td>\n",
       "    </tr>\n",
       "    <tr>\n",
       "      <th>753596</th>\n",
       "      <td>2613895878</td>\n",
       "      <td>1014908</td>\n",
       "      <td>0.209170</td>\n",
       "      <td>Second</td>\n",
       "    </tr>\n",
       "    <tr>\n",
       "      <th>753597</th>\n",
       "      <td>27898816</td>\n",
       "      <td>0631175</td>\n",
       "      <td>0.300941</td>\n",
       "      <td>Second</td>\n",
       "    </tr>\n",
       "    <tr>\n",
       "      <th>753598</th>\n",
       "      <td>2326130179</td>\n",
       "      <td>1200947</td>\n",
       "      <td>NaN</td>\n",
       "      <td>First</td>\n",
       "    </tr>\n",
       "    <tr>\n",
       "      <th>753599</th>\n",
       "      <td>2601402825</td>\n",
       "      <td>1316908</td>\n",
       "      <td>0.197697</td>\n",
       "      <td>Second</td>\n",
       "    </tr>\n",
       "    <tr>\n",
       "      <th>753600</th>\n",
       "      <td>1982190700</td>\n",
       "      <td>0911886</td>\n",
       "      <td>NaN</td>\n",
       "      <td>First</td>\n",
       "    </tr>\n",
       "  </tbody>\n",
       "</table>\n",
       "<p>753601 rows × 4 columns</p>\n",
       "</div>"
      ],
      "text/plain": [
       "                 0        1         2    Type\n",
       "0       2124190584  0440577       NaN   First\n",
       "1       2887751497  1821736       NaN   First\n",
       "2       2887751497  1821736       NaN   First\n",
       "3       2950944036  1218454  0.339088  Second\n",
       "4       3122932617  1218454       NaN   First\n",
       "...            ...      ...       ...     ...\n",
       "753596  2613895878  1014908  0.209170  Second\n",
       "753597    27898816  0631175  0.300941  Second\n",
       "753598  2326130179  1200947       NaN   First\n",
       "753599  2601402825  1316908  0.197697  Second\n",
       "753600  1982190700  0911886       NaN   First\n",
       "\n",
       "[753601 rows x 4 columns]"
      ]
     },
     "execution_count": 93,
     "metadata": {},
     "output_type": "execute_result"
    }
   ],
   "source": [
    "%%time\n",
    "df_MAG_NSF1_DiffZ.loc[df_MAG_NSF1_DiffZ[2] == 90.0, 2] = np.nan\n",
    "df_MAG_NSF1_DiffZ"
   ]
  },
  {
   "cell_type": "code",
   "execution_count": 94,
   "id": "6f1b7b86",
   "metadata": {},
   "outputs": [
    {
     "data": {
      "text/html": [
       "<div>\n",
       "<style scoped>\n",
       "    .dataframe tbody tr th:only-of-type {\n",
       "        vertical-align: middle;\n",
       "    }\n",
       "\n",
       "    .dataframe tbody tr th {\n",
       "        vertical-align: top;\n",
       "    }\n",
       "\n",
       "    .dataframe thead th {\n",
       "        text-align: right;\n",
       "    }\n",
       "</style>\n",
       "<table border=\"1\" class=\"dataframe\">\n",
       "  <thead>\n",
       "    <tr style=\"text-align: right;\">\n",
       "      <th></th>\n",
       "      <th>0</th>\n",
       "      <th>1</th>\n",
       "      <th>2</th>\n",
       "      <th>Type</th>\n",
       "    </tr>\n",
       "  </thead>\n",
       "  <tbody>\n",
       "    <tr>\n",
       "      <th>0</th>\n",
       "      <td>2124190584</td>\n",
       "      <td>0440577</td>\n",
       "      <td>NaN</td>\n",
       "      <td>First</td>\n",
       "    </tr>\n",
       "    <tr>\n",
       "      <th>1</th>\n",
       "      <td>2887751497</td>\n",
       "      <td>1821736</td>\n",
       "      <td>NaN</td>\n",
       "      <td>First</td>\n",
       "    </tr>\n",
       "    <tr>\n",
       "      <th>2</th>\n",
       "      <td>2887751497</td>\n",
       "      <td>1821736</td>\n",
       "      <td>NaN</td>\n",
       "      <td>First</td>\n",
       "    </tr>\n",
       "    <tr>\n",
       "      <th>4</th>\n",
       "      <td>3122932617</td>\n",
       "      <td>1218454</td>\n",
       "      <td>NaN</td>\n",
       "      <td>First</td>\n",
       "    </tr>\n",
       "    <tr>\n",
       "      <th>6</th>\n",
       "      <td>3122932617</td>\n",
       "      <td>1218454</td>\n",
       "      <td>NaN</td>\n",
       "      <td>First</td>\n",
       "    </tr>\n",
       "    <tr>\n",
       "      <th>...</th>\n",
       "      <td>...</td>\n",
       "      <td>...</td>\n",
       "      <td>...</td>\n",
       "      <td>...</td>\n",
       "    </tr>\n",
       "    <tr>\n",
       "      <th>753590</th>\n",
       "      <td>2901078652</td>\n",
       "      <td>1450917</td>\n",
       "      <td>NaN</td>\n",
       "      <td>First</td>\n",
       "    </tr>\n",
       "    <tr>\n",
       "      <th>753591</th>\n",
       "      <td>2344376072</td>\n",
       "      <td>1136451</td>\n",
       "      <td>NaN</td>\n",
       "      <td>First</td>\n",
       "    </tr>\n",
       "    <tr>\n",
       "      <th>753594</th>\n",
       "      <td>2176830675</td>\n",
       "      <td>1444127</td>\n",
       "      <td>NaN</td>\n",
       "      <td>First</td>\n",
       "    </tr>\n",
       "    <tr>\n",
       "      <th>753598</th>\n",
       "      <td>2326130179</td>\n",
       "      <td>1200947</td>\n",
       "      <td>NaN</td>\n",
       "      <td>First</td>\n",
       "    </tr>\n",
       "    <tr>\n",
       "      <th>753600</th>\n",
       "      <td>1982190700</td>\n",
       "      <td>0911886</td>\n",
       "      <td>NaN</td>\n",
       "      <td>First</td>\n",
       "    </tr>\n",
       "  </tbody>\n",
       "</table>\n",
       "<p>467159 rows × 4 columns</p>\n",
       "</div>"
      ],
      "text/plain": [
       "                 0        1   2   Type\n",
       "0       2124190584  0440577 NaN  First\n",
       "1       2887751497  1821736 NaN  First\n",
       "2       2887751497  1821736 NaN  First\n",
       "4       3122932617  1218454 NaN  First\n",
       "6       3122932617  1218454 NaN  First\n",
       "...            ...      ...  ..    ...\n",
       "753590  2901078652  1450917 NaN  First\n",
       "753591  2344376072  1136451 NaN  First\n",
       "753594  2176830675  1444127 NaN  First\n",
       "753598  2326130179  1200947 NaN  First\n",
       "753600  1982190700  0911886 NaN  First\n",
       "\n",
       "[467159 rows x 4 columns]"
      ]
     },
     "execution_count": 94,
     "metadata": {},
     "output_type": "execute_result"
    }
   ],
   "source": [
    "df_MAG_NSF1_DiffZ[pd.isnull(df_MAG_NSF1_DiffZ[2])]"
   ]
  },
  {
   "cell_type": "code",
   "execution_count": 95,
   "id": "1119d54f",
   "metadata": {},
   "outputs": [
    {
     "data": {
      "text/html": [
       "<div>\n",
       "<style scoped>\n",
       "    .dataframe tbody tr th:only-of-type {\n",
       "        vertical-align: middle;\n",
       "    }\n",
       "\n",
       "    .dataframe tbody tr th {\n",
       "        vertical-align: top;\n",
       "    }\n",
       "\n",
       "    .dataframe thead th {\n",
       "        text-align: right;\n",
       "    }\n",
       "</style>\n",
       "<table border=\"1\" class=\"dataframe\">\n",
       "  <thead>\n",
       "    <tr style=\"text-align: right;\">\n",
       "      <th></th>\n",
       "      <th>0</th>\n",
       "      <th>1</th>\n",
       "      <th>2</th>\n",
       "      <th>Type</th>\n",
       "    </tr>\n",
       "  </thead>\n",
       "  <tbody>\n",
       "    <tr>\n",
       "      <th>0</th>\n",
       "      <td>2124190584</td>\n",
       "      <td>0440577</td>\n",
       "      <td>NaN</td>\n",
       "      <td>First</td>\n",
       "    </tr>\n",
       "    <tr>\n",
       "      <th>1</th>\n",
       "      <td>2887751497</td>\n",
       "      <td>1821736</td>\n",
       "      <td>NaN</td>\n",
       "      <td>First</td>\n",
       "    </tr>\n",
       "    <tr>\n",
       "      <th>2</th>\n",
       "      <td>2887751497</td>\n",
       "      <td>1821736</td>\n",
       "      <td>NaN</td>\n",
       "      <td>First</td>\n",
       "    </tr>\n",
       "    <tr>\n",
       "      <th>4</th>\n",
       "      <td>3122932617</td>\n",
       "      <td>1218454</td>\n",
       "      <td>NaN</td>\n",
       "      <td>First</td>\n",
       "    </tr>\n",
       "    <tr>\n",
       "      <th>6</th>\n",
       "      <td>3122932617</td>\n",
       "      <td>1218454</td>\n",
       "      <td>NaN</td>\n",
       "      <td>First</td>\n",
       "    </tr>\n",
       "    <tr>\n",
       "      <th>...</th>\n",
       "      <td>...</td>\n",
       "      <td>...</td>\n",
       "      <td>...</td>\n",
       "      <td>...</td>\n",
       "    </tr>\n",
       "    <tr>\n",
       "      <th>753590</th>\n",
       "      <td>2901078652</td>\n",
       "      <td>1450917</td>\n",
       "      <td>NaN</td>\n",
       "      <td>First</td>\n",
       "    </tr>\n",
       "    <tr>\n",
       "      <th>753591</th>\n",
       "      <td>2344376072</td>\n",
       "      <td>1136451</td>\n",
       "      <td>NaN</td>\n",
       "      <td>First</td>\n",
       "    </tr>\n",
       "    <tr>\n",
       "      <th>753594</th>\n",
       "      <td>2176830675</td>\n",
       "      <td>1444127</td>\n",
       "      <td>NaN</td>\n",
       "      <td>First</td>\n",
       "    </tr>\n",
       "    <tr>\n",
       "      <th>753598</th>\n",
       "      <td>2326130179</td>\n",
       "      <td>1200947</td>\n",
       "      <td>NaN</td>\n",
       "      <td>First</td>\n",
       "    </tr>\n",
       "    <tr>\n",
       "      <th>753600</th>\n",
       "      <td>1982190700</td>\n",
       "      <td>0911886</td>\n",
       "      <td>NaN</td>\n",
       "      <td>First</td>\n",
       "    </tr>\n",
       "  </tbody>\n",
       "</table>\n",
       "<p>467159 rows × 4 columns</p>\n",
       "</div>"
      ],
      "text/plain": [
       "                 0        1   2   Type\n",
       "0       2124190584  0440577 NaN  First\n",
       "1       2887751497  1821736 NaN  First\n",
       "2       2887751497  1821736 NaN  First\n",
       "4       3122932617  1218454 NaN  First\n",
       "6       3122932617  1218454 NaN  First\n",
       "...            ...      ...  ..    ...\n",
       "753590  2901078652  1450917 NaN  First\n",
       "753591  2344376072  1136451 NaN  First\n",
       "753594  2176830675  1444127 NaN  First\n",
       "753598  2326130179  1200947 NaN  First\n",
       "753600  1982190700  0911886 NaN  First\n",
       "\n",
       "[467159 rows x 4 columns]"
      ]
     },
     "execution_count": 95,
     "metadata": {},
     "output_type": "execute_result"
    }
   ],
   "source": [
    "df_MAG_NSF1_DiffZ[df_MAG_NSF1_DiffZ['Type']=='First']"
   ]
  },
  {
   "cell_type": "code",
   "execution_count": 96,
   "id": "51bc163f",
   "metadata": {},
   "outputs": [
    {
     "data": {
      "text/html": [
       "<div>\n",
       "<style scoped>\n",
       "    .dataframe tbody tr th:only-of-type {\n",
       "        vertical-align: middle;\n",
       "    }\n",
       "\n",
       "    .dataframe tbody tr th {\n",
       "        vertical-align: top;\n",
       "    }\n",
       "\n",
       "    .dataframe thead th {\n",
       "        text-align: right;\n",
       "    }\n",
       "</style>\n",
       "<table border=\"1\" class=\"dataframe\">\n",
       "  <thead>\n",
       "    <tr style=\"text-align: right;\">\n",
       "      <th></th>\n",
       "      <th>PaperID</th>\n",
       "      <th>NSF_Award_Number</th>\n",
       "      <th>Diff_ZScore</th>\n",
       "      <th>Type</th>\n",
       "    </tr>\n",
       "  </thead>\n",
       "  <tbody>\n",
       "    <tr>\n",
       "      <th>0</th>\n",
       "      <td>2124190584</td>\n",
       "      <td>0440577</td>\n",
       "      <td>NaN</td>\n",
       "      <td>First</td>\n",
       "    </tr>\n",
       "    <tr>\n",
       "      <th>1</th>\n",
       "      <td>2887751497</td>\n",
       "      <td>1821736</td>\n",
       "      <td>NaN</td>\n",
       "      <td>First</td>\n",
       "    </tr>\n",
       "    <tr>\n",
       "      <th>2</th>\n",
       "      <td>2887751497</td>\n",
       "      <td>1821736</td>\n",
       "      <td>NaN</td>\n",
       "      <td>First</td>\n",
       "    </tr>\n",
       "    <tr>\n",
       "      <th>3</th>\n",
       "      <td>2950944036</td>\n",
       "      <td>1218454</td>\n",
       "      <td>0.339088</td>\n",
       "      <td>Second</td>\n",
       "    </tr>\n",
       "    <tr>\n",
       "      <th>4</th>\n",
       "      <td>3122932617</td>\n",
       "      <td>1218454</td>\n",
       "      <td>NaN</td>\n",
       "      <td>First</td>\n",
       "    </tr>\n",
       "    <tr>\n",
       "      <th>...</th>\n",
       "      <td>...</td>\n",
       "      <td>...</td>\n",
       "      <td>...</td>\n",
       "      <td>...</td>\n",
       "    </tr>\n",
       "    <tr>\n",
       "      <th>753596</th>\n",
       "      <td>2613895878</td>\n",
       "      <td>1014908</td>\n",
       "      <td>0.209170</td>\n",
       "      <td>Second</td>\n",
       "    </tr>\n",
       "    <tr>\n",
       "      <th>753597</th>\n",
       "      <td>27898816</td>\n",
       "      <td>0631175</td>\n",
       "      <td>0.300941</td>\n",
       "      <td>Second</td>\n",
       "    </tr>\n",
       "    <tr>\n",
       "      <th>753598</th>\n",
       "      <td>2326130179</td>\n",
       "      <td>1200947</td>\n",
       "      <td>NaN</td>\n",
       "      <td>First</td>\n",
       "    </tr>\n",
       "    <tr>\n",
       "      <th>753599</th>\n",
       "      <td>2601402825</td>\n",
       "      <td>1316908</td>\n",
       "      <td>0.197697</td>\n",
       "      <td>Second</td>\n",
       "    </tr>\n",
       "    <tr>\n",
       "      <th>753600</th>\n",
       "      <td>1982190700</td>\n",
       "      <td>0911886</td>\n",
       "      <td>NaN</td>\n",
       "      <td>First</td>\n",
       "    </tr>\n",
       "  </tbody>\n",
       "</table>\n",
       "<p>753601 rows × 4 columns</p>\n",
       "</div>"
      ],
      "text/plain": [
       "           PaperID NSF_Award_Number  Diff_ZScore    Type\n",
       "0       2124190584          0440577          NaN   First\n",
       "1       2887751497          1821736          NaN   First\n",
       "2       2887751497          1821736          NaN   First\n",
       "3       2950944036          1218454     0.339088  Second\n",
       "4       3122932617          1218454          NaN   First\n",
       "...            ...              ...          ...     ...\n",
       "753596  2613895878          1014908     0.209170  Second\n",
       "753597    27898816          0631175     0.300941  Second\n",
       "753598  2326130179          1200947          NaN   First\n",
       "753599  2601402825          1316908     0.197697  Second\n",
       "753600  1982190700          0911886          NaN   First\n",
       "\n",
       "[753601 rows x 4 columns]"
      ]
     },
     "execution_count": 96,
     "metadata": {},
     "output_type": "execute_result"
    }
   ],
   "source": [
    "df_MAG_NSF1_DiffZ.rename(columns={0:'PaperID',1:'NSF_Award_Number',2:'Diff_ZScore'}, inplace=True)\n",
    "df_MAG_NSF1_DiffZ"
   ]
  },
  {
   "cell_type": "code",
   "execution_count": 97,
   "id": "e988dcf8",
   "metadata": {},
   "outputs": [],
   "source": [
    "df_MAG_NSF1_DiffZ.to_csv('Not_Drop_Duplicates_Link_MAG_NSF_ES_DiffZ-Sup.tsv', sep='\\t', index=False)"
   ]
  },
  {
   "cell_type": "code",
   "execution_count": 1,
   "id": "c52d86bb",
   "metadata": {},
   "outputs": [
    {
     "data": {
      "text/plain": [
       "0.3458093218300189"
      ]
     },
     "execution_count": 1,
     "metadata": {},
     "output_type": "execute_result"
    }
   ],
   "source": [
    "467159 / 1350915"
   ]
  },
  {
   "cell_type": "code",
   "execution_count": null,
   "id": "b439a68d",
   "metadata": {},
   "outputs": [],
   "source": []
  }
 ],
 "metadata": {
  "kernelspec": {
   "display_name": "newcv",
   "language": "python",
   "name": "newcv"
  },
  "language_info": {
   "codemirror_mode": {
    "name": "ipython",
    "version": 3
   },
   "file_extension": ".py",
   "mimetype": "text/x-python",
   "name": "python",
   "nbconvert_exporter": "python",
   "pygments_lexer": "ipython3",
   "version": "3.9.6"
  }
 },
 "nbformat": 4,
 "nbformat_minor": 5
}
